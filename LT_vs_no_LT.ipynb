{
 "cells": [
  {
   "cell_type": "code",
   "execution_count": 2,
   "id": "1cef9064",
   "metadata": {},
   "outputs": [],
   "source": [
    "import bw2io as bi # ensemble des fonctions et classes pour importer et exporter (input/output)\n",
    "import bw2data as bd # ... pour gérer les données du projet\n",
    "import bw2calc as bc # ... pour faire des opérations\n",
    "import bw2analyzer as ba # ... pour interpréter les résultats\n",
    "import pandas as pd\n",
    "import seaborn as sns\n",
    "import matplotlib.pyplot as plt"
   ]
  },
  {
   "cell_type": "code",
   "execution_count": 3,
   "id": "b92996d8",
   "metadata": {},
   "outputs": [],
   "source": [
    "bd.projects.set_current('project_ecoinvent_311')\n",
    "eidb = bd.Database('ecoinvent-3.11-cutoff')\n",
    "biodb = bd.Database('ecoinvent-3.11-biosphere')"
   ]
  },
  {
   "cell_type": "code",
   "execution_count": 6,
   "id": "abd772c2",
   "metadata": {},
   "outputs": [],
   "source": [
    "ind_no_LT= [m for m in bd.methods if m[1]==\"EF v3.1 no LT\" and \"gwp100\" in str(m).lower()][0]\n",
    "ind_LT= [m for m in bd.methods if m[1]==\"EF v3.1\" and \"gwp100\" in str(m).lower()][0]"
   ]
  },
  {
   "cell_type": "code",
   "execution_count": 7,
   "id": "c4fb134b",
   "metadata": {},
   "outputs": [],
   "source": [
    "import Bw25_personal_functions as perso\n",
    "cf_no_LT = perso.method_cfs(ind_no_LT,biodb)\n",
    "cf_LT = perso.method_cfs(ind_LT,biodb)"
   ]
  },
  {
   "cell_type": "code",
   "execution_count": 8,
   "id": "b63c5054",
   "metadata": {},
   "outputs": [
    {
     "data": {
      "text/html": [
       "<div>\n",
       "<style scoped>\n",
       "    .dataframe tbody tr th:only-of-type {\n",
       "        vertical-align: middle;\n",
       "    }\n",
       "\n",
       "    .dataframe tbody tr th {\n",
       "        vertical-align: top;\n",
       "    }\n",
       "\n",
       "    .dataframe thead th {\n",
       "        text-align: right;\n",
       "    }\n",
       "</style>\n",
       "<table border=\"1\" class=\"dataframe\">\n",
       "  <thead>\n",
       "    <tr style=\"text-align: right;\">\n",
       "      <th></th>\n",
       "      <th>Elementary flow</th>\n",
       "      <th>CF</th>\n",
       "    </tr>\n",
       "  </thead>\n",
       "  <tbody>\n",
       "    <tr>\n",
       "      <th>0</th>\n",
       "      <td>(1,1,1,2-Tetrafluoroethane, (air, low populati...</td>\n",
       "      <td>1530.0</td>\n",
       "    </tr>\n",
       "    <tr>\n",
       "      <th>1</th>\n",
       "      <td>(1,1,1,2-Tetrafluoroethane, (air, non-urban ai...</td>\n",
       "      <td>1530.0</td>\n",
       "    </tr>\n",
       "    <tr>\n",
       "      <th>2</th>\n",
       "      <td>(1,1,1,2-Tetrafluoroethane, (air,))</td>\n",
       "      <td>1530.0</td>\n",
       "    </tr>\n",
       "    <tr>\n",
       "      <th>3</th>\n",
       "      <td>(1,1,1,2-Tetrafluoroethane, (air, urban air cl...</td>\n",
       "      <td>1530.0</td>\n",
       "    </tr>\n",
       "    <tr>\n",
       "      <th>4</th>\n",
       "      <td>(1,1,1-Trichloroethane, (air, low population d...</td>\n",
       "      <td>161.0</td>\n",
       "    </tr>\n",
       "    <tr>\n",
       "      <th>...</th>\n",
       "      <td>...</td>\n",
       "      <td>...</td>\n",
       "    </tr>\n",
       "    <tr>\n",
       "      <th>179</th>\n",
       "      <td>(Trichlorofluoromethane, (air, urban air close...</td>\n",
       "      <td>6230.0</td>\n",
       "    </tr>\n",
       "    <tr>\n",
       "      <th>180</th>\n",
       "      <td>(Trifluoromethane, (air, low population densit...</td>\n",
       "      <td>14600.0</td>\n",
       "    </tr>\n",
       "    <tr>\n",
       "      <th>181</th>\n",
       "      <td>(Trifluoromethane, (air, non-urban air or from...</td>\n",
       "      <td>14600.0</td>\n",
       "    </tr>\n",
       "    <tr>\n",
       "      <th>182</th>\n",
       "      <td>(Trifluoromethane, (air,))</td>\n",
       "      <td>14600.0</td>\n",
       "    </tr>\n",
       "    <tr>\n",
       "      <th>183</th>\n",
       "      <td>(Trifluoromethane, (air, urban air close to gr...</td>\n",
       "      <td>14600.0</td>\n",
       "    </tr>\n",
       "  </tbody>\n",
       "</table>\n",
       "<p>184 rows × 2 columns</p>\n",
       "</div>"
      ],
      "text/plain": [
       "                                       Elementary flow       CF\n",
       "0    (1,1,1,2-Tetrafluoroethane, (air, low populati...   1530.0\n",
       "1    (1,1,1,2-Tetrafluoroethane, (air, non-urban ai...   1530.0\n",
       "2                  (1,1,1,2-Tetrafluoroethane, (air,))   1530.0\n",
       "3    (1,1,1,2-Tetrafluoroethane, (air, urban air cl...   1530.0\n",
       "4    (1,1,1-Trichloroethane, (air, low population d...    161.0\n",
       "..                                                 ...      ...\n",
       "179  (Trichlorofluoromethane, (air, urban air close...   6230.0\n",
       "180  (Trifluoromethane, (air, low population densit...  14600.0\n",
       "181  (Trifluoromethane, (air, non-urban air or from...  14600.0\n",
       "182                         (Trifluoromethane, (air,))  14600.0\n",
       "183  (Trifluoromethane, (air, urban air close to gr...  14600.0\n",
       "\n",
       "[184 rows x 2 columns]"
      ]
     },
     "execution_count": 8,
     "metadata": {},
     "output_type": "execute_result"
    }
   ],
   "source": [
    "cf_LT"
   ]
  },
  {
   "cell_type": "code",
   "execution_count": null,
   "id": "533d97f9",
   "metadata": {},
   "outputs": [],
   "source": [
    "# On fait un dictionnaire, et pour chaque indicateur, on compare LT/no LT, on vire les CF qui porte sur les même FE et ont la même valeur\n",
    "# Le résultat est une table à 3 colonnes : nom Flux élémentaire, valeur CF LT, valeur CF no LT, et on autorise les None dans les valeurs\n",
    "cf_delta = pd.DataFrame(columns=[nom_ind,nom_FE, val_CF_LT, val_CF_noLT])\n",
    "\n",
    "for fe_no_LT in cf_no_LT['Elementary flow'] :\n",
    "    fe_LT = [fe for fe in cf_LT['Elementary flow']]\n",
    "    if len(fe_LT) == 0 :\n",
    "        cf_delta.at[]\n",
    "    if fe in cf_LT.iloc[:,0] :\n",
    "        if cf\n"
   ]
  }
 ],
 "metadata": {
  "kernelspec": {
   "display_name": "bw25_3",
   "language": "python",
   "name": "python3"
  },
  "language_info": {
   "codemirror_mode": {
    "name": "ipython",
    "version": 3
   },
   "file_extension": ".py",
   "mimetype": "text/x-python",
   "name": "python",
   "nbconvert_exporter": "python",
   "pygments_lexer": "ipython3",
   "version": "3.12.8"
  }
 },
 "nbformat": 4,
 "nbformat_minor": 5
}
