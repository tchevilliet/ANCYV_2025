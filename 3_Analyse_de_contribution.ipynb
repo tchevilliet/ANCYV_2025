{
 "cells": [
  {
   "cell_type": "markdown",
   "id": "19ec2e5f",
   "metadata": {},
   "source": [
    "# Analyses de contributions"
   ]
  },
  {
   "cell_type": "markdown",
   "id": "afd37837",
   "metadata": {},
   "source": [
    "Nous allons réaliser sur notre exemple de béton armé les différentes analyses de contributions vues en cours. Pour rappel, nous nous appuyons sur l'article de van der Meide et al., 2025 (https://link.springer.com/article/10.1007/s11367-025-02487-y#Sec46)."
   ]
  },
  {
   "cell_type": "markdown",
   "id": "89ffb5b3",
   "metadata": {},
   "source": [
    "Le procédé étudié a été défini au TD2, il s'agit de la production d'1 m3 de béton armé type A.\n",
    "\n",
    "Béton | Flux | Procédé choisi dans ecoinvent | Région | Unité | Qté pour 1m3\n",
    ":---: | :---: | :---: | :---: | :---: | :---:\n",
    "Béton A | ciment Portland | market for cement, Portland | Europe without Switzerland | kg | 350\n",
    "Béton A | eau | market for tap water | Europe without Switzerland | kg | 175\n",
    "Béton A | sable | market for sand | Rest-of-World (RoW) | kg | 800 \n",
    "Béton A | graviers | market for gravel, crushed | Rest-of-World (RoW) | kg | 1100\n",
    "Béton A | ferraillage | market for reinforcing steel | Global | kg | 100\n",
    "Béton A | énergie | diesel, burned in building machine | Global | MJ | 14.4"
   ]
  },
  {
   "cell_type": "code",
   "execution_count": null,
   "id": "243d5e2b",
   "metadata": {},
   "outputs": [],
   "source": [
    "import bw2io as bi # ensemble des fonctions et classes pour importer et exporter (input/output)\n",
    "import bw2data as bd # ... pour gérer les données du projet\n",
    "import bw2calc as bc # ... pour faire des opérations\n",
    "import bw2analyzer as ba # ... pour interpréter les résultats\n",
    "import pandas as pd\n",
    "import seaborn as sns\n",
    "import matplotlib.pyplot as plt\n",
    "\n",
    "bd.projects.set_current('project_ecoinvent_311')\n",
    "eidb = bd.Database('ecoinvent-3.11-cutoff')\n",
    "biodb = bd.Database('ecoinvent-3.11-biosphere')\n",
    "fgdb = bd.Database('betons_armes')\n",
    "\n",
    "beton_A = fgdb.search(\"Béton A\")[0] # le procédé de béton armé\n",
    "meth = [m for m in bd.methods if 'EF v3.1' in m[1] and 'no LT' not in m[1]] # la méthode de caractérisation choisie (EF v3.1)"
   ]
  },
  {
   "cell_type": "markdown",
   "id": "2ee5ca3d",
   "metadata": {},
   "source": [
    "Dans cette séance, nous allons nous intéresser à l'indicateur de potentiel de réchauffement climatique à 100 ans, que l'on isole donc dans une variable."
   ]
  },
  {
   "cell_type": "code",
   "execution_count": null,
   "id": "548ae454",
   "metadata": {},
   "outputs": [],
   "source": [
    "gwp100 = [ind for ind in meth if 'GWP100' in str(ind) and 'biogenic' not in str(ind) and 'fossil' not in str(ind) and 'land' not in str(ind)][0]"
   ]
  },
  {
   "cell_type": "markdown",
   "id": "8a5b171d",
   "metadata": {},
   "source": [
    "## AC directe"
   ]
  },
  {
   "cell_type": "markdown",
   "id": "0235f547",
   "metadata": {},
   "source": [
    "### Calcul de la matrice de contribution\n",
    "\n",
    "Afin de réaliser des analyses de contribution directes, on calcule dans ce qui suit des matrices de contribution. Pour cela, on réalise l'ACV du béton A :"
   ]
  },
  {
   "cell_type": "code",
   "execution_count": null,
   "id": "b2718e97",
   "metadata": {},
   "outputs": [],
   "source": [
    "lca = bc.LCA(demand = {beton_A : 1.0},method= gwp100)\n",
    "lca.lci()\n",
    "lca.lcia()\n",
    "s=lca.score\n",
    "s"
   ]
  },
  {
   "cell_type": "code",
   "execution_count": null,
   "id": "0304704f",
   "metadata": {},
   "outputs": [],
   "source": [
    "contrib_mat = lca.characterized_inventory # On récupère la matrice d'inventaire caractérisé de brightway, qui est la matrice de contribution\n",
    "print(contrib_mat)"
   ]
  },
  {
   "cell_type": "markdown",
   "id": "c31af06d",
   "metadata": {},
   "source": [
    "### AC des flux élémentaires désagrégés"
   ]
  },
  {
   "cell_type": "markdown",
   "id": "10a0f84a",
   "metadata": {},
   "source": [
    " AC de chaque flux élémentaire de chaque procédé à l'indicateur étudié"
   ]
  },
  {
   "cell_type": "markdown",
   "id": "76f88c32",
   "metadata": {},
   "source": [
    "On affiche d'abord un tableau de contribution avec un cut-off à 1% :"
   ]
  },
  {
   "cell_type": "code",
   "execution_count": null,
   "id": "ae5cc1bd",
   "metadata": {},
   "outputs": [],
   "source": [
    "# fonction intégrée de brightway qui range les résultats dans un tableau\n",
    "h_df = lca.to_dataframe(\n",
    "    matrix_label='characterized_inventory', # on veut les valeurs de la matrice de contribution\n",
    "    cutoff_mode='fraction', # on va utiliser un cut-off qui sera une fraction du score d'impact\n",
    "    cutoff=0.01 # on réalise le cut off à 1%\n",
    "    )\n",
    "\n",
    "h_df.insert(loc=3,column='relativ_amount',value=h_df['amount']/s)\n",
    "h_df.insert(loc=4,column='cell_name',value=h_df['row_name'] + \"-\" + h_df['col_name'])\n",
    "\n",
    "h_df"
   ]
  },
  {
   "cell_type": "markdown",
   "id": "79aea78a",
   "metadata": {},
   "source": [
    "#### Exercice"
   ]
  },
  {
   "cell_type": "markdown",
   "id": "70f43852",
   "metadata": {},
   "source": [
    "Notre cut-off est-il suffisamment bas pour que notre tableau de flux élémentaires soit à peu près exhaustif sur les contributeurs ? \n"
   ]
  },
  {
   "cell_type": "markdown",
   "id": "2691473b",
   "metadata": {},
   "source": [
    "#### Correction"
   ]
  },
  {
   "cell_type": "markdown",
   "id": "ce04b1d0",
   "metadata": {},
   "source": [
    "On peut sommer les contributions des flux du tableau et les comparer au score total :"
   ]
  },
  {
   "cell_type": "code",
   "execution_count": null,
   "id": "547cc9fe",
   "metadata": {},
   "outputs": [],
   "source": [
    "reste = s-sum(h_df['amount'])\n",
    "print(\"Le score d'impact total est de\",f\"{s:.0f}\\n\",f\"La somme des contributions inférieures au cut-off est de {reste:.0f}, soit {reste*100/s :.0f}% du score total\")\n"
   ]
  },
  {
   "cell_type": "markdown",
   "id": "c6c34fa9",
   "metadata": {},
   "source": [
    "#### Suite du TD"
   ]
  },
  {
   "cell_type": "markdown",
   "id": "156d564e",
   "metadata": {},
   "source": [
    "On peut désormais tracer les contributions des flux élémentaires désagrégés à l'indicateur :"
   ]
  },
  {
   "cell_type": "code",
   "execution_count": null,
   "id": "b175be79",
   "metadata": {},
   "outputs": [],
   "source": [
    "fig, ax = plt.subplots()\n",
    "sns.barplot(data=h_df,x = 'cell_name',y = 'relativ_amount',errorbar=None)\n",
    "\n",
    "plt.xticks(rotation=45, ha='right');\n"
   ]
  },
  {
   "cell_type": "markdown",
   "id": "c92bddb0",
   "metadata": {},
   "source": [
    "### AC des flux élémentaires agrégés"
   ]
  },
  {
   "cell_type": "markdown",
   "id": "b6f76c13",
   "metadata": {},
   "source": [
    "AC des flux élémentaires agrégés sur l'ensemble des procédés"
   ]
  },
  {
   "cell_type": "markdown",
   "id": "46db8617",
   "metadata": {},
   "source": [
    "On stocke la matrice de contribution dans une variable et on regarde à quoi elle ressemble :"
   ]
  },
  {
   "cell_type": "code",
   "execution_count": null,
   "id": "930e111d",
   "metadata": {},
   "outputs": [],
   "source": [
    "contrib_mat =lca.characterized_inventory # matrice d'inventaire caractérisé ie matrice de contribution\n",
    "print(contrib_mat)"
   ]
  },
  {
   "cell_type": "markdown",
   "id": "3c6bc0ea",
   "metadata": {},
   "source": [
    "On peut maintenant sommer les lignes et/ou les colonnes de la matrice pour agréger les contributions par flux élémentaire et/ou procédé."
   ]
  },
  {
   "cell_type": "code",
   "execution_count": null,
   "id": "19cfe581",
   "metadata": {},
   "outputs": [],
   "source": [
    "contrib_EF = contrib_mat.sum(axis=1) # On fait la somme de chacune des lignes pour avoir la contribution des EF agrégés sur l'ensemble des procédés\n",
    "print(f\"Dimensions de la matrice : {contrib_EF.shape}\")\n",
    "print(f\"Somme des éléments de la matrice : {contrib_EF[:,0].sum() : .0f}\") # On vérifie que la somme des éléments vaut bien le score total\n",
    "nodes = [bd.get_node(id = i) for i in lca.dicts.biosphere.keys()] # On crée la liste des noeuds (flux élémentaires) à partir de leurs indices\n",
    "contrib_EF_dict = {str(nodes[i]):float(contrib_EF[i,0]) for i in range(len(nodes))} # On crée un dictionnaire avec le nom des EF pour clés et la contribution en valeur\n",
    "print(f\"Somme des éléments du dictionnaire : {sum(contrib_EF_dict.values()) : .0f}\") # On vérifie que la somme des éléments vaut bien le score total"
   ]
  },
  {
   "cell_type": "markdown",
   "id": "2625410b",
   "metadata": {},
   "source": [
    "On peut désormais tracer les contributions, en se fixant un cut-off :"
   ]
  },
  {
   "cell_type": "code",
   "execution_count": null,
   "id": "9c80786c",
   "metadata": {},
   "outputs": [],
   "source": [
    "cutoff = 0.01 # en pourcentage du score d'impact\n",
    "fig, ax = plt.subplots()\n",
    "sns.barplot( { k : v for k,v in contrib_EF_dict.items() if v > s*cutoff},errorbar=None) # On fait ici une compréhension de dictionnaire pour ne tracer que les valeurs au dessus du cut-off\n",
    "plt.xticks(rotation=45, ha='right');"
   ]
  },
  {
   "cell_type": "code",
   "execution_count": null,
   "id": "26b8e284",
   "metadata": {},
   "outputs": [],
   "source": [
    "reste = s-sum({ k : v for k,v in contrib_EF_dict.items() if v > s*cutoff}.values())\n",
    "print(\"reste : \",reste,\"\\n\", \"reste relatif : \", reste/s) "
   ]
  },
  {
   "cell_type": "markdown",
   "id": "2b51b21b",
   "metadata": {},
   "source": [
    "On peut se donner un élément de comparaison : "
   ]
  },
  {
   "cell_type": "markdown",
   "id": "621bcf9c",
   "metadata": {},
   "source": [
    "Regardons la masse de méthane dans notre inventaire et comparons le produit de celle-ci avec un facteur de caractérisation usuel (~29 kgCO2 eq / kg CH4). On veut vérifier que le score d'impact calculé correspond à une caractérisation \"faite à la main\".\n",
    "\n",
    "Pour trouver la masse, on fait le même travail que précédemment, mais avec la matrice d'inventaire et non de contribution."
   ]
  },
  {
   "cell_type": "code",
   "execution_count": null,
   "id": "b404d2c5",
   "metadata": {},
   "outputs": [],
   "source": [
    "G =lca.inventory # matrice d'inventaire\n",
    "\n",
    "G_EF = G.sum(axis=1) # On fait la somme de chacune des lignes pour avoir la contribution à l'inventaire des EF agrégés sur l'ensemble des procédés\n",
    "nodes = [bd.get_node(id = i) for i in lca.dicts.biosphere.keys()] # On crée la liste des noeuds () à partir de leur indice\n",
    "G_EF = {str(nodes[i]) : float(G_EF[i,0]) for i in range(len(nodes))} # On crée un dictionnaire avec le nom des EF pour clés et la contribution en valeur\n",
    "G_EF = { k : v for k,v in G_EF.items() if v!=0} # On supprime les valeurs nulles"
   ]
  },
  {
   "cell_type": "markdown",
   "id": "69e6c0ea",
   "metadata": {},
   "source": [
    "On affiche désormais toutes les quantités de méthane de notre inventaire :"
   ]
  },
  {
   "cell_type": "code",
   "execution_count": null,
   "id": "1c563b4b",
   "metadata": {},
   "outputs": [],
   "source": [
    "methanes = {k : G_EF[k] for k in G_EF.keys() if 'Methane' in str(k)}\n",
    "print(methanes)\n",
    "contrib_methanes = {k : contrib_EF_dict[k] for k in contrib_EF_dict.keys() if 'Methane' in str(k)}\n",
    "methanes"
   ]
  },
  {
   "cell_type": "code",
   "execution_count": null,
   "id": "31307f9a",
   "metadata": {},
   "outputs": [],
   "source": [
    "masse_methane = sum(methanes.values())\n",
    "CF_usuel = 29\n",
    "resultat_coindetable = masse_methane*CF_usuel\n",
    "resultat_brightway = sum(contrib_methanes.values())\n",
    "print('coin de table : ',resultat_coindetable,'\\n','brightway : ',resultat_brightway)"
   ]
  },
  {
   "cell_type": "markdown",
   "id": "a8821ce9",
   "metadata": {},
   "source": [
    "Le résultat attendu est proche de celui obtenu. Vérifions le facteur de caractérisation utilisé par Brightway pour notre méthode."
   ]
  },
  {
   "cell_type": "code",
   "execution_count": null,
   "id": "74e2f5c4",
   "metadata": {},
   "outputs": [],
   "source": [
    "methane_ids = {node : node.id for node in biodb if node['name'] == 'Methane, fossil' } # On regarde l'indice des noeuds correspondant au méthane\n",
    "methane_ids\n"
   ]
  },
  {
   "cell_type": "code",
   "execution_count": null,
   "id": "40f98548",
   "metadata": {},
   "outputs": [],
   "source": [
    "C = lca.characterization_matrix # On regarde dans la matrice de caractérisation la valeur qui nous intéresse\n",
    "C[lca.dicts.biosphere[list(methane_ids.values())[3]],lca.dicts.biosphere[list(methane_ids.values())[3]]]\n"
   ]
  },
  {
   "cell_type": "markdown",
   "id": "3bbe571a",
   "metadata": {},
   "source": [
    "### AC des procédés"
   ]
  },
  {
   "cell_type": "markdown",
   "id": "64bfe087",
   "metadata": {},
   "source": [
    "Pour trouver la contribution directe de chacun des procédés, la démarche est exactement la même, mais en agrégeant suivant les colonnes."
   ]
  },
  {
   "cell_type": "code",
   "execution_count": null,
   "id": "e91e3375",
   "metadata": {},
   "outputs": [],
   "source": [
    "contrib_process = contrib_mat.sum(axis=0)\n",
    "print(f\"Dimensions de la matrice : {contrib_process.shape}\")\n",
    "print(f\"Somme des éléments de la matrice : {contrib_process[0,:].sum() : .0f}\") # On vérifie que la somme des éléments vaut bien le score total\n",
    "nodes = [bd.get_node(id = i) for i in lca.dicts.activity.keys()] # On crée la liste des noeuds (ici des procédés) à partir de leurs indices\n",
    "contrib_process_dict = {nodes[i]:float(contrib_process[0,i]) for i in range(len(nodes))} # On crée un dictionnaire avec le nom des procédés pour clés et la contribution en valeur\n",
    "print(f\"Somme des éléments du dictionnaire : {sum(contrib_EF_dict.values()) : .0f}\") # On vérifie que la somme des éléments vaut bien le score total"
   ]
  },
  {
   "cell_type": "markdown",
   "id": "42278432",
   "metadata": {},
   "source": [
    "On peut désormais tracer les contributions, en se fixant un cut-off :"
   ]
  },
  {
   "cell_type": "code",
   "execution_count": null,
   "id": "f0fd7953",
   "metadata": {},
   "outputs": [],
   "source": [
    "cutoff = 0.01 # en pourcentage du score d'impact\n",
    "fig, ax = plt.subplots()\n",
    "sns.barplot( { k : v/s for k,v in contrib_process_dict.items() if v > s*cutoff},errorbar=None) # On fait ici une compréhension de dictionnaire pour ne tracer que les valeurs au dessus du cut-off\n",
    "plt.xticks(rotation=45, ha='right');"
   ]
  },
  {
   "cell_type": "markdown",
   "id": "da84569e",
   "metadata": {},
   "source": [
    "### AC de groupes de procédés"
   ]
  },
  {
   "cell_type": "markdown",
   "id": "131f9948",
   "metadata": {},
   "source": [
    "On peut grouper les procédés et évaluer la contribution directe de ces groupes aux indicateurs d'impacts. Le crtière pour les grouper est libre, il est courant de regrouper les procédés par étape du cycle de vie, ou par secteur de l'économie."
   ]
  },
  {
   "cell_type": "markdown",
   "id": "cb04daee",
   "metadata": {},
   "source": [
    "On commence par reprendre le dicitonnaire des contributions par procédés, et on agrège selon le critère du secteur économique."
   ]
  },
  {
   "cell_type": "code",
   "execution_count": null,
   "id": "78b2fafe",
   "metadata": {},
   "outputs": [],
   "source": [
    "filtered_contrib_process_dict = { k : v for k,v in contrib_process_dict.items() if 'classifications' in list(k.keys())} # On ne garde que les activités qui ont une classification (deux activités posent problèmes seulement)\n",
    "sectors = set([act['classifications'][0][1] for act in list(filtered_contrib_process_dict.keys())]) # On détermine l'ensemble des secteurs, avec une fois chaque secteur\n",
    "contrib_sectors = {sector : sum([i[1] for i in filtered_contrib_process_dict.items() if i[0]['classifications'][0][1]==sector]) for sector in sectors} # Pour chaque secteur, on somme la liste des contributions qui en font partie"
   ]
  },
  {
   "cell_type": "markdown",
   "id": "879cc4f3",
   "metadata": {},
   "source": [
    "On vérifie que la somme des contributions vaut le score total :"
   ]
  },
  {
   "cell_type": "code",
   "execution_count": null,
   "id": "7b44d999",
   "metadata": {},
   "outputs": [],
   "source": [
    "print(f\"Somme des éléments du dictionnaire : {sum(contrib_sectors.values()) : .0f}\")"
   ]
  },
  {
   "cell_type": "markdown",
   "id": "52d5431f",
   "metadata": {},
   "source": [
    "On peut désormais tracer les contributions, en se fixant un cut-off :"
   ]
  },
  {
   "cell_type": "code",
   "execution_count": null,
   "id": "8b437f76",
   "metadata": {},
   "outputs": [],
   "source": [
    "cutoff = 0.01 # en pourcentage du score d'impact\n",
    "\n",
    "fig, ax = plt.subplots()\n",
    "sns.barplot( { k : v/s for k,v in contrib_sectors.items() if v > s*cutoff},errorbar=None) # On fait ici une compréhension de dictionnaire pour ne tracer que les valeurs au dessus du cut-off\n",
    "plt.xticks(rotation=45, ha='right');"
   ]
  },
  {
   "cell_type": "markdown",
   "id": "1e0edeb8",
   "metadata": {},
   "source": [
    "Nous nous sommes ici servis du fait que les secteurs de l'économie sont une donnée présente dans les procédés ecoinvent. Si vous souhaitez grouper les activités que vous créez par étapes du cycle de vie, pensez à l'indiquer en métadonnées, dans un champ que vous pouvez créer, ou bien faite des macro-procédés par étape de cycle de vie."
   ]
  },
  {
   "cell_type": "markdown",
   "id": "4d8b6f3b",
   "metadata": {},
   "source": [
    "## AC indirecte"
   ]
  },
  {
   "cell_type": "markdown",
   "id": "721a5514",
   "metadata": {},
   "source": [
    "### AC des procédés de premier niveau"
   ]
  },
  {
   "cell_type": "markdown",
   "id": "5523c83a",
   "metadata": {},
   "source": [
    "Pour avoir les contributions des procédés de premier niveau, on réalise successivement l'ACV de chacun d'eux. On récupère donc les activités avec lesquelles notre béton a des échanges (flux intermédiaires)."
   ]
  },
  {
   "cell_type": "code",
   "execution_count": null,
   "id": "035a6bab",
   "metadata": {},
   "outputs": [],
   "source": [
    "first_tier_processes ={p.input : p.amount for p in list(beton_A.technosphere())} # On récupère les identifiants des procédés et la valeurs de flux intermédiaires associés"
   ]
  },
  {
   "cell_type": "code",
   "execution_count": null,
   "id": "b2906e44",
   "metadata": {},
   "outputs": [],
   "source": [
    "contrib_first_processes = {}\n",
    "for p,a in first_tier_processes.items() :\n",
    "    lca = bc.LCA(demand={p : a},method=gwp100)\n",
    "    lca.lci()\n",
    "    lca.lcia()\n",
    "    contrib_first_processes[p['name']] = lca.score"
   ]
  },
  {
   "cell_type": "code",
   "execution_count": null,
   "id": "11837092",
   "metadata": {},
   "outputs": [],
   "source": [
    "cutoff = 0.005 # en pourcentage du score d'impact\n",
    "\n",
    "fig, ax = plt.subplots()\n",
    "sns.barplot( { k : v/s for k,v in contrib_first_processes.items() if v > s*cutoff},errorbar=None) # On fait ici une compréhension de dictionnaire pour ne tracer que les valeurs au dessus du cut-off\n",
    "plt.xticks(rotation=45, ha='right');"
   ]
  },
  {
   "cell_type": "markdown",
   "id": "405b0c58",
   "metadata": {},
   "source": [
    "Et si on changeait le cut-off ?"
   ]
  },
  {
   "cell_type": "markdown",
   "id": "25304834",
   "metadata": {},
   "source": [
    "On peut également tracer un diagramme en barres empilées :"
   ]
  },
  {
   "cell_type": "code",
   "execution_count": null,
   "id": "65299393",
   "metadata": {},
   "outputs": [],
   "source": [
    "df_first_processes = pd.DataFrame(contrib_first_processes,index=[str(gwp100[-1])])\n",
    "df_first_processes.plot(kind='bar', stacked=True)\n",
    "plt.legend(loc='center left', bbox_to_anchor=(1.0, 0.5))\n",
    "plt.xticks(rotation=0, ha='center');"
   ]
  },
  {
   "cell_type": "markdown",
   "id": "31427957",
   "metadata": {},
   "source": []
  }
 ],
 "metadata": {
  "kernelspec": {
   "display_name": "bw25_3",
   "language": "python",
   "name": "python3"
  },
  "language_info": {
   "codemirror_mode": {
    "name": "ipython",
    "version": 3
   },
   "file_extension": ".py",
   "mimetype": "text/x-python",
   "name": "python",
   "nbconvert_exporter": "python",
   "pygments_lexer": "ipython3",
   "version": "3.12.8"
  }
 },
 "nbformat": 4,
 "nbformat_minor": 5
}
