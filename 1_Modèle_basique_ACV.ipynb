{
 "cells": [
  {
   "cell_type": "markdown",
   "id": "bab68cd5",
   "metadata": {},
   "source": [
    "# Modèle basique pour analyse de l'inventaire"
   ]
  },
  {
   "cell_type": "markdown",
   "id": "c3370d64",
   "metadata": {},
   "source": [
    "Source : Heijungs, R., Suh, S., 2002. The basic model for inventory analysis, in: Tukker, A. (Ed.), The computational structure of Life Cycle Assessment. Kluver Academic Publisher, London, pp. 11-28."
   ]
  },
  {
   "cell_type": "markdown",
   "id": "be0a5353",
   "metadata": {},
   "source": [
    "Hypothèses simplificatrices : \n",
    "- Linéarité (on verra de quoi)\n",
    "- Régime stationnaire de l'économie"
   ]
  },
  {
   "cell_type": "markdown",
   "id": "211d4c7e",
   "metadata": {},
   "source": [
    "Nous pouvons maintenant utiliser les résultats de l'algèbre linéaire. Nous importons le package numpy pour faire du calcul matriciel en python."
   ]
  },
  {
   "cell_type": "code",
   "execution_count": 1,
   "id": "77877ec1",
   "metadata": {},
   "outputs": [],
   "source": [
    "import numpy as np"
   ]
  },
  {
   "cell_type": "markdown",
   "id": "60891062",
   "metadata": {
    "tags": []
   },
   "source": [
    "## 1.Représentation des procédés et des flux"
   ]
  },
  {
   "cell_type": "markdown",
   "id": "96e50df0",
   "metadata": {},
   "source": [
    "Premier exemple de procédé : production d'électricité.\n",
    "On suppose que produire 10 kWh d'électricité consomme 2 litres d'essence et émet 1 kg de dioxyde de carbone et 0,1 kg de dioxyde de soufre.\n",
    "\n",
    "![](Images/Process_basic_1.png)\n"
   ]
  },
  {
   "cell_type": "markdown",
   "id": "f55b6dbc",
   "metadata": {},
   "source": [
    "Choix d'une base :\\\n",
    "\\\n",
    "$\\begin{pmatrix}\n",
    "\\text{litre d'essence} \\\\\n",
    "\\text{kWh d'électricité} \\\\\n",
    "\\text{kg de dioxyde de carbone} \\\\\n",
    "\\text{kg de dioxyde de soufre}\n",
    "\\end{pmatrix}$\n",
    "\n",
    "\n",
    "\n",
    "\n",
    "Coordonées du procédé $p_1$ :\\\n",
    "\\\n",
    "$p_1=\\begin{pmatrix}\n",
    "-2 \\\\\n",
    "10 \\\\\n",
    "1 \\\\\n",
    "0.1\n",
    "\\end{pmatrix}$"
   ]
  },
  {
   "cell_type": "markdown",
   "id": "b2f270f0",
   "metadata": {},
   "source": [
    "Convention : valeur négative pour les flux entrants, valeur positive pour les flux sortants"
   ]
  },
  {
   "cell_type": "markdown",
   "id": "de71cb7e",
   "metadata": {},
   "source": [
    "Deuxième exemple de procédé : production d'essence.\n",
    "On suppose que produire 100l d'essence consomme 50 litres de pétrole et émet 10 kg de dioxyde de carbone et 2 kg de dioxyde de soufre.\n",
    "\n",
    "![](Images/Process_basic_2.png)\n"
   ]
  },
  {
   "cell_type": "markdown",
   "id": "24cdf795",
   "metadata": {},
   "source": [
    "Agrandissement de la base :\\\n",
    "\\\n",
    "$\\begin{pmatrix}\n",
    "\\text{litre d'essence} \\\\\n",
    "\\text{kWh d'électricité} \\\\\n",
    "\\text{kg de dioxyde de carbone} \\\\\n",
    "\\text{kg de dioxyde de soufre} \\\\\n",
    "\\text{litre de pétrole}\n",
    "\\end{pmatrix}$\n",
    "\n",
    "\n",
    "Nouvelle expression du procédé $p_1$ :\n",
    "\n",
    "$p_1=\\begin{pmatrix}\n",
    "-2 \\\\\n",
    "10 \\\\\n",
    "1 \\\\\n",
    "0.1\\\\\n",
    "0\n",
    "\\end{pmatrix}$\n",
    "\n",
    "Coordonnées du procédé $p_2$ :\n",
    "\n",
    "$p_2=\\begin{pmatrix}\n",
    "100 \\\\\n",
    "0 \\\\\n",
    "10 \\\\\n",
    "2\\\\\n",
    "-50\n",
    "\\end{pmatrix}$\n"
   ]
  },
  {
   "cell_type": "markdown",
   "id": "6f45a613",
   "metadata": {},
   "source": [
    "On définit la matrice des procédés :\\\n",
    "$P =\n",
    " \\begin{pmatrix}\n",
    "p_1 \\, | \\, p_2\n",
    "\\end{pmatrix}\n",
    "=\n",
    "\\begin{pmatrix}\n",
    "-2 & 100 \\\\\n",
    "10 & 0 \\\\\n",
    "1 & 10\\\\\n",
    "0.1 & 2\\\\\n",
    "0 & -50\n",
    "\\end{pmatrix}$\n"
   ]
  },
  {
   "cell_type": "markdown",
   "id": "b5eb5fbf",
   "metadata": {},
   "source": [
    "On sépare la matrice en 2 parties :\n",
    "- la première représente les flux au sein de la technosphère : ce sont les flux économiques ou intermédiaires ;\n",
    "- la seconde représente les flux de/vers la biosphère : ce sont les flux environnementaux ou élémentaires (ou interventions).\n",
    "\n",
    "$P =\n",
    " \\begin{pmatrix}\n",
    "A\\\\ \\hline\n",
    "B\n",
    "\\end{pmatrix}\n",
    "=\n",
    "\\begin{pmatrix}\n",
    "-2 & 100 \\\\\n",
    "10 & 0 \\\\\\hline\n",
    "1 & 10\\\\ \n",
    "0.1 & 2\\\\\n",
    "0 & -50\n",
    "\\end{pmatrix}$\n",
    "\n",
    "On appelle A la matrice technologique et B la matrice d'intervention.\n"
   ]
  },
  {
   "cell_type": "markdown",
   "id": "6962da7c",
   "metadata": {},
   "source": [
    "### **EXERCICE 1**"
   ]
  },
  {
   "cell_type": "markdown",
   "id": "208ec88b",
   "metadata": {},
   "source": [
    "Adélaïde souhaite passer ses vacances à Athènes (à 2942 km par la route). Elle refuse de prendre l'avion.\n",
    "Elle dispose d'une voiture hybride dont le moteur thermique est malencontreusement cassé. Sa voiture consomme donc comme une voiture électrique : 17 kWh d'électricité pour 100 km.\n",
    "\n",
    "Définir une unité fonctionnelle, un flux de référence et le vecteur de demande finale associé.\n",
    "A la main, calculer l'inventaire, c'est-à-dire l'ensemble des extractions depuis la biosphère et des émissions vers la biosphère.\n",
    "\n"
   ]
  },
  {
   "cell_type": "markdown",
   "id": "3cbe40e5-3c56-454b-8971-ef14cbe8d602",
   "metadata": {
    "tags": []
   },
   "source": [
    "#### Correction"
   ]
  },
  {
   "cell_type": "markdown",
   "id": "3c78ee7d",
   "metadata": {
    "jp-MarkdownHeadingCollapsed": true,
    "tags": []
   },
   "source": [
    "Exemple d'unité fonctionnelle : \"Faire rouler la voiture hybride d'Adélaïde sur 5884 km\".\\\n",
    "Exemple de flux de référence répondant à la demande : \"$1000 kWh$ d'électricité\".\n",
    "\n",
    "Vecteur de demande finale associé: $f=\\begin{pmatrix}\n",
    "0\\\\\n",
    "1000\n",
    "\\end{pmatrix}$\n",
    "\n",
    "On peut maintenant réaliser l'inventaire :\n",
    "\n",
    "1. On identifie, pour chaque procédé, les flux élémentaires (en rouge) et intermédiaires (en bleu).\n",
    "\n",
    "![](Images/Colored_process_basic_1.png)\n",
    "![](Images/Colored_process_basic_2.png)\n",
    "\n",
    "2. On part du vecteur de demande finale et, tel un saumon, on remonte le courant. On multiplie le procédé $p_1$  par un facteur *ad hoc* pour satisfaire la demande. On multiplie le procédé $p_2$  par un autre facteur pour satisfaire les entrants requis par $p_1$. \n",
    "\n",
    "![t](Images/Correc_3.png)\n",
    "\n",
    "3. L'inventaire est :\\\n",
    "$g=\\begin{pmatrix}\n",
    "120\\\\\n",
    "1\\\\\n",
    "-100\n",
    "\\end{pmatrix}$"
   ]
  },
  {
   "cell_type": "markdown",
   "id": "f06fb1c1-afbe-4ebd-ab3e-1f2cdbd54e9c",
   "metadata": {
    "tags": []
   },
   "source": [
    "## 2.Problème de l'inventaire et méthode de résolution"
   ]
  },
  {
   "cell_type": "markdown",
   "id": "79032f6f-1c54-4f64-a26b-a8b8c1204594",
   "metadata": {},
   "source": [
    "![](Images/eq_bilan.png)"
   ]
  },
  {
   "cell_type": "markdown",
   "id": "40534f90-1bdc-46ba-bfc1-9a82f0b61cdc",
   "metadata": {},
   "source": [
    "Le problème s'écrit sous forme matricielle :\n",
    "\n",
    "$ \n",
    "Ps =\\begin{pmatrix}\n",
    "f\\\\ \\hline\n",
    "g\n",
    "\\end{pmatrix}\n",
    "$\n",
    "\n",
    "ou\n",
    "\n",
    "$\n",
    "\\begin{pmatrix}\n",
    "A\\\\ \\hline\n",
    "B\n",
    "\\end{pmatrix}s =\n",
    "\\begin{pmatrix}\n",
    "f\\\\ \\hline\n",
    "g\n",
    "\\end{pmatrix}$\n",
    "\n",
    "soit \n",
    "\n",
    "$\\begin{cases}\n",
    "As &=& f \\\\\n",
    "Bs &=& g\n",
    "\\end{cases}\n",
    "$"
   ]
  },
  {
   "cell_type": "markdown",
   "id": "c39f4c48-fce5-4265-9d36-1104eed3d4cb",
   "metadata": {},
   "source": [
    "La méthode de résolution est la suivante :\n",
    "\n",
    "1. On calcule le vecteur de mise à l'échelle $s$.\n",
    "2. On en déduit l'inventaire des flux élémentaires $g$."
   ]
  },
  {
   "cell_type": "markdown",
   "id": "3e898e5a-9ffc-409b-bbb9-208b99fd70a4",
   "metadata": {},
   "source": [
    "### Exemple en python"
   ]
  },
  {
   "cell_type": "markdown",
   "id": "93a828da-b2d4-4160-b5c8-d6bf12dc40b9",
   "metadata": {},
   "source": [
    "On définit la matrice technologique $A$ et le vecteur de demande finale $f$:"
   ]
  },
  {
   "cell_type": "code",
   "execution_count": 2,
   "id": "fb801d7f-693d-47c1-b9ab-ca7ec28cd70f",
   "metadata": {},
   "outputs": [
    {
     "name": "stdout",
     "output_type": "stream",
     "text": [
      "Matrice technologique A\n",
      " [[ -2. 100.]\n",
      " [ 10.   0.]]\n",
      "Vecteur de demande finale f \n",
      " [[   0.]\n",
      " [1000.]]\n"
     ]
    }
   ],
   "source": [
    "A = np.matrix([[-2., 100.],[10., 0.]]) \n",
    "print('Matrice technologique A\\n', A)\n",
    "f = np.matrix([[0.],[1000.]])\n",
    "print('Vecteur de demande finale f \\n', f)"
   ]
  },
  {
   "cell_type": "markdown",
   "id": "d0269d3f-2305-4008-a532-d8afa18aaa42",
   "metadata": {},
   "source": [
    "On vérifie que $A$ est inversible :"
   ]
  },
  {
   "cell_type": "code",
   "execution_count": 3,
   "id": "9ad23854-cc1f-467b-a2dd-8e5a2166eb5d",
   "metadata": {},
   "outputs": [
    {
     "data": {
      "text/plain": [
       "-1000.0000000000007"
      ]
     },
     "execution_count": 3,
     "metadata": {},
     "output_type": "execute_result"
    }
   ],
   "source": [
    "np.linalg.det(A)"
   ]
  },
  {
   "cell_type": "markdown",
   "id": "f1bea6ba-5ed6-4975-8610-31ad3de3d1e7",
   "metadata": {},
   "source": [
    "On calcule le vecteur $s=A^{-1}f$:"
   ]
  },
  {
   "cell_type": "code",
   "execution_count": 4,
   "id": "275a182e-a08f-472c-a924-1afa6c848cf3",
   "metadata": {},
   "outputs": [
    {
     "name": "stdout",
     "output_type": "stream",
     "text": [
      "Vecteur de mise à l'échelle s\n",
      " [[100.]\n",
      " [  2.]]\n"
     ]
    }
   ],
   "source": [
    "s= A.getI()*f\n",
    "print(\"Vecteur de mise à l'échelle s\\n\",s)"
   ]
  },
  {
   "cell_type": "markdown",
   "id": "aa902a10-f233-49b4-a4bc-884afc66063f",
   "metadata": {},
   "source": [
    "Maintenant on définit la matrice environnementale $B$ :"
   ]
  },
  {
   "cell_type": "code",
   "execution_count": 5,
   "id": "2147df05-cbfa-4ea9-97e8-7cbe822ea653",
   "metadata": {},
   "outputs": [
    {
     "name": "stdout",
     "output_type": "stream",
     "text": [
      "Matrice environnementale B\n",
      " [[  1.   10. ]\n",
      " [  0.1   2. ]\n",
      " [  0.  -50. ]]\n"
     ]
    }
   ],
   "source": [
    "B = np.matrix([[1., 10.],[0.1, 2.],[0, -50]]) \n",
    "print('Matrice environnementale B\\n', B)"
   ]
  },
  {
   "cell_type": "markdown",
   "id": "244ab18d-3053-4078-8f73-b7c6a7510e21",
   "metadata": {},
   "source": [
    "Finalement, on déduit l'inventaire $g$ :"
   ]
  },
  {
   "cell_type": "code",
   "execution_count": 6,
   "id": "46dba1c3-4167-4494-ba71-e2cd0bb6fb34",
   "metadata": {},
   "outputs": [
    {
     "name": "stdout",
     "output_type": "stream",
     "text": [
      "Inventaire g\n",
      " [[ 120.]\n",
      " [  14.]\n",
      " [-100.]]\n"
     ]
    }
   ],
   "source": [
    "g= B*s\n",
    "print(\"Inventaire g\\n\",g)"
   ]
  },
  {
   "cell_type": "markdown",
   "id": "50ba1583-bf6d-40fa-ad7b-2aa16fdb2d6e",
   "metadata": {
    "tags": []
   },
   "source": [
    "### **EXERCICE 2**"
   ]
  },
  {
   "cell_type": "markdown",
   "id": "e7d99cfa-cf86-4035-a9b2-3285ae073614",
   "metadata": {},
   "source": [
    "Même unité fonctionnelle : \"Faire rouler la voiture hybride d'Adélaïde sur 5884 km\".\\\n",
    "Après réparation, la voiture consomme désormais 400 litres d'essence et 500 kWh pour faire cette distance.\n",
    "\n",
    "Calculer l'inventaire. La réparation a-t-elle amélioré les choses ?"
   ]
  },
  {
   "cell_type": "markdown",
   "id": "d5e4a8eb-ec49-4875-a188-e955e5512535",
   "metadata": {
    "tags": []
   },
   "source": [
    "#### Correction"
   ]
  },
  {
   "cell_type": "code",
   "execution_count": 7,
   "id": "26cdd71f-116c-4afe-ae2f-b9a51dc793b0",
   "metadata": {},
   "outputs": [
    {
     "name": "stdout",
     "output_type": "stream",
     "text": [
      "Inventaire g\n",
      " [[ 100.]\n",
      " [  15.]\n",
      " [-250.]]\n"
     ]
    }
   ],
   "source": [
    "f = np.matrix([[400.],[500.]])\n",
    "g= B*A.getI()*f\n",
    "print(\"Inventaire g\\n\",g)"
   ]
  },
  {
   "cell_type": "markdown",
   "id": "e5ac26ae-7cfa-44ea-9989-31f140e6ac70",
   "metadata": {},
   "source": [
    "## 3.Caractérisation de l'inventaire"
   ]
  },
  {
   "cell_type": "markdown",
   "id": "9090f15f-0211-4b6a-af52-d76d37c82c1f",
   "metadata": {
    "tags": []
   },
   "source": [
    "Nous n'avons pas encore calculé d'impacts environnementaux ! Pour l'instant, nous avons fait de l'économie ($f$, $A$) et de la comptabilité de flux ($B$) pour aboutir à l'inventaire ($g$). Quels sont les impacts environnementaux causés par les extractions et émissions $g$ ?"
   ]
  },
  {
   "cell_type": "markdown",
   "id": "010698f2-e57e-49f8-8df2-17c962c11cf6",
   "metadata": {},
   "source": [
    "Nous devons maintenant utiliser des modèles de physique, chimie, toxicologie, écologie, médecine, etc. pour caractériser les effets de ces flux élémentaires sur l'environnement. Heureusement, Adélaïde s'y connait dans tous ces domaines et nous propose sa méthode de caractérisation des impacts."
   ]
  },
  {
   "cell_type": "markdown",
   "id": "b465df17-006c-47fe-9b98-59afee59fc06",
   "metadata": {},
   "source": [
    "### Méthode de caractérisation des impacts \"Feraille Impact Assessment\" (FIA)"
   ]
  },
  {
   "cell_type": "markdown",
   "id": "9c383943-67d0-4d26-ae17-e6ad16478cb6",
   "metadata": {},
   "source": [
    "Il est bien connu qu'il y a quatre catégories d'impacts environnementaux :\n",
    "- la perte de biodiversité ;\n",
    "- le changement d'usage des sols ;\n",
    "- la santé humaine ;\n",
    "- l'épuisement des ressources.\n",
    "\n",
    "Pour chacune de ces catégories, la méthode associe un indicateur :\n",
    "- $h_1$ : le nombre de chatons décédés ;\n",
    "- $h_2$ : le nombre de vaches au mètre carré ;\n",
    "- $h_3$ : le taux d'E. Coli dans la Seine (en nb/ml) ;\n",
    "- $h_4$ : la consommation de terres rares (en iphone-équivalent)."
   ]
  },
  {
   "cell_type": "markdown",
   "id": "49db043c-9181-44e2-957a-c862e6e40e4d",
   "metadata": {},
   "source": [
    "\n",
    "Pour chaque impact, on peut déterminer la contribution de chacun des flux élémentaires. La méthode fait l'hypothèse que $h_i$ dépend linéairement de $g$, c'est-à-dire qu'on peut définir une matrice de caractérisation $C$ telle que :\n",
    "\n",
    "$h=Cg$\n",
    "\n",
    "\n",
    "Par exemple, on sait que seul le dioxyde de soufre tue les chatons, à raison de 20 chatons par kilogramme de $\\text{SO}_2$. \n",
    "On peut écrire : \n",
    "\n",
    "$h_1 = 0 \\times g_1 + 20 \\times g_2 + 0 \\times g_3$.\n",
    "\n",
    "En revanche, pour le nombre de vaches au mètre carré ($v.m^{-2}$), 1 kg de $\\text{CO}_2$ diminue $h_2$ de 3 $v.m^{-2}$, 1 kg de $\\text{SO}_2$ augmente $h_2$ de 0.5 $v.m^{-2}$ et 1 l de pétrole diminue $h_2$ de 50 $v.m^{-2}$ : \n",
    "\n",
    " $h_2 = -3 \\times g_1 + 0.5 \\times g_2  -50 \\times g_3$. \n",
    " \n",
    " Ainsi :\n"
   ]
  },
  {
   "cell_type": "markdown",
   "id": "d5aa9c90-f923-4e98-ae26-992c4abaddd6",
   "metadata": {},
   "source": [
    "$C =\n",
    "\\begin{pmatrix}\n",
    "0 & 20 & 0 \\\\\n",
    "-3 & 0.5 & -50 \\\\\n",
    "200 & 4 & 8 \\\\\n",
    "1 & 1 & -500 \\\\\n",
    "\\end{pmatrix}$\n"
   ]
  },
  {
   "cell_type": "markdown",
   "id": "aa1ad19d-eb2e-4983-9b35-5125b16ad746",
   "metadata": {},
   "source": [
    "### EXERCICE 3"
   ]
  },
  {
   "cell_type": "markdown",
   "id": "e3871d73-bd02-4ec7-b7e7-1e4f9a3493cf",
   "metadata": {},
   "source": [
    "Avec les mêmes données qu'aux exercices précédents, calculer les scores d'impacts avant et après réparation. \n",
    "\n",
    "La réparation a-t-elle amélioré les choses ?"
   ]
  },
  {
   "cell_type": "markdown",
   "id": "82112b9c-6be9-46e1-aed1-95376b250251",
   "metadata": {
    "tags": []
   },
   "source": [
    "### Correction"
   ]
  },
  {
   "cell_type": "markdown",
   "id": "eba8318a-5323-428c-9a85-5a0e8d5fa73e",
   "metadata": {},
   "source": [
    "On définit la matrice de caractérisation $C$ :"
   ]
  },
  {
   "cell_type": "code",
   "execution_count": 8,
   "id": "ef969f8f-a628-49c3-bae1-0af8210f8041",
   "metadata": {},
   "outputs": [
    {
     "name": "stdout",
     "output_type": "stream",
     "text": [
      "Matrice de caractérisation C\n",
      " [[   0.    20.     0. ]\n",
      " [  -3.     0.5  -50. ]\n",
      " [ 200.     4.     8. ]\n",
      " [   1.     1.  -500. ]]\n"
     ]
    }
   ],
   "source": [
    "C = np.matrix([[0., 20.,0],[-3., 0.5,-50.],[200.,4.,8.],[1.,1.,-500.]]) \n",
    "print('Matrice de caractérisation C\\n', C)"
   ]
  },
  {
   "cell_type": "markdown",
   "id": "6abb907b-c631-42ad-9fa3-9fc78f3f266b",
   "metadata": {},
   "source": [
    "Les vecteurs de demandes finales à comparer (NB : au fait, quel est le flux de référence du vecteur \"avec réparation\" ?) :"
   ]
  },
  {
   "cell_type": "code",
   "execution_count": 9,
   "id": "eea665dc-1ccd-4a04-acf8-4acfae23ad28",
   "metadata": {},
   "outputs": [],
   "source": [
    "f_sans_rep = np.matrix([[0.],[1000.]])\n",
    "f_avec_rep = np.matrix([[400.],[500.]])"
   ]
  },
  {
   "cell_type": "markdown",
   "id": "167c92ef-2ccd-4bd2-905c-72e26290be78",
   "metadata": {},
   "source": [
    "On calcule les vecteurs d'impacts environnementaux avec et sans réparation :"
   ]
  },
  {
   "cell_type": "code",
   "execution_count": 10,
   "id": "3a267be8-4290-446e-94ec-39126525680c",
   "metadata": {},
   "outputs": [
    {
     "name": "stdout",
     "output_type": "stream",
     "text": [
      "Vecteur impacts environnementaux (sans réparation)\n",
      " [[  280.]\n",
      " [ 4647.]\n",
      " [23256.]\n",
      " [50134.]]\n",
      "Vecteur impacts environnementaux (avec réparation)\n",
      " [[   300. ]\n",
      " [ 12207.5]\n",
      " [ 18060. ]\n",
      " [125115. ]]\n"
     ]
    }
   ],
   "source": [
    "h_sans_rep = C*B*A.getI()*f_sans_rep\n",
    "h_avec_rep = C*B*A.getI()*f_avec_rep\n",
    "print('Vecteur impacts environnementaux (sans réparation)\\n', h_sans_rep)\n",
    "print('Vecteur impacts environnementaux (avec réparation)\\n', h_avec_rep)"
   ]
  },
  {
   "cell_type": "markdown",
   "id": "d028bfac-76d5-4cc7-a984-3edf140bbcdb",
   "metadata": {},
   "source": [
    "Visualisons les résultats."
   ]
  },
  {
   "cell_type": "markdown",
   "id": "f4e0f1d3-6e43-4e97-8074-37a8b9ebd08f",
   "metadata": {},
   "source": [
    "a) Exemple d'un mauvais graphe :"
   ]
  },
  {
   "cell_type": "code",
   "execution_count": 16,
   "id": "61646cd6-79e7-4410-96b0-cb76bffb87af",
   "metadata": {},
   "outputs": [
    {
     "data": {
      "text/html": [
       "<div>\n",
       "<style scoped>\n",
       "    .dataframe tbody tr th:only-of-type {\n",
       "        vertical-align: middle;\n",
       "    }\n",
       "\n",
       "    .dataframe tbody tr th {\n",
       "        vertical-align: top;\n",
       "    }\n",
       "\n",
       "    .dataframe thead th {\n",
       "        text-align: right;\n",
       "    }\n",
       "</style>\n",
       "<table border=\"1\" class=\"dataframe\">\n",
       "  <thead>\n",
       "    <tr style=\"text-align: right;\">\n",
       "      <th></th>\n",
       "      <th>indicateurs</th>\n",
       "      <th>valeurs</th>\n",
       "      <th>réparation</th>\n",
       "    </tr>\n",
       "  </thead>\n",
       "  <tbody>\n",
       "    <tr>\n",
       "      <th>0</th>\n",
       "      <td>Chatons</td>\n",
       "      <td>280.0</td>\n",
       "      <td>Sans réparation</td>\n",
       "    </tr>\n",
       "    <tr>\n",
       "      <th>1</th>\n",
       "      <td>Vaches</td>\n",
       "      <td>4647.0</td>\n",
       "      <td>Sans réparation</td>\n",
       "    </tr>\n",
       "    <tr>\n",
       "      <th>2</th>\n",
       "      <td>E. Coli</td>\n",
       "      <td>23256.0</td>\n",
       "      <td>Sans réparation</td>\n",
       "    </tr>\n",
       "    <tr>\n",
       "      <th>3</th>\n",
       "      <td>Terres rares</td>\n",
       "      <td>50134.0</td>\n",
       "      <td>Sans réparation</td>\n",
       "    </tr>\n",
       "    <tr>\n",
       "      <th>4</th>\n",
       "      <td>Chatons</td>\n",
       "      <td>300.0</td>\n",
       "      <td>Avec réparation</td>\n",
       "    </tr>\n",
       "    <tr>\n",
       "      <th>5</th>\n",
       "      <td>Vaches</td>\n",
       "      <td>12207.5</td>\n",
       "      <td>Avec réparation</td>\n",
       "    </tr>\n",
       "    <tr>\n",
       "      <th>6</th>\n",
       "      <td>E. Coli</td>\n",
       "      <td>18060.0</td>\n",
       "      <td>Avec réparation</td>\n",
       "    </tr>\n",
       "    <tr>\n",
       "      <th>7</th>\n",
       "      <td>Terres rares</td>\n",
       "      <td>125115.0</td>\n",
       "      <td>Avec réparation</td>\n",
       "    </tr>\n",
       "  </tbody>\n",
       "</table>\n",
       "</div>"
      ],
      "text/plain": [
       "    indicateurs   valeurs       réparation\n",
       "0       Chatons     280.0  Sans réparation\n",
       "1        Vaches    4647.0  Sans réparation\n",
       "2       E. Coli   23256.0  Sans réparation\n",
       "3  Terres rares   50134.0  Sans réparation\n",
       "4       Chatons     300.0  Avec réparation\n",
       "5        Vaches   12207.5  Avec réparation\n",
       "6       E. Coli   18060.0  Avec réparation\n",
       "7  Terres rares  125115.0  Avec réparation"
      ]
     },
     "execution_count": 16,
     "metadata": {},
     "output_type": "execute_result"
    }
   ],
   "source": [
    "import pandas as pd # package introduisant un format \"DataFrame\", qui est aux matrices ce que le dictionnaire est aux listes\n",
    "import seaborn as sns # librairie de visualisation de données basée sur matplotlib, qui fonctionnement bien avec les dataframes\n",
    "\n",
    "#Création d'un dataframe contenant toutes les données à tracer\n",
    "df = pd.DataFrame()\n",
    "df['indicateurs'] = ['Chatons','Vaches','E. Coli','Terres rares']*2\n",
    "df['valeurs'] = [hi[0,0] for hi in h_sans_rep]+[hi[0,0] for hi in h_avec_rep]\n",
    "df['réparation'] = ['Sans réparation']*4+['Avec réparation']*4\n",
    "\n",
    "df"
   ]
  },
  {
   "cell_type": "code",
   "execution_count": 15,
   "id": "3d8c6d19-4be1-4871-86a9-ab4e7b6eb776",
   "metadata": {},
   "outputs": [
    {
     "data": {
      "text/plain": [
       "<seaborn.axisgrid.FacetGrid at 0x7254d8162420>"
      ]
     },
     "execution_count": 15,
     "metadata": {},
     "output_type": "execute_result"
    },
    {
     "data": {
      "image/png": "[encoded data removed]",
      "text/plain": [
       "<Figure size 660.125x500 with 1 Axes>"
      ]
     },
     "metadata": {},
     "output_type": "display_data"
    }
   ],
   "source": [
    "g=sns.catplot(data=df,x='indicateurs',y='valeurs',hue='réparation',kind='bar')\n",
    "g.set_xticklabels(rotation = 45)"
   ]
  },
  {
   "cell_type": "markdown",
   "id": "564af83d-1d8b-4748-b591-0746f0e1035e",
   "metadata": {},
   "source": [
    "b) Exemple d'un moins mauvais graphe :"
   ]
  },
  {
   "cell_type": "markdown",
   "id": "dcf22a09-8625-4048-81f5-6a0179706671",
   "metadata": {},
   "source": [
    "On normalise par le maximum pour chaque indicateur pour s'affranchir des unités différentes."
   ]
  },
  {
   "cell_type": "code",
   "execution_count": 13,
   "id": "d02ab992-ec7c-4f28-b9aa-d8da628f7201",
   "metadata": {},
   "outputs": [
    {
     "data": {
      "text/html": [
       "<div>\n",
       "<style scoped>\n",
       "    .dataframe tbody tr th:only-of-type {\n",
       "        vertical-align: middle;\n",
       "    }\n",
       "\n",
       "    .dataframe tbody tr th {\n",
       "        vertical-align: top;\n",
       "    }\n",
       "\n",
       "    .dataframe thead th {\n",
       "        text-align: right;\n",
       "    }\n",
       "</style>\n",
       "<table border=\"1\" class=\"dataframe\">\n",
       "  <thead>\n",
       "    <tr style=\"text-align: right;\">\n",
       "      <th></th>\n",
       "      <th>indicateurs</th>\n",
       "      <th>valeurs</th>\n",
       "      <th>réparation</th>\n",
       "      <th>max</th>\n",
       "      <th>valeurs_norm</th>\n",
       "    </tr>\n",
       "  </thead>\n",
       "  <tbody>\n",
       "    <tr>\n",
       "      <th>0</th>\n",
       "      <td>Chatons</td>\n",
       "      <td>280.0</td>\n",
       "      <td>Sans réparation</td>\n",
       "      <td>300.0</td>\n",
       "      <td>0.933333</td>\n",
       "    </tr>\n",
       "    <tr>\n",
       "      <th>1</th>\n",
       "      <td>Vaches</td>\n",
       "      <td>4647.0</td>\n",
       "      <td>Sans réparation</td>\n",
       "      <td>12207.5</td>\n",
       "      <td>0.380668</td>\n",
       "    </tr>\n",
       "    <tr>\n",
       "      <th>2</th>\n",
       "      <td>E. Coli</td>\n",
       "      <td>23256.0</td>\n",
       "      <td>Sans réparation</td>\n",
       "      <td>23256.0</td>\n",
       "      <td>1.000000</td>\n",
       "    </tr>\n",
       "    <tr>\n",
       "      <th>3</th>\n",
       "      <td>Terres rares</td>\n",
       "      <td>50134.0</td>\n",
       "      <td>Sans réparation</td>\n",
       "      <td>125115.0</td>\n",
       "      <td>0.400703</td>\n",
       "    </tr>\n",
       "    <tr>\n",
       "      <th>4</th>\n",
       "      <td>Chatons</td>\n",
       "      <td>300.0</td>\n",
       "      <td>Avec réparation</td>\n",
       "      <td>300.0</td>\n",
       "      <td>1.000000</td>\n",
       "    </tr>\n",
       "    <tr>\n",
       "      <th>5</th>\n",
       "      <td>Vaches</td>\n",
       "      <td>12207.5</td>\n",
       "      <td>Avec réparation</td>\n",
       "      <td>12207.5</td>\n",
       "      <td>1.000000</td>\n",
       "    </tr>\n",
       "    <tr>\n",
       "      <th>6</th>\n",
       "      <td>E. Coli</td>\n",
       "      <td>18060.0</td>\n",
       "      <td>Avec réparation</td>\n",
       "      <td>23256.0</td>\n",
       "      <td>0.776574</td>\n",
       "    </tr>\n",
       "    <tr>\n",
       "      <th>7</th>\n",
       "      <td>Terres rares</td>\n",
       "      <td>125115.0</td>\n",
       "      <td>Avec réparation</td>\n",
       "      <td>125115.0</td>\n",
       "      <td>1.000000</td>\n",
       "    </tr>\n",
       "  </tbody>\n",
       "</table>\n",
       "</div>"
      ],
      "text/plain": [
       "    indicateurs   valeurs       réparation       max  valeurs_norm\n",
       "0       Chatons     280.0  Sans réparation     300.0      0.933333\n",
       "1        Vaches    4647.0  Sans réparation   12207.5      0.380668\n",
       "2       E. Coli   23256.0  Sans réparation   23256.0      1.000000\n",
       "3  Terres rares   50134.0  Sans réparation  125115.0      0.400703\n",
       "4       Chatons     300.0  Avec réparation     300.0      1.000000\n",
       "5        Vaches   12207.5  Avec réparation   12207.5      1.000000\n",
       "6       E. Coli   18060.0  Avec réparation   23256.0      0.776574\n",
       "7  Terres rares  125115.0  Avec réparation  125115.0      1.000000"
      ]
     },
     "metadata": {},
     "output_type": "display_data"
    }
   ],
   "source": [
    "h_max=[max(h_avec_rep[i,0],h_sans_rep[i,0]) for i in range(len(h_sans_rep))] # vecteur des maximums pour chaque indicateur\n",
    "    \n",
    "df['max']=h_max*2 #ajout d'une colonne avec les maximums pour chaque indicateur\n",
    "df['valeurs_norm'] = df['valeurs']/df['max'] # création d'une colonne de valeurs normalisées par le max\n",
    "display(df)"
   ]
  },
  {
   "cell_type": "code",
   "execution_count": 14,
   "id": "0dc11ec1-1eef-4c01-9bce-7e840099d406",
   "metadata": {},
   "outputs": [
    {
     "data": {
      "text/plain": [
       "<seaborn.axisgrid.FacetGrid at 0x72549cb4be60>"
      ]
     },
     "execution_count": 14,
     "metadata": {},
     "output_type": "execute_result"
    },
    {
     "data": {
      "image/png": "[encoded data removed]",
      "text/plain": [
       "<Figure size 660.125x500 with 1 Axes>"
      ]
     },
     "metadata": {},
     "output_type": "display_data"
    }
   ],
   "source": [
    "g=sns.catplot(data=df,x='indicateurs',y='valeurs_norm',hue='réparation',kind='bar')\n",
    "g.set_xticklabels(rotation = 45)"
   ]
  },
  {
   "cell_type": "markdown",
   "id": "f5471865-a46d-4136-8e29-4814d0091f65",
   "metadata": {},
   "source": [
    "Ce graphe seul répond-il à la question posée ?"
   ]
  },
  {
   "cell_type": "markdown",
   "id": "4bbdc8d8-10fb-4446-ab80-41d9c0aae839",
   "metadata": {},
   "source": [
    "## Bilan"
   ]
  },
  {
   "cell_type": "markdown",
   "id": "8fae4f00-d2bd-4cac-82f0-13e395015440",
   "metadata": {},
   "source": [
    "Nous avons présenté la structure de calcul d'un modèle basique d'ACV et traité un exemple simple à la main et en python.\n",
    "\n",
    "En introduction, nous avions dit avoir besoin des hypothèses suivantes : \n",
    "- Linéarité ;\n",
    "- Régime stationnaire de l'économie.\n",
    "\n",
    "Où ces hypothèses ont-elles été utilisées ?"
   ]
  },
  {
   "cell_type": "code",
   "execution_count": null,
   "id": "70104d67-c833-4d3b-a99b-d434f3ceeb76",
   "metadata": {},
   "outputs": [],
   "source": []
  }
 ],
 "metadata": {
  "kernelspec": {
   "display_name": "Python 3 (ipykernel)",
   "language": "python",
   "name": "python3"
  },
  "language_info": {
   "codemirror_mode": {
    "name": "ipython",
    "version": 3
   },
   "file_extension": ".py",
   "mimetype": "text/x-python",
   "name": "python",
   "nbconvert_exporter": "python",
   "pygments_lexer": "ipython3",
   "version": "3.12.8"
  }
 },
 "nbformat": 4,
 "nbformat_minor": 5
}
