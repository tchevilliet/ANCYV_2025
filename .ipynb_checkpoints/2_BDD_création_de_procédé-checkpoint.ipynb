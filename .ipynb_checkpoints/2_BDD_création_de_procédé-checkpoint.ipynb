{
 "cells": [
  {
   "cell_type": "markdown",
   "id": "87aed915-5ce5-43d3-b837-11c39f769d78",
   "metadata": {},
   "source": [
    "# Bases de données et création de procédés"
   ]
  },
  {
   "cell_type": "markdown",
   "id": "39a812df-5fb4-4fd6-81f2-84523f38789d",
   "metadata": {},
   "source": [
    "Nous avons vu qu'une ACV consistait en deux grandes étapes : \n",
    "1. celle d'inventaire ;\n",
    "2. puis celle de caractérisation d'inventaire.\n",
    "\n",
    "En pratique, on s'appuie sur des bases de données (BDD) qui décrivent :\n",
    "- la technosphère (ensemble des procédés et des flux qui les relient, dits flux intermédiaires) ; \n",
    "- la biosphère (ensemble des matières et substances potentiellement extraites ou émises par les procédés, dits flux élémentaires) ;\n",
    "- les méthodes d'impacts (défintion des catégories d'impact, des indicateurs, des facteurs de caractérisation associés, et accessoirement des facteurs d'agrégation et/ou de normalisation)\n",
    "\n",
    "SCHEMA INVENTAIRE IMPACTS FLUX\n",
    "\n",
    "Commençons par les procédés. Nous utilisons couramment pour modéliser ces derniers la base de données ecoinvent qui est générique - elle recouvre plusieurs secteurs d'activités (Industrie, Énergie, Matériaux, Transports...).\n",
    "\n",
    "Vous pouvez explorer cette BDD en ligne à ce lien : [https://ecoquery.ecoinvent.org/3.11/cutoff](https://ecoquery.ecoinvent.org/3.11/cutoff). (version, allocation, exemple de procédé)\n",
    "\n",
    "Pour réaliser des ACV à partir de ces BDD, plusieurs logiciels sont disponibles (des libres tels OpenLCA et brightway ; des payants tels SimaPro, OneClick LCA ou Holis). Nous utilisons la librairie python brightway 2.5 dans ce qui suit car elle est open-source, permet de profiter de l'écosystème python, s'appuie explicitement sur le formalisme mathématique vu précédemment et évite l'effet \"boîte noire\"."
   ]
  },
  {
   "cell_type": "markdown",
   "id": "c21f1cd0-5ccb-4a02-97e5-3d298237aa40",
   "metadata": {},
   "source": [
    "**Documentation de brightway2.5**\n",
    "\n",
    "Voir :\n",
    "\n",
    "- documentation générale : https://docs.brightway.dev/en/latest/content/overview/index.html\n",
    "- pense-bête : https://docs.brightway.dev/en/latest/content/cheatsheet/index.html"
   ]
  },
  {
   "cell_type": "markdown",
   "id": "f7c049a7-0660-467f-97c2-e4dd56c54019",
   "metadata": {},
   "source": [
    "## Import des librairies et mise en place du projet"
   ]
  },
  {
   "cell_type": "code",
   "execution_count": null,
   "id": "6cd59299-1309-402c-82c8-38697f1b598c",
   "metadata": {},
   "outputs": [],
   "source": [
    "import bw2io as bi # ensemble des fonctions et classes pour importer et exporter (input/output)\n",
    "import bw2data as bd # ... pour gérer les données du projet\n",
    "import bw2calc as bc # ... pour faire des opérations\n",
    "import bw2analyzer as ba # ... pour interpréter les résultats"
   ]
  },
  {
   "cell_type": "code",
   "execution_count": null,
   "id": "2df60d68-bfc3-4308-8ae5-dba66a9b7e29",
   "metadata": {},
   "outputs": [],
   "source": []
  },
  {
   "cell_type": "markdown",
   "id": "c0f0ab1b-f4b9-4291-bb75-248920a07c85",
   "metadata": {},
   "source": [
    "## Importation et exploration d'ecoinvent"
   ]
  },
  {
   "cell_type": "code",
   "execution_count": null,
   "id": "805d8e51-2fc1-47d0-955f-205804697900",
   "metadata": {},
   "outputs": [],
   "source": []
  },
  {
   "cell_type": "code",
   "execution_count": null,
   "id": "875e9591-7de6-4e9e-8823-e25e57ea76a5",
   "metadata": {},
   "outputs": [],
   "source": [
    "import numpy as np\n",
    "import pandas as pd\n",
    "import matplotlib.pyplot as plt\n",
    "import seaborn as sb"
   ]
  }
 ],
 "metadata": {
  "kernelspec": {
   "display_name": "Python 3 (ipykernel)",
   "language": "python",
   "name": "python3"
  },
  "language_info": {
   "codemirror_mode": {
    "name": "ipython",
    "version": 3
   },
   "file_extension": ".py",
   "mimetype": "text/x-python",
   "name": "python",
   "nbconvert_exporter": "python",
   "pygments_lexer": "ipython3",
   "version": "3.12.8"
  }
 },
 "nbformat": 4,
 "nbformat_minor": 5
}
