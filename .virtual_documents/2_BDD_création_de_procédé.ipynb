











import bw2io as bi # ensemble des fonctions et classes pour importer et exporter (input/output)
import bw2data as bd # ... pour gérer les données du projet
import bw2calc as bc # ... pour faire des opérations
import bw2analyzer as ba # ... pour interpréter les résultats

import pandas as pd # pour utiliser un format de table pratique
import seaborn as sns # pour tracer des graphes à partir de ces tables
import matplotlib.pyplot as plt


bd.projects.set_current('2025-06-10_ecoinvent_311') # On se met dans un projet (ie un dossier) qui contient déjà ecoinvent 3.11 cut-off


bd.databases # On peut vérifier les BDD disponibles dans ce projet











biodb = bd.Database('ecoinvent-3.11-biosphere')
len(biodb)


element = biodb.random() #On met dans une variable un élément de la biosphère choisi aléatoirement 
element


element.as_dict() # brightway permet de regarder sous forme de dictionnaire python toutes les métadonnées de l'élément








eidb = bd.Database('ecoinvent-3.11-cutoff') #On sélectionne la technosphere que l'on stocke dans une variable
len(eidb) #La longueur de celle-ci correspond au nombre de procédés différents disponibles


activity = eidb.random()
activity


activity.as_dict()





activity = eidb.search('anchovy') #On utilise une fonction de recherche par mot-clé, ici "anchovy"
activity # brightway retourne une liste de procédés


activity = eidb.search('anchovy, capture by steel purse seiner')[0] #On choisit le premier élément de la liste, en précisant le mot-clé
activity #Ici, activity sera bien un procédé, non une liste de procédés





list(activity.exchanges()) #Tous les échanges


list(activity.technosphere()) #Flux intermédiaires


list(activity.biosphere()) #Flux élémentaires


list(activity.production()) #Flux de référence (produit)














concrete = eidb.search('concrete')
concrete





concrete = [a for a in eidb if 'concrete' in a['name'].lower() and a['location'] == 'FR'] # lower met la chaine de caractères en minuscules, ce qui évite la sensibilité à la casse.
concrete











if 'betons_armes' in bd.databases : 
    print('procédés déjà importés !')
else : 
    imp = bi.ExcelImporter("/home/thibault.chevilliet@enpc.fr/Documents/Cours ACV notebook/Cours 2025/betons_armes.xlsx")
    imp.apply_strategies() #applique une série de routines sur la base de données, notamment une conversion des variables dans les bons formats
    imp.match_database(fields=('name', 'unit', 'location')) #identifie les échanges que les procédés de la base ont avec d'autres procédés de la même base
    imp.match_database('ecoinvent-3.11-cutoff', fields=('name', 'unit', 'location')) #identifie les échanges que les procédés de la base ont avec les procédés d'ecoinvent
    imp.statistics() #affiche les statistiques des "match" réalisés, notamment si certains procédés n'ont pas été trouvés ("unlinked exchanges") 
    imp.write_database() #écrit et sauvegarde la base de données


fgdb = bd.Database('betons_armes') #fgdb pour foreground database (procédés d'avant-plan vs arrière-plan)


beton_A = fgdb.search('Béton A')[0]
beton_A


list(beton_A.edges()) #brightway utilise indifféremment les termes edges/exchanges et node/activity








meth = [m for m in bd.methods if 'EF v3.1' in m[1] and 'no LT' not in m[1]] # no LT signifie no long-term, c'est à dire que les substances émises ou extraites après 100 ans ne sont pas comptées.
meth








gwp100 = [ind for ind in meth if 'GWP100' in str(ind) and 'biogenic' not in str(ind) and 'fossil' not in str(ind) and 'land' not in str(ind)][0] # On sélectionne l'indicateur par compréhension de liste
gwp100








lca = bc.LCA(demand={beton_A : 1.0},method=gwp100) #Préparation de matrices réduites A, B, C
lca.lci()# Préparation du calcul de g. Si on appelle le score à cette étape, on obtient g.
lca.lcia() # Préparation du calcul de h.
lca.score # Ici le calcul se fait, et retourne le score d'impact





beton_B = fgdb.search('Béton B')[0]
beton_B


lca = bc.LCA(demand={beton_B : 1.0},method=gwp100)
lca.lci()
lca.lcia()
lca.score














demands = { 'A' : {beton_A.id : 1.0}, 'B' : {beton_B.id : 1.0}} # Les demandes évaluées sont rangées dans un dictionnaire, elles ont un nom, ici nous choisissons A et B.

method_config = {'impact_categories' : meth} # les indicateurs d'impacts sont aussi rangés dans un dictionnaire
data_objs = bd.get_multilca_data_objs(demands, method_config) # brightway fait sa tambouille

lca = bc.MultiLCA(demands=demands, method_config= method_config, data_objs=data_objs)
lca.lci()
lca.lcia()
results = lca.scores








df_results = pd.DataFrame.from_dict(results,orient='index')
res = pd.DataFrame(columns=['indicateur','beton','score'])
for r in df_results.index :
    res = pd.concat([pd.DataFrame([[str(r[0][2:3]),r[1],df_results.at[r,0]]], columns=res.columns), res], ignore_index=True)


res# Visualition de la table de résultat





res['score_norm'] = [res.at[i,'score']/max(res[res.indicateur == res.at[i,'indicateur']]['score']) for i in res.index]
res


# fig, ax = plt.subplots(figsize=(10,5))
g=sns.catplot(data=res,x='indicateur',y='score_norm',kind='bar',hue='beton',errorbar=None)
g.fig.set_size_inches(20, 5);
g.ax.set_xticklabels(g.ax.get_xticklabels(), rotation=45, ha='right');



