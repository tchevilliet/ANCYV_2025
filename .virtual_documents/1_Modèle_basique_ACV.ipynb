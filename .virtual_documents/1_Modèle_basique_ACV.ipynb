











import numpy as np
























































A = np.matrix([[-2., 100.],[10., 0.]]) 
print('Matrice technologique A\n', A)
f = np.matrix([[0.],[1000.]])
print('Vecteur de demande finale f \n', f)





np.linalg.det(A)





s= A.getI()*f
print("Vecteur de mise à l'échelle s\n",s)





B = np.matrix([[1., 10.],[0.1, 2.],[0, -50]]) 
print('Matrice environnementale B\n', B)





g= B*s
print("Inventaire g\n",g)











f = np.matrix([[400.],[500.]])
g= B*A.getI()*f
print("Inventaire g\n",g)



































C = np.matrix([[0., 20.,0],[-3., 0.5,-50.],[200.,4.,8.],[1.,1.,-500.]]) 
print('Matrice de caractérisation C\n', C)





f_sans_rep = np.matrix([[0.],[1000.]])
f_avec_rep = np.matrix([[400.],[500.]])





h_sans_rep = C*B*A.getI()*f_sans_rep
h_avec_rep = C*B*A.getI()*f_avec_rep
print('Vecteur impacts environnementaux (sans réparation)\n', h_sans_rep)
print('Vecteur impacts environnementaux (avec réparation)\n', h_avec_rep)








import pandas as pd # package introduisant un format "DataFrame", qui est aux matrices ce que le dictionnaire est aux listes
import seaborn as sns # librairie de visualisation de données basée sur matplotlib, qui fonctionnement bien avec les dataframes

#Création d'un dataframe contenant toutes les données à tracer
df = pd.DataFrame()
df['indicateurs'] = ['Chatons','Vaches','E. Coli','Terres rares']*2
df['valeurs'] = [hi[0,0] for hi in h_sans_rep]+[hi[0,0] for hi in h_avec_rep]
df['réparation'] = ['Sans réparation']*4+['Avec réparation']*4

df


g=sns.catplot(data=df,x='indicateurs',y='valeurs',hue='réparation',kind='bar')
g.set_xticklabels(rotation = 45)








h_max=[max(h_avec_rep[i,0],h_sans_rep[i,0]) for i in range(len(h_sans_rep))] # vecteur des maximums pour chaque indicateur
    
df['max']=h_max*2 #ajout d'une colonne avec les maximums pour chaque indicateur
df['valeurs_norm'] = df['valeurs']/df['max'] # création d'une colonne de valeurs normalisées par le max
display(df)


g=sns.catplot(data=df,x='indicateurs',y='valeurs_norm',hue='réparation',kind='bar')
g.set_xticklabels(rotation = 45)









