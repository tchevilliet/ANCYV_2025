








import bw2io as bi # ensemble des fonctions et classes pour importer et exporter (input/output)
import bw2data as bd # ... pour gérer les données du projet
import bw2calc as bc # ... pour faire des opérations
import bw2analyzer as ba # ... pour interpréter les résultats
import pandas as pd
import numpy as np
import seaborn as sns
import matplotlib.pyplot as plt

bd.projects.set_current('2025-06-10_ecoinvent_311')
eidb = bd.Database('ecoinvent-3.11-cutoff')
biodb = bd.Database('ecoinvent-3.11-biosphere')
fgdb = bd.Database('betons_armes')

beton_A = fgdb.search("Béton A")[0]
meth = [m for m in bd.methods if 'EF v3.1' in m[1] and 'no LT' not in m[1]]
gwp100 = [ind for ind in meth if 'GWP100' in str(ind) and 'biogenic' not in str(ind) and 'fossil' not in str(ind) and 'land' not in str(ind)][0]








n_MC = 200
lca_unc_A = bc.LCA(demand={beton_A.id : 1.0},method=gwp100,use_distributions=True) # L'argument use_distribution=True indique de préparer les matrices pour des tirages aléatoires
lca_unc_A.lci()
lca_unc_A.lcia()

scores_A = [lca_unc_A.score for _ in zip(lca_unc_A,range(n_MC))]


scores_A # On obtient une liste de résultats



scores_mean = np.mean(scores_A)
scores_med = np.median(scores_A)
print('moyenne : ',scores_mean,'médiane : ',scores_med)





lca = bc.LCA(demand={beton_A.id : 1.0},method=gwp100)
lca.lci()
lca.lcia()

s = lca.score




fig, ax = plt.subplots()
sns.histplot(scores_A,binwidth=10,element='step',label = "distribution tirages",legend=True) # Tracé de la distribution
ax.axvline(x=s, color='orange',label = 'score statique') # Tracé d'une ligne verticale à la valeur en calcul statique
ax.axvline(x=scores_mean, color='midnightblue',label = 'moyenne') # Tracé à la moyenne des tirages
ax.axvline(x=scores_med, color='darkseagreen',label = 'médiane') # Tracé à la médiane des tirages
ax.legend(loc='upper right')






exchanges = [exc.input.exchanges() for exc in beton_A.technosphere()]
uncertainty_types = [[e.uncertainty['uncertainty type'] for e in exc] for exc in exchanges]
print([u for u in uncertainty_types]) # 0 veut dire que l'incertitude n'est pas renseignée, 2 que la distribution est lognormale :

















beton_B = fgdb.search("Béton B")[0]





lca_unc_B = bc.LCA(demand={beton_B.id : 1.0},method=gwp100,use_distributions=True) # L'argument use_distribution=True indique de préparer les matrices pour des tirages aléatoires
lca_unc_B.lci()
lca_unc_B.lcia()

scores_B = [lca_unc_B.score for _ in zip(lca_unc_B,range(n_MC))]





fig, ax = plt.subplots(figsize=(8,5))

sns.histplot({'Béton A' : scores_A,'Béton B' : scores_B},element='step',binwidth=10)
ax.axvline(x=np.mean(scores_A), color='steelblue',label = 'moyenne Béton A') # Tracé à la moyenne des tirages
ax.axvline(x=np.mean(scores_B), color='orange',label = 'moyenne Béton B') # Tracé à la médiane des tirages
ax.set_xlabel(str(gwp100))













demands = [{beton_A.id : 1.0},{beton_B.id : 1.0}] # liste des demandes
lca = bc.LCA(demand=demands[0],method=gwp100,use_distributions=True) # On initialise l'ACV, la demande ici importe peu
lca.lci() 
lca.lcia()
tirages = {'Béton A' : [],'Béton B' : []} # dictionnaire de listes vides dans lesquelles on stockera les résultats

for _ in range(n_MC) : # On fait n_MC tirages
    next(lca) # On tire les matrices
    tmp = [] # On crée une liste temporaire pour stocker les résultats sur les deux demandes
    lca.redo_lcia(demands[0])
    tirages['Béton A' ].append(lca.score)
    lca.redo_lcia(demands[1])
    tirages['Béton B' ].append(lca.score)


df_comp_dep = pd.DataFrame(tirages)
#df_comp_dep['Delta'] = df_comp_dep['Béton A']-df_comp_dep['Béton B'] # Différence terme à terme
df_comp_dep


df_comp_inde = pd.DataFrame({'Béton A':scores_A,'Béton B':scores_B,})
#df_comp_inde['Delta'] = df_comp_inde['Béton A']-df_comp_inde['Béton B'] # Différence terme à terme


fig, ax = plt.subplots(3,2,figsize=(12,10))
sns.histplot(df_comp_inde,element='step',ax=ax[0,0],binwidth=10)
sns.histplot(df_comp_dep,element='step',ax=ax[0,1],binwidth=10)
sns.scatterplot(df_comp_inde,x='Béton A',y='Béton B',ax=ax[1,0])
sns.scatterplot(df_comp_dep,x='Béton A',y='Béton B',ax=ax[1,1])
sns.histplot(df_comp_inde['Béton A']-df_comp_inde['Béton B'],element='step',ax=ax[2,0],binwidth=10)
sns.histplot(df_comp_dep['Béton A']-df_comp_dep['Béton B'],element='step',ax=ax[2,1],binwidth=10)
ax[0,0].set_title(f"Tirages indépendants")
ax[0,0].set_xlim(300,900)
ax[0,1].set_title(f"Tirages dépendants")
ax[0,1].set_xlim(300,900)
ax[2,0].set_xlabel(f"Différence des tirages termes à termes")
ax[2,1].set_xlabel(f"Différence des tirages termes à termes")





df_stats = pd.DataFrame(columns=['Indépendante','Dépendante'],index=['moyenne',"médiane","écart type"])
delta_inde = df_comp_inde['Béton A']-df_comp_inde['Béton B']
delta_dep = df_comp_dep['Béton A']-df_comp_dep['Béton B']
df_stats['Indépendante'] = [np.mean(delta_inde),np.median(delta_inde),np.std(delta_inde)]
df_stats['Dépendante'] = [np.mean(delta_dep),np.median(delta_dep),np.std(delta_dep)]
df_stats





demand = {beton_A.id : 1.0} # liste des demandes
lca = bc.LCA(demand=demand,method=gwp100,use_distributions=True) # On initialise l'ACV
lca.lci() 
lca.lcia()
tirages = {'tirage_1' : [],'tirage_2' : []} # dictionnaire de listes vides dans lesquelles on stockera les résultats

for _ in range(n_MC) : # On fait n_MC tirages
    next(lca) # On tire les matrices
    tmp = [] # On crée une liste temporaire pour stocker les résultats sur les deux demandes
    lca.redo_lcia(demand)
    tirages['tirage_1'].append(lca.score)
    lca.redo_lcia(demand)
    tirages['tirage_2'].append(lca.score)




df_tirages_dep = pd.DataFrame(tirages) #On organise nos résultats en une table plus facile à visualiser et tracer
df_tirages_dep


lca = bc.LCA(demand=demand,method=gwp100,use_distributions=True) # On initialise l'ACV
lca.lci() 
lca.lcia()
df_tirages_inde = pd.DataFrame({'tirage_1':[lca.score for _ in zip(lca,range(n_MC))],'tirage_2':[lca.score for _ in zip(lca,range(n_MC))]})


fig, ax = plt.subplots(2,2,figsize=(8,8))
sns.histplot(df_tirages_inde,element='step',ax=ax[0,0],binwidth=10)
sns.histplot(df_tirages_dep,element='step',ax=ax[0,1],binwidth=10)
sns.scatterplot(df_tirages_inde,x='tirage_1',y='tirage_2',ax=ax[1,0])
sns.scatterplot(df_tirages_dep,x='tirage_1',y='tirage_2',ax=ax[1,1])
ax[0,0].set_title(f"Tirages indépendants")
ax[0,1].set_title(f"Tirages dépendants")






np.des












