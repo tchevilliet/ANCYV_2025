import bw2data as bd
import bw2io as bi
from pathlib import Path





bi.backup.restore_project_directory(
    Path.cwd().joinpath(
        "brightway2_project_ecoinvent_311.tar.gz"
    ),
    overwrite_existing=True
)





bd.projects.set_current("project_ecoinvent_311")
bd.projects.current





bd.databases



