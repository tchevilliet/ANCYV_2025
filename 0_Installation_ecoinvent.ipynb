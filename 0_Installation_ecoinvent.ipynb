{
 "cells": [
  {
   "cell_type": "code",
   "execution_count": 1,
   "id": "53565900",
   "metadata": {},
   "outputs": [],
   "source": [
    "import bw2data as bd\n",
    "import bw2io as bi\n",
    "from pathlib import Path"
   ]
  },
  {
   "cell_type": "markdown",
   "id": "8e583fda",
   "metadata": {},
   "source": [
    "On import le projet Brightway contenant Ecoinvent 3.11:"
   ]
  },
  {
   "cell_type": "code",
   "execution_count": null,
   "id": "de75f52b",
   "metadata": {},
   "outputs": [
    {
     "name": "stdout",
     "output_type": "stream",
     "text": [
      "Restoring project backup archive - this could take a few minutes...\n",
      "Restored project: project_ecoinvent_311\n"
     ]
    },
    {
     "data": {
      "text/plain": [
       "'project_ecoinvent_311'"
      ]
     },
     "execution_count": 3,
     "metadata": {},
     "output_type": "execute_result"
    }
   ],
   "source": [
    "bi.backup.restore_project_directory(\n",
    "    Path.cwd().joinpath(\n",
    "        \"data/brightway2_project_ecoinvent_311.tar.gz\"\n",
    "    ),\n",
    "    overwrite_existing=True\n",
    ")"
   ]
  },
  {
   "cell_type": "markdown",
   "id": "644566fa",
   "metadata": {},
   "source": [
    "Une fois chargé, on active le projet:"
   ]
  },
  {
   "cell_type": "code",
   "execution_count": 4,
   "id": "cdbe21a5",
   "metadata": {},
   "outputs": [
    {
     "data": {
      "text/plain": [
       "'project_ecoinvent_311'"
      ]
     },
     "execution_count": 4,
     "metadata": {},
     "output_type": "execute_result"
    }
   ],
   "source": [
    "bd.projects.set_current(\"project_ecoinvent_311\")\n",
    "bd.projects.current"
   ]
  },
  {
   "cell_type": "markdown",
   "id": "59e8e56a",
   "metadata": {},
   "source": [
    "On vérifie qu'on a bien Ecoinvent 3.11:"
   ]
  },
  {
   "cell_type": "code",
   "execution_count": 5,
   "id": "fd4aca30",
   "metadata": {},
   "outputs": [
    {
     "data": {
      "text/plain": [
       "Databases dictionary with 2 object(s):\n",
       "\tecoinvent-3.11-biosphere\n",
       "\tecoinvent-3.11-cutoff"
      ]
     },
     "execution_count": 5,
     "metadata": {},
     "output_type": "execute_result"
    }
   ],
   "source": [
    "bd.databases"
   ]
  }
 ],
 "metadata": {
  "kernelspec": {
   "display_name": "acv_env (3.11.9)",
   "language": "python",
   "name": "python3"
  },
  "language_info": {
   "codemirror_mode": {
    "name": "ipython",
    "version": 3
   },
   "file_extension": ".py",
   "mimetype": "text/x-python",
   "name": "python",
   "nbconvert_exporter": "python",
   "pygments_lexer": "ipython3",
   "version": "3.11.9"
  }
 },
 "nbformat": 4,
 "nbformat_minor": 5
}
