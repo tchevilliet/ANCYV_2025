{
 "cells": [
  {
   "cell_type": "code",
   "execution_count": 1,
   "id": "53565900",
   "metadata": {},
   "outputs": [],
   "source": [
    "import bw2data as bd\n",
    "import bw2io as bi\n",
    "from pathlib import Path"
   ]
  },
  {
   "cell_type": "markdown",
   "id": "8e583fda",
   "metadata": {},
   "source": [
    "On import le projet Brightway contenant Ecoinvent 3.11:"
   ]
  },
  {
   "cell_type": "code",
   "execution_count": 6,
   "id": "de75f52b",
   "metadata": {},
   "outputs": [
    {
     "name": "stdout",
     "output_type": "stream",
     "text": [
      "Restoring project backup archive - this could take a few minutes...\n",
      "Restored project: project_ecoinvent_311\n"
     ]
    },
    {
     "data": {
      "text/plain": [
       "'project_ecoinvent_311'"
      ]
     },
     "execution_count": 6,
     "metadata": {},
     "output_type": "execute_result"
    }
   ],
   "source": [
    "bi.backup.restore_project_directory(\n",
    "    Path.cwd().joinpath(\n",
    "        \"brightway2_project_ecoinvent_311.tar.gz\"\n",
    "    ),\n",
    "    overwrite_existing=True\n",
    ")"
   ]
  },
  {
   "cell_type": "markdown",
   "id": "644566fa",
   "metadata": {},
   "source": [
    "Une fois chargé, on active le projet:"
   ]
  },
  {
   "cell_type": "code",
   "execution_count": 7,
   "id": "cdbe21a5",
   "metadata": {},
   "outputs": [
    {
     "data": {
      "text/plain": [
       "'project_ecoinvent_311'"
      ]
     },
     "execution_count": 7,
     "metadata": {},
     "output_type": "execute_result"
    }
   ],
   "source": [
    "bd.projects.set_current(\"project_ecoinvent_311\")\n",
    "bd.projects.current"
   ]
  },
  {
   "cell_type": "markdown",
   "id": "59e8e56a",
   "metadata": {},
   "source": [
    "On vérifie qu'on a bien Ecoinvent 3.11:"
   ]
  },
  {
   "cell_type": "code",
   "execution_count": 8,
   "id": "fd4aca30",
   "metadata": {},
   "outputs": [
    {
     "data": {
      "text/plain": [
       "Databases dictionary with 2 object(s):\n",
       "\tecoinvent-3.11-biosphere\n",
       "\tecoinvent-3.11-cutoff"
      ]
     },
     "execution_count": 8,
     "metadata": {},
     "output_type": "execute_result"
    }
   ],
   "source": [
    "bd.databases"
   ]
  },
  {
   "cell_type": "code",
   "execution_count": null,
   "id": "70568715-2f69-471b-a51f-6205b8b90ba2",
   "metadata": {},
   "outputs": [],
   "source": []
  }
 ],
 "metadata": {
  "kernelspec": {
   "display_name": "Python 3 (ipykernel)",
   "language": "python",
   "name": "python3"
  },
  "language_info": {
   "codemirror_mode": {
    "name": "ipython",
    "version": 3
   },
   "file_extension": ".py",
   "mimetype": "text/x-python",
   "name": "python",
   "nbconvert_exporter": "python",
   "pygments_lexer": "ipython3",
   "version": "3.12.12"
  }
 },
 "nbformat": 4,
 "nbformat_minor": 5
}
