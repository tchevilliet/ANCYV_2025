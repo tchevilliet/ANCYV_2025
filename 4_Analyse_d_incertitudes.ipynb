{
 "cells": [
  {
   "cell_type": "markdown",
   "id": "0c1312be",
   "metadata": {},
   "source": []
  },
  {
   "cell_type": "markdown",
   "id": "0b1e668d",
   "metadata": {},
   "source": [
    "# Analyse d'incertitudes"
   ]
  },
  {
   "cell_type": "markdown",
   "id": "251b6974",
   "metadata": {},
   "source": []
  },
  {
   "cell_type": "code",
   "execution_count": 1,
   "id": "7568c098",
   "metadata": {},
   "outputs": [],
   "source": [
    "import bw2io as bi # ensemble des fonctions et classes pour importer et exporter (input/output)\n",
    "import bw2data as bd # ... pour gérer les données du projet\n",
    "import bw2calc as bc # ... pour faire des opérations\n",
    "import bw2analyzer as ba # ... pour interpréter les résultats\n",
    "import pandas as pd\n",
    "import numpy as np\n",
    "import seaborn as sns\n",
    "import matplotlib.pyplot as plt\n",
    "\n",
    "bd.projects.set_current('2025-06-10_ecoinvent_311')\n",
    "eidb = bd.Database('ecoinvent-3.11-cutoff')\n",
    "biodb = bd.Database('ecoinvent-3.11-biosphere')\n",
    "fgdb = bd.Database('betons_armes')\n",
    "\n",
    "beton_A = fgdb.search(\"Béton A\")[0]\n",
    "meth = [m for m in bd.methods if 'EF v3.1' in m[1] and 'no LT' not in m[1]]\n",
    "gwp100 = [ind for ind in meth if 'GWP100' in str(ind) and 'biogenic' not in str(ind) and 'fossil' not in str(ind) and 'land' not in str(ind)][0]"
   ]
  },
  {
   "cell_type": "markdown",
   "id": "59be9a5c",
   "metadata": {},
   "source": [
    "### ACV statique vs ACV stochastique"
   ]
  },
  {
   "cell_type": "markdown",
   "id": "b905c316",
   "metadata": {},
   "source": [
    "Nous commençons par réaliser une ACV de béton A prenant en compte les incertitudes sur les valeurs des flux élémentaires et intermédiaires, données par ecoinvent (sur les coefficients des matrices A et B) et sur les facteurs de caractérisation (coefficients de la matrice C). Pour commencer au plus simple, nous nous contentons de faire le calcul uniquement sur l'indicateur de potentiel de réchauffement climatique à 100 ans.\n",
    "\n",
    "Nous réalisons peu de lancers de Monte-Carlo (200) par économie de temps. "
   ]
  },
  {
   "cell_type": "code",
   "execution_count": null,
   "id": "01e2d2ed",
   "metadata": {},
   "outputs": [],
   "source": [
    "n_MC = 200\n",
    "lca_unc_A = bc.LCA(demand={beton_A.id : 1.0},method=gwp100,use_distributions=True) # L'argument use_distribution=True indique de préparer les matrices pour des tirages aléatoires\n",
    "lca_unc_A.lci()\n",
    "lca_unc_A.lcia()\n",
    "\n",
    "scores_A = [lca_unc_A.score for _ in zip(lca_unc_A,range(n_MC))]"
   ]
  },
  {
   "cell_type": "code",
   "execution_count": 4,
   "id": "6395c0f9",
   "metadata": {},
   "outputs": [
    {
     "data": {
      "text/plain": [
       "[645.6428074211059,\n",
       " 656.1895291448288,\n",
       " 533.8356256656579,\n",
       " 662.7837490516565,\n",
       " 691.4480460890263,\n",
       " 606.469502878343,\n",
       " 541.9266861327955,\n",
       " 589.4993207863007,\n",
       " 562.160786189143,\n",
       " 560.0323333029872,\n",
       " 827.0925737588029,\n",
       " 529.0469858537458,\n",
       " 574.7809740565805,\n",
       " 626.2844725833872,\n",
       " 558.1805172891441,\n",
       " 714.648163908665,\n",
       " 473.8243528223982,\n",
       " 609.4854983673735,\n",
       " 593.1486426729582,\n",
       " 602.9896021353743,\n",
       " 704.8209645211457,\n",
       " 557.8263379896154,\n",
       " 649.4764047250936,\n",
       " 615.2108613739837,\n",
       " 553.7202044185321,\n",
       " 670.2748232443861,\n",
       " 561.8526457063546,\n",
       " 548.9627735932414,\n",
       " 537.9577379348825,\n",
       " 564.5837126823506,\n",
       " 597.878008109326,\n",
       " 501.93501818743596,\n",
       " 663.4802333970251,\n",
       " 637.613548178375,\n",
       " 558.4316075647548,\n",
       " 599.2215280399082,\n",
       " 680.5817879352978,\n",
       " 665.9855540138107,\n",
       " 677.5605527615241,\n",
       " 615.3485125005219,\n",
       " 592.2702838089538,\n",
       " 650.4395418852994,\n",
       " 546.744498278865,\n",
       " 546.9729486065423,\n",
       " 519.8111713874587,\n",
       " 524.6024839479012,\n",
       " 708.9692896365862,\n",
       " 589.4832067580573,\n",
       " 538.0442879536607,\n",
       " 618.3982286968335,\n",
       " 483.7379780402784,\n",
       " 568.4226568251842,\n",
       " 561.0605805560702,\n",
       " 846.3079606642149,\n",
       " 780.5569393204534,\n",
       " 532.375516594032,\n",
       " 497.0842236942943,\n",
       " 553.4977415906591,\n",
       " 631.2706162645067,\n",
       " 711.6911944760132,\n",
       " 651.5732352576143,\n",
       " 646.3220174825184,\n",
       " 620.7676334836212,\n",
       " 645.0052860105194,\n",
       " 588.3122136583695,\n",
       " 579.1739599111277,\n",
       " 634.4174153501862,\n",
       " 634.4533649527584,\n",
       " 472.48223733752155,\n",
       " 631.3231665692479,\n",
       " 610.4543457411195,\n",
       " 580.1946554421382,\n",
       " 558.0976301896989,\n",
       " 631.7904033205984,\n",
       " 607.8908099116043,\n",
       " 482.07977053062723,\n",
       " 545.5663578580027,\n",
       " 573.381102199289,\n",
       " 542.609351437314,\n",
       " 673.356186907168,\n",
       " 603.7348368859991,\n",
       " 561.2458789736974,\n",
       " 725.3286980034496,\n",
       " 560.0347860350219,\n",
       " 615.4406058661882,\n",
       " 599.3565463972925,\n",
       " 596.087114679533,\n",
       " 516.9943527526083,\n",
       " 466.6399101072408,\n",
       " 713.2917192710997,\n",
       " 519.8277734762958,\n",
       " 681.802154102361,\n",
       " 583.898983640006,\n",
       " 644.0696373270697,\n",
       " 622.2252392839214,\n",
       " 872.6463752984118,\n",
       " 494.9063536592772,\n",
       " 502.64283168566374,\n",
       " 610.0272454840931,\n",
       " 677.861537392761,\n",
       " 616.7923414397618,\n",
       " 590.3912460591763,\n",
       " 537.3057324418013,\n",
       " 591.1395251625829,\n",
       " 607.5044505807871,\n",
       " 558.1708063656192,\n",
       " 548.5473779242244,\n",
       " 532.5081492022883,\n",
       " 550.9873569903166,\n",
       " 579.3930395674249,\n",
       " 493.4329826469121,\n",
       " 481.95320644817593,\n",
       " 803.0880891499069,\n",
       " 707.7925492708966,\n",
       " 641.6576935063686,\n",
       " 631.0378775791123,\n",
       " 646.6147751299955,\n",
       " 802.1646463120426,\n",
       " 662.1339437644908,\n",
       " 535.5023344724578,\n",
       " 725.0489396575041,\n",
       " 527.2556400170515,\n",
       " 603.3405966373867,\n",
       " 663.3685145222969,\n",
       " 523.7187829936606,\n",
       " 680.2746228443629,\n",
       " 603.5866697406393,\n",
       " 658.1364721496783,\n",
       " 643.3140454589834,\n",
       " 648.3165751572539,\n",
       " 679.3816208047926,\n",
       " 681.1573300833671,\n",
       " 594.433171789935,\n",
       " 558.5348419688613,\n",
       " 772.6897355709277,\n",
       " 555.3628140015164,\n",
       " 576.4398757252907,\n",
       " 478.11365272086556,\n",
       " 625.735726992583,\n",
       " 528.5317661024992,\n",
       " 641.8748708738098,\n",
       " 550.2162428149544,\n",
       " 493.6573259520224,\n",
       " 668.1413979612897,\n",
       " 673.567596205085,\n",
       " 545.8687022799215,\n",
       " 703.4241598343025,\n",
       " 742.0930691339588,\n",
       " 563.8364224515524,\n",
       " 553.2482298116139,\n",
       " 577.1703170401497,\n",
       " 571.8480101139714,\n",
       " 596.9198162482289,\n",
       " 662.7792580456957,\n",
       " 550.1308624266097,\n",
       " 564.9629401368098,\n",
       " 582.2953533572618,\n",
       " 519.5895278029254,\n",
       " 620.1542883350642,\n",
       " 542.9909474177988,\n",
       " 540.6654044759428,\n",
       " 538.1650786194527,\n",
       " 564.0760139365441,\n",
       " 463.75670692987,\n",
       " 608.9581112267256,\n",
       " 679.6798449397038,\n",
       " 688.728211494573,\n",
       " 518.4268667226394,\n",
       " 524.2862814628796,\n",
       " 669.8848380908405,\n",
       " 704.2152391001141,\n",
       " 544.654803442804,\n",
       " 659.2290744890373,\n",
       " 582.4857420929013,\n",
       " 674.6455201159023,\n",
       " 609.6869006144238,\n",
       " 586.5524388411673,\n",
       " 503.29276453838725,\n",
       " 579.8608823545139,\n",
       " 474.7596687628703,\n",
       " 726.7349057205209,\n",
       " 574.3236344790993,\n",
       " 541.6641657904213,\n",
       " 577.6574831737194,\n",
       " 626.8072289702707,\n",
       " 553.66592800369,\n",
       " 557.9963844225756,\n",
       " 644.6896686676027,\n",
       " 587.6671529240454,\n",
       " 533.6339664768545,\n",
       " 468.5445204643836,\n",
       " 600.1377929634577,\n",
       " 642.77187592829,\n",
       " 569.8250594131513,\n",
       " 511.22128317761127,\n",
       " 632.3406641356432,\n",
       " 466.8571255443167,\n",
       " 697.6701355320864,\n",
       " 552.6794614074636,\n",
       " 663.7240401696193]"
      ]
     },
     "execution_count": 4,
     "metadata": {},
     "output_type": "execute_result"
    }
   ],
   "source": [
    "scores_A # On obtient une liste de résultats"
   ]
  },
  {
   "cell_type": "code",
   "execution_count": 6,
   "id": "24b1c0c8",
   "metadata": {},
   "outputs": [
    {
     "name": "stdout",
     "output_type": "stream",
     "text": [
      "moyenne :  601.0874989332984 médiane :  591.7049044857683\n"
     ]
    }
   ],
   "source": [
    "\n",
    "scores_mean = np.mean(scores_A)\n",
    "scores_med = np.median(scores_A)\n",
    "print('moyenne : ',scores_mean,'médiane : ',scores_med)"
   ]
  },
  {
   "cell_type": "markdown",
   "id": "8bee3bc0",
   "metadata": {},
   "source": [
    "On peut calculer le score d'impact par ACV sans tirage aléatoire, afin de comparer les scores."
   ]
  },
  {
   "cell_type": "code",
   "execution_count": 7,
   "id": "a73b7fca",
   "metadata": {},
   "outputs": [],
   "source": [
    "lca = bc.LCA(demand={beton_A.id : 1.0},method=gwp100)\n",
    "lca.lci()\n",
    "lca.lcia()\n",
    "\n",
    "s = lca.score"
   ]
  },
  {
   "cell_type": "code",
   "execution_count": 9,
   "id": "41e8af48",
   "metadata": {},
   "outputs": [
    {
     "data": {
      "text/plain": [
       "<matplotlib.legend.Legend at 0x7c13798e8da0>"
      ]
     },
     "execution_count": 9,
     "metadata": {},
     "output_type": "execute_result"
    },
    {
     "data": {
      "image/png": "[encoded data removed]",
      "text/plain": [
       "<Figure size 640x480 with 1 Axes>"
      ]
     },
     "metadata": {},
     "output_type": "display_data"
    }
   ],
   "source": [
    "\n",
    "\n",
    "fig, ax = plt.subplots()\n",
    "sns.histplot(scores_A,binwidth=10,element='step',label = \"distribution tirages\",legend=True) # Tracé de la distribution\n",
    "ax.axvline(x=s, color='orange',label = 'score statique') # Tracé d'une ligne verticale à la valeur en calcul statique\n",
    "ax.axvline(x=scores_mean, color='midnightblue',label = 'moyenne') # Tracé à la moyenne des tirages\n",
    "ax.axvline(x=scores_med, color='darkseagreen',label = 'médiane') # Tracé à la médiane des tirages\n",
    "ax.legend(loc='upper right')\n"
   ]
  },
  {
   "cell_type": "markdown",
   "id": "f07fcf7e",
   "metadata": {},
   "source": [
    "On remarque un décalage non négligeable entre le score sans tirage et la moyenne des tirages. Pourquoi ?"
   ]
  },
  {
   "cell_type": "code",
   "execution_count": 10,
   "id": "eafa53c4",
   "metadata": {},
   "outputs": [
    {
     "data": {
      "text/plain": [
       "[[0, 0, 2, 2, 2],\n",
       " [0, 0, 0, 0, 0, 0, 0, 0, 0, 0, 2, 2],\n",
       " [0, 0, 0, 0, 2, 2, 2, 2, 2, 2, 2, 2, 2, 2, 2, 2],\n",
       " [0, 0, 2, 2, 2, 2, 2, 2, 2, 2, 2, 2, 2, 2],\n",
       " [0, 0, 0, 0, 2, 2, 2, 2],\n",
       " [0,\n",
       "  2,\n",
       "  2,\n",
       "  2,\n",
       "  2,\n",
       "  2,\n",
       "  2,\n",
       "  2,\n",
       "  2,\n",
       "  2,\n",
       "  2,\n",
       "  2,\n",
       "  2,\n",
       "  2,\n",
       "  2,\n",
       "  2,\n",
       "  2,\n",
       "  2,\n",
       "  2,\n",
       "  2,\n",
       "  2,\n",
       "  2,\n",
       "  2,\n",
       "  2,\n",
       "  2,\n",
       "  2,\n",
       "  2,\n",
       "  2]]"
      ]
     },
     "execution_count": 10,
     "metadata": {},
     "output_type": "execute_result"
    }
   ],
   "source": [
    "exchanges = [exc.input.exchanges() for exc in beton_A.technosphere()]\n",
    "uncertainty_types = [[e.uncertainty['uncertainty type'] for e in exc] for exc in exchanges]\n",
    "uncertainty_types # 0 veut dire que l'incertitude n'est pas renseignée, 2 que la distribution est lognormale :"
   ]
  },
  {
   "cell_type": "markdown",
   "id": "540d2f46",
   "metadata": {},
   "source": [
    "Cela vient d'un grand nombre d'incertitudes d'ecoinvent qui suivent une loi lognormale, choisie pour de multiples raisons,  notamment pour éviter les valeurs négatives. Pour creuser ce sujet, vous pouvez lire [ce billet](https://chris.mutel.org/ecoinvent-lognormal.html) de Chris Mutel et [cet article](https://link.springer.com/article/10.1007/s11367-013-0670-5) de Ciroth et al. Or la valeur statique des procédés ecoinvent est la médiane de cette distribution ($e^{\\mu}$ si $\\mu$ est la moyenne de la distribution normale sous-jacente), qui est toujours inférieure à la moyenne ($e^{\\mu +\\frac{\\sigma^2}{2}}$)."
   ]
  },
  {
   "cell_type": "markdown",
   "id": "f8377cc9",
   "metadata": {},
   "source": [
    "D'où vient l'incertitude ? De la matrice A, de la matrice B, ou de C ? Nous pouvons utiliser un argument pratique de la fonction de calcul ACV de bright qui permet un usage sélectif des distribution :"
   ]
  },
  {
   "cell_type": "code",
   "execution_count": null,
   "id": "bd9f3ce0",
   "metadata": {},
   "outputs": [],
   "source": []
  },
  {
   "cell_type": "markdown",
   "id": "554f834a",
   "metadata": {},
   "source": [
    "### Comparaison sous incertitudes"
   ]
  },
  {
   "cell_type": "markdown",
   "id": "236616d0",
   "metadata": {},
   "source": [
    "On veut comparer désormais le béton A et le béton B."
   ]
  },
  {
   "cell_type": "code",
   "execution_count": 11,
   "id": "391cf23e",
   "metadata": {},
   "outputs": [],
   "source": [
    "beton_B = fgdb.search(\"Béton B\")[0]"
   ]
  },
  {
   "cell_type": "markdown",
   "id": "2c1e4fd5",
   "metadata": {},
   "source": [
    "On peut commencer par faire des tirages alétoires sur l'indice de potentiel de réchauffement climatique pour une unité de béton B, comme on l'a fait précédemment pour le béton A :"
   ]
  },
  {
   "cell_type": "code",
   "execution_count": 52,
   "id": "1a44b82d",
   "metadata": {},
   "outputs": [],
   "source": [
    "lca_unc_B = bc.LCA(demand={beton_B.id : 1.0},method=gwp100,use_distributions=True) # L'argument use_distribution=True indique de préparer les matrices pour des tirages aléatoires\n",
    "lca_unc_B.lci()\n",
    "lca_unc_B.lcia()\n",
    "\n",
    "scores_B = [lca_unc_B.score for _ in zip(lca_unc_B,range(n_MC))]"
   ]
  },
  {
   "cell_type": "markdown",
   "id": "ee2e616b",
   "metadata": {},
   "source": [
    "On peut désormais tracer les deux distributions de résultats sur le même graphe :"
   ]
  },
  {
   "cell_type": "code",
   "execution_count": 53,
   "id": "19ded27d",
   "metadata": {},
   "outputs": [
    {
     "data": {
      "text/plain": [
       "Text(0.5, 0, \"('ecoinvent-3.11', 'EF v3.1', 'climate change', 'global warming potential (GWP100)')\")"
      ]
     },
     "execution_count": 53,
     "metadata": {},
     "output_type": "execute_result"
    },
    {
     "data": {
      "image/png": "[encoded data removed]",
      "text/plain": [
       "<Figure size 800x500 with 1 Axes>"
      ]
     },
     "metadata": {},
     "output_type": "display_data"
    }
   ],
   "source": [
    "fig, ax = plt.subplots(figsize=(8,5))\n",
    "\n",
    "sns.histplot({'Béton A' : scores_A,'Béton B' : scores_B},element='step',binwidth=10)\n",
    "ax.axvline(x=np.mean(scores_A), color='steelblue',label = 'moyenne Béton A') # Tracé à la moyenne des tirages\n",
    "ax.axvline(x=np.mean(scores_B), color='orange',label = 'moyenne Béton B') # Tracé à la médiane des tirages\n",
    "ax.set_xlabel(str(gwp100))\n",
    "\n"
   ]
  },
  {
   "cell_type": "markdown",
   "id": "c22caec7",
   "metadata": {},
   "source": [
    "Qu'en pensez-vous ? Sauriez-vous arbitrer entre ces deux bétons ?"
   ]
  },
  {
   "cell_type": "markdown",
   "id": "124efe06",
   "metadata": {},
   "source": [
    "#### Dépendante, indépendante"
   ]
  },
  {
   "cell_type": "markdown",
   "id": "75b283f1",
   "metadata": {},
   "source": [
    "Nous avons réaliser des tirages indépendants, au sens où nous avons tirer indépendamment n_MC fois les coefficients des matrices du calcul ACV pour chaque béton. Nous pourrions considérer que lorsque un coefficient est tiré (par exemple de CO2 pour une production électrique) pour le béton A il doit rester le même pour le béton B, afin de  ne pas générer de différence là où les deux procédés sont identiques."
   ]
  },
  {
   "cell_type": "markdown",
   "id": "2c7f39fe",
   "metadata": {},
   "source": [
    "On illustre ce que veut dire une comparaison dépendante/indépendante en comparant le béton A à lui-meme, en prenant en compte les incertitudes"
   ]
  },
  {
   "cell_type": "code",
   "execution_count": 63,
   "id": "0e4ccf80",
   "metadata": {},
   "outputs": [],
   "source": [
    "demand = {beton_A.id : 1.0} # liste des demandes\n",
    "lca = bc.LCA(demand=demand,method=gwp100,use_distributions=True) # On initialise l'ACV\n",
    "lca.lci() \n",
    "lca.lcia()\n",
    "tirages = {'tirage_1' : [],'tirage_2' : []} # dictionnaire de listes vides dans lesquelles on stockera les résultats\n",
    "\n",
    "for _ in range(n_MC) : # On fait n_MC tirages\n",
    "    next(lca) # On tire les matrices\n",
    "    tmp = [] # On crée une liste temporaire pour stocker les résultats sur les deux demandes\n",
    "    lca.redo_lcia(demand)\n",
    "    tirages['tirage_1'].append(lca.score)\n",
    "    lca.redo_lcia(demand)\n",
    "    tirages['tirage_2'].append(lca.score)\n",
    "\n"
   ]
  },
  {
   "cell_type": "code",
   "execution_count": 66,
   "id": "f21faefd",
   "metadata": {},
   "outputs": [],
   "source": [
    "lca = bc.LCA(demand=demand,method=gwp100,use_distributions=True) # On initialise l'ACV\n",
    "lca.lci() \n",
    "lca.lcia()\n",
    "df_tirages_inde = pd.DataFrame({'tirage_1':[lca.score for _ in zip(lca,range(n_MC))],'tirage_2':[lca.score for _ in zip(lca,range(n_MC))]})"
   ]
  },
  {
   "cell_type": "code",
   "execution_count": 67,
   "id": "4d31e842",
   "metadata": {},
   "outputs": [
    {
     "data": {
      "text/html": [
       "<div>\n",
       "<style scoped>\n",
       "    .dataframe tbody tr th:only-of-type {\n",
       "        vertical-align: middle;\n",
       "    }\n",
       "\n",
       "    .dataframe tbody tr th {\n",
       "        vertical-align: top;\n",
       "    }\n",
       "\n",
       "    .dataframe thead th {\n",
       "        text-align: right;\n",
       "    }\n",
       "</style>\n",
       "<table border=\"1\" class=\"dataframe\">\n",
       "  <thead>\n",
       "    <tr style=\"text-align: right;\">\n",
       "      <th></th>\n",
       "      <th>tirage_1</th>\n",
       "      <th>tirage_2</th>\n",
       "    </tr>\n",
       "  </thead>\n",
       "  <tbody>\n",
       "    <tr>\n",
       "      <th>0</th>\n",
       "      <td>719.688884</td>\n",
       "      <td>719.688884</td>\n",
       "    </tr>\n",
       "    <tr>\n",
       "      <th>1</th>\n",
       "      <td>501.345678</td>\n",
       "      <td>501.345678</td>\n",
       "    </tr>\n",
       "    <tr>\n",
       "      <th>2</th>\n",
       "      <td>623.882524</td>\n",
       "      <td>623.882524</td>\n",
       "    </tr>\n",
       "    <tr>\n",
       "      <th>3</th>\n",
       "      <td>641.748842</td>\n",
       "      <td>641.748842</td>\n",
       "    </tr>\n",
       "    <tr>\n",
       "      <th>4</th>\n",
       "      <td>472.838852</td>\n",
       "      <td>472.838852</td>\n",
       "    </tr>\n",
       "    <tr>\n",
       "      <th>...</th>\n",
       "      <td>...</td>\n",
       "      <td>...</td>\n",
       "    </tr>\n",
       "    <tr>\n",
       "      <th>195</th>\n",
       "      <td>633.629730</td>\n",
       "      <td>633.629730</td>\n",
       "    </tr>\n",
       "    <tr>\n",
       "      <th>196</th>\n",
       "      <td>630.801232</td>\n",
       "      <td>630.801232</td>\n",
       "    </tr>\n",
       "    <tr>\n",
       "      <th>197</th>\n",
       "      <td>632.768495</td>\n",
       "      <td>632.768495</td>\n",
       "    </tr>\n",
       "    <tr>\n",
       "      <th>198</th>\n",
       "      <td>499.234737</td>\n",
       "      <td>499.234737</td>\n",
       "    </tr>\n",
       "    <tr>\n",
       "      <th>199</th>\n",
       "      <td>655.517754</td>\n",
       "      <td>655.517754</td>\n",
       "    </tr>\n",
       "  </tbody>\n",
       "</table>\n",
       "<p>200 rows × 2 columns</p>\n",
       "</div>"
      ],
      "text/plain": [
       "       tirage_1    tirage_2\n",
       "0    719.688884  719.688884\n",
       "1    501.345678  501.345678\n",
       "2    623.882524  623.882524\n",
       "3    641.748842  641.748842\n",
       "4    472.838852  472.838852\n",
       "..          ...         ...\n",
       "195  633.629730  633.629730\n",
       "196  630.801232  630.801232\n",
       "197  632.768495  632.768495\n",
       "198  499.234737  499.234737\n",
       "199  655.517754  655.517754\n",
       "\n",
       "[200 rows x 2 columns]"
      ]
     },
     "execution_count": 67,
     "metadata": {},
     "output_type": "execute_result"
    }
   ],
   "source": [
    "df_tirages_dep = pd.DataFrame(tirages) #On organise nos résultats en une table plus facile à visualiser et tracer\n",
    "df_tirages_dep"
   ]
  },
  {
   "cell_type": "code",
   "execution_count": 70,
   "id": "85587a23",
   "metadata": {},
   "outputs": [
    {
     "data": {
      "text/plain": [
       "Text(0.5, 1.0, 'Tirages dépendants')"
      ]
     },
     "execution_count": 70,
     "metadata": {},
     "output_type": "execute_result"
    },
    {
     "data": {
      "image/png": "[encoded data removed]",
      "text/plain": [
       "<Figure size 1200x500 with 4 Axes>"
      ]
     },
     "metadata": {},
     "output_type": "display_data"
    }
   ],
   "source": [
    "fig, ax = plt.subplots(2,2,figsize=(12,5))\n",
    "sns.histplot(df_tirages_inde,element='step',ax=ax[0,0],binwidth=10)\n",
    "sns.histplot(df_tirages_dep,element='step',ax=ax[0,1],binwidth=10)\n",
    "sns.scatterplot(df_tirages_inde,x='tirage_1',y='tirage_2',ax=ax[1,0])\n",
    "sns.scatterplot(df_tirages_dep,x='tirage_1',y='tirage_2',ax=ax[1,1])\n",
    "ax[0,0].set_title(f\"Tirages indépendants\")\n",
    "ax[0,1].set_title(f\"Tirages dépendants\")\n"
   ]
  },
  {
   "cell_type": "markdown",
   "id": "4bf17bde",
   "metadata": {},
   "source": [
    "Que s'est-il passé ?"
   ]
  },
  {
   "cell_type": "code",
   "execution_count": null,
   "id": "6180fce8",
   "metadata": {},
   "outputs": [],
   "source": [
    "np.des"
   ]
  },
  {
   "cell_type": "markdown",
   "id": "f8dae6b9",
   "metadata": {},
   "source": [
    "Sauriez-vous arbitrer entre les bétons ? Pourquoi ?"
   ]
  },
  {
   "cell_type": "markdown",
   "id": "8dd8b8d7",
   "metadata": {},
   "source": [
    "#### Indice de discernabilité ??"
   ]
  },
  {
   "cell_type": "markdown",
   "id": "29c9ef4f",
   "metadata": {},
   "source": [
    "Les manières de faire sont nombreuses"
   ]
  },
  {
   "cell_type": "code",
   "execution_count": null,
   "id": "a68fe82b",
   "metadata": {},
   "outputs": [],
   "source": []
  }
 ],
 "metadata": {
  "kernelspec": {
   "display_name": "bw25_3",
   "language": "python",
   "name": "python3"
  },
  "language_info": {
   "codemirror_mode": {
    "name": "ipython",
    "version": 3
   },
   "file_extension": ".py",
   "mimetype": "text/x-python",
   "name": "python",
   "nbconvert_exporter": "python",
   "pygments_lexer": "ipython3",
   "version": "3.12.8"
  }
 },
 "nbformat": 4,
 "nbformat_minor": 5
}
