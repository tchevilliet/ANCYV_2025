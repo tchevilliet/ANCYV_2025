{
 "cells": [
  {
   "cell_type": "markdown",
   "id": "0b1e668d",
   "metadata": {},
   "source": [
    "# Analyse d'incertitudes"
   ]
  },
  {
   "cell_type": "code",
   "execution_count": null,
   "id": "7568c098",
   "metadata": {},
   "outputs": [],
   "source": [
    "import bw2io as bi # ensemble des fonctions et classes pour importer et exporter (input/output)\n",
    "import bw2data as bd # ... pour gérer les données du projet\n",
    "import bw2calc as bc # ... pour faire des opérations\n",
    "import bw2analyzer as ba # ... pour interpréter les résultats\n",
    "import pandas as pd\n",
    "import numpy as np\n",
    "import seaborn as sns\n",
    "import matplotlib.pyplot as plt\n",
    "from tqdm import tqdm # pour les barres de progression\n",
    "\n",
    "bd.projects.set_current('project_ecoinvent_311')\n",
    "eidb = bd.Database('ecoinvent-3.11-cutoff')\n",
    "biodb = bd.Database('ecoinvent-3.11-biosphere')\n",
    "fgdb = bd.Database('betons_armes')\n",
    "\n",
    "beton_A = fgdb.search(\"Béton A\")[0]\n",
    "meth = [m for m in bd.methods if 'EF v3.1' in m[1] and 'no LT' not in m[1]]\n",
    "gwp100 = [ind for ind in meth if 'GWP100' in str(ind) and 'biogenic' not in str(ind) and 'fossil' not in str(ind) and 'land' not in str(ind)][0]\n",
    "fw_eutro = [ind for ind in meth if 'eutrophication' in str(ind).lower() and 'freshwater' in str(ind).lower()][0]"
   ]
  },
  {
   "cell_type": "markdown",
   "id": "59be9a5c",
   "metadata": {},
   "source": [
    "### Valeur nominale vs valeur moyenne"
   ]
  },
  {
   "cell_type": "markdown",
   "id": "b905c316",
   "metadata": {},
   "source": [
    "Nous commençons par réaliser une ACV de béton A prenant en compte les incertitudes sur les valeurs des flux élémentaires et intermédiaires, données par ecoinvent (sur les coefficients des matrices A et B) et sur les facteurs de caractérisation (coefficients de la matrice C). Pour commencer au plus simple, nous nous contentons de faire le calcul uniquement sur l'indicateur de potentiel d'eutrophisation des eaux douces de la méthode d'impact EF v3.1.\n",
    "\n",
    "Nous réalisons peu de lancers de Monte-Carlo (100) par économie de temps. "
   ]
  },
  {
   "cell_type": "code",
   "execution_count": null,
   "id": "01e2d2ed",
   "metadata": {},
   "outputs": [],
   "source": [
    "n_MC = 100\n",
    "lca_unc_A = bc.LCA(demand={beton_A.id : 1.0},method=fw_eutro,use_distributions=True) # L'argument use_distribution=True indique de préparer les matrices pour des tirages aléatoires\n",
    "lca_unc_A.lci()\n",
    "lca_unc_A.lcia()\n",
    "\n",
    "scores_A = [lca_unc_A.score for _ in tqdm(zip(lca_unc_A,range(n_MC)),total= n_MC, desc=\"Tirages en cours\")] #compréhension de liste où \"_\" itère sur lca_unc_A et range(n_MC) jusqu'à ce que l'un des deux soit entièrement parcouru."
   ]
  },
  {
   "cell_type": "markdown",
   "id": "1cb4f1bd",
   "metadata": {},
   "source": [
    "Le résultat obtenu est une liste de n_MC scores :"
   ]
  },
  {
   "cell_type": "code",
   "execution_count": null,
   "id": "6395c0f9",
   "metadata": {},
   "outputs": [],
   "source": [
    "scores_A # On obtient une liste de résultats"
   ]
  },
  {
   "cell_type": "markdown",
   "id": "e05c009f",
   "metadata": {},
   "source": [
    "On peut regarder des statistiques de cette liste comme la moyenne, la médiane, ou encore l'écart type :"
   ]
  },
  {
   "cell_type": "code",
   "execution_count": null,
   "id": "24b1c0c8",
   "metadata": {},
   "outputs": [],
   "source": [
    "scores_mean_A = np.mean(scores_A)\n",
    "scores_med_A = np.median(scores_A)\n",
    "scores_std_A = np.std(scores_A)\n",
    "print('moyenne : ', '%.3f'%scores_mean_A,'\\n','médiane : ','%.3f'%scores_med_A,'\\n', 'écart-type : ' '%.3f'%scores_std_A)"
   ]
  },
  {
   "cell_type": "markdown",
   "id": "8bee3bc0",
   "metadata": {},
   "source": [
    "On peut calculer le score d'impact par ACV sans tirage aléatoire, dite valeur nominale, afin de comparer le comparer aux résultats obtenus par tirages."
   ]
  },
  {
   "cell_type": "code",
   "execution_count": null,
   "id": "a73b7fca",
   "metadata": {},
   "outputs": [],
   "source": [
    "lca = bc.LCA(demand={beton_A.id : 1.0},method=fw_eutro)\n",
    "lca.lci()\n",
    "lca.lcia()\n",
    "\n",
    "s = lca.score # s stocke la valeur nominale (score d'eutrophisation des eaux douces)\n",
    "s"
   ]
  },
  {
   "cell_type": "markdown",
   "id": "67a1136c",
   "metadata": {},
   "source": [
    "Et tracer ces différents résultats sur un graphe :"
   ]
  },
  {
   "cell_type": "code",
   "execution_count": null,
   "id": "41e8af48",
   "metadata": {},
   "outputs": [],
   "source": [
    "\n",
    "fig, ax = plt.subplots()\n",
    "sns.histplot(scores_A,binwidth=0.02,element='step',label = \"distribution tirages\",legend=True) # Tracé de la distribution\n",
    "ax.axvline(x=s, color='orange',label = 'valeur nominale') # Tracé d'une ligne verticale à la valeur en calcul statique\n",
    "ax.axvline(x=scores_mean_A, color='midnightblue',label = 'moyenne') # Tracé à la moyenne des tirages\n",
    "ax.axvline(x=scores_med_A, color='darkseagreen',label = 'médiane') # Tracé à la médiane des tirages\n",
    "ax.legend(loc='upper right')\n"
   ]
  },
  {
   "cell_type": "markdown",
   "id": "f07fcf7e",
   "metadata": {},
   "source": [
    "On remarque un décalage entre la valeur nominale (score sans tirage) et la moyenne des tirages. Pourquoi ?"
   ]
  },
  {
   "cell_type": "markdown",
   "id": "0cbeb6e5",
   "metadata": {},
   "source": [
    "On regarde le type d'incertitude renseigné dans les échanges de nos procédés. Ci-dessous, \"0\" veut dire que l'incertitude n'est pas renseignée, \"2\" que la distribution est lognormale :"
   ]
  },
  {
   "cell_type": "code",
   "execution_count": null,
   "id": "eafa53c4",
   "metadata": {},
   "outputs": [],
   "source": [
    "exchanges = [exc.input.exchanges() for exc in beton_A.technosphere()]\n",
    "uncertainty_types = [[e.uncertainty['uncertainty type'] for e in exc] for exc in exchanges]\n",
    "print([u for u in uncertainty_types])"
   ]
  },
  {
   "cell_type": "markdown",
   "id": "540d2f46",
   "metadata": {},
   "source": [
    "Ce décalage vient d'un grand nombre d'incertitudes d'ecoinvent qui suivent une loi lognormale, choisie pour de multiples raisons,  notamment pour éviter les valeurs négatives. Pour creuser ce sujet, vous pouvez lire [ce billet](https://chris.mutel.org/ecoinvent-lognormal.html) de Chris Mutel et [cet article](https://link.springer.com/article/10.1007/s11367-013-0670-5) de Ciroth et al. Or la valeur nominale des procédés ecoinvent est la médiane de cette distribution ($e^{\\mu}$ si $\\mu$ est la moyenne de la distribution normale sous-jacente), qui est toujours inférieure à la moyenne ($e^{\\mu +\\frac{\\sigma^2}{2}}$)."
   ]
  },
  {
   "cell_type": "markdown",
   "id": "f8377cc9",
   "metadata": {},
   "source": [
    "D'où vient l'incertitude ? De la matrice A, de la matrice B, ou de C ? Nous pouvons utiliser un argument pratique de la fonction de calcul ACV de brightway qui permet de choisir sur quelles matrices du calcul les incertitudes sont considérées :"
   ]
  },
  {
   "cell_type": "code",
   "execution_count": null,
   "id": "bd9f3ce0",
   "metadata": {},
   "outputs": [],
   "source": [
    "n_MC =100\n",
    "d_scores_A ={} \n",
    "variantes ={'technosphere':[True,False,False],'biosphere':[False,True,False],'caracterisation':[False,False,True]}\n",
    "for k in variantes.keys():\n",
    "    lca_unc_A_selectiv = bc.LCA(demand={beton_A.id : 1.0},method=fw_eutro,\n",
    "    selective_use= {\n",
    "        \"technosphere_matrix\" : {\"use_distributions\" : variantes[k][0]},\n",
    "        \"biosphere_matrix\" : {\"use_distributions\" : variantes[k][1]},\n",
    "        \"characterization_matrix\" : {\"use_distributions\" : variantes[k][2]}\n",
    "        })\n",
    "    lca_unc_A_selectiv.lci()\n",
    "    lca_unc_A_selectiv.lcia()\n",
    "    d_scores_A[k] = [lca_unc_A_selectiv.score for _ in tqdm(zip(lca_unc_A_selectiv,range(n_MC)),total= n_MC, desc=f\"{k} en cours\")]"
   ]
  },
  {
   "cell_type": "markdown",
   "id": "01337a5c",
   "metadata": {},
   "source": [
    "On range les résultats dans un tableau pour pouvoir le tracer :"
   ]
  },
  {
   "cell_type": "code",
   "execution_count": null,
   "id": "4ee643cd",
   "metadata": {},
   "outputs": [],
   "source": [
    "df_scores_A = pd.DataFrame(columns = ['score','uncertainty_on'])\n",
    "for k,v in d_scores_A.items() :\n",
    "    for score in v :\n",
    "        tmp = pd.DataFrame({'score' : [score],'uncertainty_on' : [k]})\n",
    "        df_scores_A = pd.concat([df_scores_A,tmp])\n"
   ]
  },
  {
   "cell_type": "markdown",
   "id": "3ce9d9e0",
   "metadata": {},
   "source": [
    "On trace, et on affiche également les statistiques pour les trois cas :"
   ]
  },
  {
   "cell_type": "code",
   "execution_count": null,
   "id": "26a0d04e",
   "metadata": {},
   "outputs": [],
   "source": [
    "fig, ax = plt.subplots(1,2,figsize=(15,5))\n",
    "sns.histplot(data=df_scores_A,x='score',hue='uncertainty_on',stat=\"count\",element=\"step\",ax=ax[0])\n",
    "sns.histplot(data=df_scores_A[df_scores_A['uncertainty_on'] != 'caracterisation'],x='score',hue='uncertainty_on',stat=\"count\",element=\"step\",ax=ax[1])\n",
    "\n",
    "df_stats = pd.DataFrame(index=list(d_scores_A.keys()), columns =['moyenne','médiane','écart-type'])\n",
    "df_stats['moyenne'] = ['%.3f'%np.mean(v) for v in d_scores_A.values()]\n",
    "df_stats['médiane'] = ['%.3f'%np.median(v) for v in d_scores_A.values()]\n",
    "df_stats['écart-type'] = ['%.3f'%np.std(v) for v in d_scores_A.values()]\n",
    "\n",
    "df_stats"
   ]
  },
  {
   "cell_type": "markdown",
   "id": "9c6d1595",
   "metadata": {},
   "source": [
    "Quelles conclusions tirez-vous ?"
   ]
  },
  {
   "cell_type": "markdown",
   "id": "554f834a",
   "metadata": {},
   "source": [
    "### Comparaison sous incertitudes"
   ]
  },
  {
   "cell_type": "markdown",
   "id": "236616d0",
   "metadata": {},
   "source": [
    "On veut comparer désormais le béton A et le béton B."
   ]
  },
  {
   "cell_type": "code",
   "execution_count": null,
   "id": "391cf23e",
   "metadata": {},
   "outputs": [],
   "source": [
    "beton_B = fgdb.search(\"Béton B\")[0]"
   ]
  },
  {
   "cell_type": "markdown",
   "id": "2c1e4fd5",
   "metadata": {},
   "source": [
    "On peut commencer par faire des tirages alétoires afin de calculer l'indicateur de potentiel d'eutrophisation des eaux douces pour une unité de béton B, comme on l'a fait précédemment pour le béton A :"
   ]
  },
  {
   "cell_type": "code",
   "execution_count": null,
   "id": "1a44b82d",
   "metadata": {},
   "outputs": [],
   "source": [
    "n_MC = 100\n",
    "lca_unc_B = bc.LCA(demand={beton_B.id : 1.0},method=fw_eutro,use_distributions=True) # L'argument use_distribution=True indique de préparer les matrices pour des tirages aléatoires\n",
    "lca_unc_B.lci()\n",
    "lca_unc_B.lcia()\n",
    " \n",
    "scores_B = [lca_unc_B.score for _ in tqdm(zip(lca_unc_B,range(n_MC)),total= n_MC, desc=f\"Tirages en cours\")]"
   ]
  },
  {
   "cell_type": "code",
   "execution_count": null,
   "id": "331c0bb7",
   "metadata": {},
   "outputs": [],
   "source": [
    "scores_B"
   ]
  },
  {
   "cell_type": "code",
   "execution_count": null,
   "id": "eb793859",
   "metadata": {},
   "outputs": [],
   "source": [
    "scores_mean_B = np.mean(scores_B)\n",
    "scores_med_B = np.median(scores_B)\n",
    "scores_std_B = np.std(scores_B)\n",
    "print('moyenne : ', '%.3f'%scores_mean_B ,'\\n','médiane : ','%.3f'%scores_med_B ,'\\n', 'écart-type : ' '%.3f'%scores_std_B )"
   ]
  },
  {
   "cell_type": "markdown",
   "id": "ee2e616b",
   "metadata": {},
   "source": [
    "On peut désormais tracer les deux distributions de résultats sur le même graphe :"
   ]
  },
  {
   "cell_type": "code",
   "execution_count": null,
   "id": "19ded27d",
   "metadata": {},
   "outputs": [],
   "source": [
    "print(\"moyenne du béton A : \",scores_mean_A,\"\\n\",\"moyenne du béton B : \",scores_mean_B)\n",
    "fig, ax = plt.subplots(figsize=(12,5))\n",
    "\n",
    "sns.histplot({'Béton A' : scores_A,'Béton B' : scores_B},element='step',binwidth=0.02)\n",
    "ax.axvline(x=np.mean(scores_A), color='steelblue',label = 'moyenne Béton A') # Tracé à la moyenne des tirages\n",
    "ax.axvline(x=np.mean(scores_B), color='orange',label = 'moyenne Béton B') # Tracé à la médiane des tirages\n",
    "ax.set_xlabel(str(fw_eutro))\n"
   ]
  },
  {
   "cell_type": "markdown",
   "id": "c22caec7",
   "metadata": {},
   "source": [
    "Qu'en pensez-vous ? Sauriez-vous arbitrer entre ces deux bétons ?"
   ]
  },
  {
   "cell_type": "markdown",
   "id": "124efe06",
   "metadata": {},
   "source": [
    "#### Dépendante, indépendante"
   ]
  },
  {
   "cell_type": "markdown",
   "id": "75b283f1",
   "metadata": {},
   "source": [
    "Nous avons réalisé des tirages indépendants, au sens où nous avons tiré indépendamment n_MC fois les coefficients des matrices du calcul ACV pour chaque béton. Nous pourrions considérer que lorsque un coefficient est tiré (par exemple un coefficient de la matrice environnementale comme l'émission de CO2 dans l'air pour une production d'1 kWh électrique en France) pour le béton A il doit rester le même pour le béton B, afin de  ne pas générer de différence là où les deux procédés sont identiques (pour poursuivre l'exemple, on fait l'hypothèse que les bétons A et B sont produits avec le même mix électrique)."
   ]
  },
  {
   "cell_type": "code",
   "execution_count": null,
   "id": "6ca65ad6",
   "metadata": {},
   "outputs": [],
   "source": [
    "demands = [{beton_A.id : 1.0},{beton_B.id : 1.0}] # liste des demandes\n",
    "lca = bc.LCA(demand=demands[0],method=fw_eutro,use_distributions=True) # On initialise l'ACV, la demande ici importe peu\n",
    "lca.lci() \n",
    "lca.lcia()\n",
    "tirages = {'Béton A' : [],'Béton B' : []} # dictionnaire de listes vides dans lesquelles on stockera les résultats\n",
    "\n",
    "for _ in tqdm(range(n_MC),total=n_MC,desc=\"Tirages en cours\") : # On fait n_MC tirages\n",
    "    next(lca) # On tire les matrices\n",
    "    lca.redo_lcia(demands[0]) # On calcule la matrice d'inventaire caractérisée pour la demande spécifiée\n",
    "    tirages['Béton A' ].append(lca.score)\n",
    "    lca.redo_lcia(demands[1]) # On calcule la matrice d'inventaire caractérisée pour la demande spécifiée, sans changer les matrices A, B et C !!!!!!\n",
    "    tirages['Béton B' ].append(lca.score)"
   ]
  },
  {
   "cell_type": "markdown",
   "id": "524cd5eb",
   "metadata": {},
   "source": [
    "On range les résultats dans des tableaux, et on trace :"
   ]
  },
  {
   "cell_type": "code",
   "execution_count": null,
   "id": "c0cfd4ad",
   "metadata": {},
   "outputs": [],
   "source": [
    "df_comp_dep = pd.DataFrame(tirages)\n",
    "df_comp_inde = pd.DataFrame({'Béton A':scores_A,'Béton B':scores_B,})"
   ]
  },
  {
   "cell_type": "code",
   "execution_count": null,
   "id": "d11cab10",
   "metadata": {},
   "outputs": [],
   "source": [
    "fig, ax = plt.subplots(3,2,figsize=(12,10))\n",
    "sns.histplot(df_comp_inde,element='step',ax=ax[0,0],binwidth=0.01)\n",
    "sns.histplot(df_comp_dep,element='step',ax=ax[0,1],binwidth=0.01)\n",
    "sns.scatterplot(df_comp_inde,x='Béton A',y='Béton B',ax=ax[1,0])\n",
    "sns.scatterplot(df_comp_dep,x='Béton A',y='Béton B',ax=ax[1,1])\n",
    "sns.histplot(df_comp_inde['Béton A']-df_comp_inde['Béton B'],element='step',ax=ax[2,0],binwidth=0.01)\n",
    "sns.histplot(df_comp_dep['Béton A']-df_comp_dep['Béton B'],element='step',ax=ax[2,1],binwidth=0.001)\n",
    "ax[0,0].set_title(f\"Tirages indépendants\")\n",
    "ax[0,0].set_xlim(-0.02,0.8)\n",
    "ax[0,1].set_title(f\"Tirages dépendants\")\n",
    "ax[0,1].set_xlim(-0.02,0.8)\n",
    "ax[1,0].set_xlim(0,0.45)\n",
    "ax[1,1].set_xlim(0,0.45)\n",
    "ax[1,1].set_ylim(0,0.45)\n",
    "ax[2,0].set_xlabel(f\"Différence des tirages terme à terme (Béton A - Béton B)\")\n",
    "ax[2,0].set_xlim(-0.3,0.3)\n",
    "ax[2,1].set_xlabel(f\"Différence des tirages terme à terme (Béton A - Béton B)\")\n",
    "ax[2,1].set_xlim(-0.3,0.3)"
   ]
  },
  {
   "cell_type": "markdown",
   "id": "0e47b14f",
   "metadata": {},
   "source": [
    "On peut confirmer par le calcul ce que l'on aperçoit visuellement, à savoir que la dépendance des comparaisons permet de réduire la dispersion de la différence terme à terme des tirages :"
   ]
  },
  {
   "cell_type": "code",
   "execution_count": null,
   "id": "ab01a7fe",
   "metadata": {},
   "outputs": [],
   "source": [
    "df_stats = pd.DataFrame(columns=['Indépendante','Dépendante'],index=['moyenne',\"médiane\",\"écart type\"])\n",
    "delta_inde = df_comp_inde['Béton A']-df_comp_inde['Béton B']\n",
    "delta_dep = df_comp_dep['Béton A']-df_comp_dep['Béton B']\n",
    "df_stats['Indépendante'] = [np.mean(delta_inde),np.median(delta_inde),np.std(delta_inde)]\n",
    "df_stats['Dépendante'] = [np.mean(delta_dep),np.median(delta_dep),np.std(delta_dep)]\n",
    "df_stats"
   ]
  },
  {
   "cell_type": "markdown",
   "id": "3f3cd82e",
   "metadata": {},
   "source": [
    "Sauriez-vous arbitrer entre les bétons ? Pourquoi ?"
   ]
  },
  {
   "cell_type": "markdown",
   "id": "f22678ba",
   "metadata": {},
   "source": [
    "#### Minute théorique"
   ]
  },
  {
   "cell_type": "markdown",
   "id": "2c7f39fe",
   "metadata": {},
   "source": [
    "Pour être encore plus explicite, on peut illustrer ce que veut dire une comparaison dépendante/indépendante en comparant le béton A à lui-meme, en prenant en compte les incertitudes."
   ]
  },
  {
   "cell_type": "code",
   "execution_count": null,
   "id": "0e4ccf80",
   "metadata": {},
   "outputs": [],
   "source": [
    "demand = {beton_A.id : 1.0} # liste des demandes\n",
    "lca = bc.LCA(demand=demand,method=fw_eutro,use_distributions=True) # On initialise l'ACV\n",
    "lca.lci() \n",
    "lca.lcia()\n",
    "tirages = {'tirage_1' : [],'tirage_2' : []} # dictionnaire de listes vides dans lesquelles on stockera les résultats\n",
    "\n",
    "for _ in tqdm(range(n_MC),total=n_MC,desc=\"Tirages en cours\") : # On fait n_MC tirages\n",
    "    next(lca) # On tire les matrices\n",
    "    tmp = [] # On crée une liste temporaire pour stocker les résultats sur les deux demandes\n",
    "    lca.redo_lcia(demand)\n",
    "    tirages['tirage_1'].append(lca.score)\n",
    "    lca.redo_lcia(demand)\n",
    "    tirages['tirage_2'].append(lca.score)\n",
    "\n"
   ]
  },
  {
   "cell_type": "code",
   "execution_count": null,
   "id": "4d31e842",
   "metadata": {},
   "outputs": [],
   "source": [
    "df_tirages_dep = pd.DataFrame(tirages) #On organise nos résultats en une table plus facile à visualiser et tracer\n",
    "df_tirages_dep"
   ]
  },
  {
   "cell_type": "code",
   "execution_count": null,
   "id": "f21faefd",
   "metadata": {},
   "outputs": [],
   "source": [
    "lca = bc.LCA(demand=demand,method=fw_eutro,use_distributions=True) # On initialise l'ACV\n",
    "lca.lci() \n",
    "lca.lcia()\n",
    "df_tirages_inde = pd.DataFrame({'tirage_1':[lca.score for _ in tqdm(zip(lca,range(n_MC)),total=n_MC,desc=\"Tirage 1 en cours\")],\n",
    "                                'tirage_2':[lca.score for _ in tqdm(zip(lca,range(n_MC)),total=n_MC,desc=\"Tirage 2 en cours\")]})"
   ]
  },
  {
   "cell_type": "code",
   "execution_count": null,
   "id": "85587a23",
   "metadata": {},
   "outputs": [],
   "source": [
    "fig, ax = plt.subplots(3,2,figsize=(12,10))\n",
    "sns.histplot(df_tirages_inde,element='step',ax=ax[0,0],binwidth=0.02)\n",
    "sns.histplot(df_tirages_dep,element='step',ax=ax[0,1],binwidth=0.02)\n",
    "sns.scatterplot(df_tirages_inde,x='tirage_1',y='tirage_2',ax=ax[1,0])\n",
    "sns.scatterplot(df_tirages_dep,x='tirage_1',y='tirage_2',ax=ax[1,1])\n",
    "sns.histplot(df_tirages_inde['tirage_1']-df_tirages_inde['tirage_2'],element='step',ax=ax[2,0],binwidth=0.02)\n",
    "# sns.histplot(df_tirages_dep['tirage_1']-df_tirages_dep['tirage_2'],element='step',ax=ax[2,1])\n",
    "ax[0,0].set_title(f\"Tirages indépendants\")\n",
    "ax[0,1].set_title(f\"Tirages dépendants\")\n",
    "# ax[2,1].set_xlim(-0.4,0.4)\n",
    "ax[2,0].set_xlabel(f\"Différence des tirages termes à termes\")\n",
    "# ax[2,1].set_xlabel(f\"Différence des tirages termes à termes\")"
   ]
  },
  {
   "cell_type": "markdown",
   "id": "4bf17bde",
   "metadata": {},
   "source": [
    "Que s'est-il passé ?"
   ]
  },
  {
   "cell_type": "markdown",
   "id": "8dd8b8d7",
   "metadata": {},
   "source": [
    "#### Indices de discernabilité"
   ]
  },
  {
   "cell_type": "markdown",
   "id": "00ac1bb8",
   "metadata": {},
   "source": [
    "Comment choisir objectivement entre A et B ?"
   ]
  },
  {
   "cell_type": "markdown",
   "id": "29c9ef4f",
   "metadata": {},
   "source": [
    "Les manières de faire sont nombreuses, ici nous présentons des indices simples de comparaison qui permettent d'objectiver les arbitrages. Pour plus d'informations sur ces indices, vous pouvez lire [cet article](https://doi.org/10.1007/s11367-020-01851-4), où sont indiqués les manières de les calculer ainsi que leurs avantages et inconvénients."
   ]
  },
  {
   "cell_type": "markdown",
   "id": "e3b0ae91",
   "metadata": {},
   "source": [
    "En considèrant la fonction $\\Theta(x)$ qui renvoie $1$ si $x>0$ et $0$ sinon, on peut définir un premier indice qui compte le nombre de fois où, sur l'ensemble des tirages, le score de A ($a_i$) est inférieur à celui de B ($b_i$):\n",
    "$$\n",
    "K_A = \\dfrac{1}{n}\\sum_{i=1}^{n}\\Theta(b_i-a_i)\\\\\n",
    "$$\n",
    "Cet indice est une comparaison terme à terme des listes de scores et peut être interprété comme une probabilité qu'un échantillon de A soit meilleur qu'un échantillon de B.\n"
   ]
  },
  {
   "cell_type": "code",
   "execution_count": null,
   "id": "a68fe82b",
   "metadata": {},
   "outputs": [],
   "source": [
    "def K(A_mc,B_mc) :\n",
    "    assert len(A_mc) == len(B_mc) , 'Same number of Monte-Carlo runs needed'\n",
    "    n=len(A_mc)\n",
    "    ka = (1/n)*sum([\n",
    "        np.heaviside((B_mc[i]-A_mc[i]),0) for i in range(n)\n",
    "        ])\n",
    "    kb = (1/n)*sum([\n",
    "        np.heaviside((A_mc[i]-B_mc[i]),0) for i in range(n)\n",
    "        ])\n",
    "    return {'K_A': ka , 'K_B': kb}"
   ]
  },
  {
   "cell_type": "code",
   "execution_count": null,
   "id": "cad2583f",
   "metadata": {},
   "outputs": [],
   "source": [
    "res_K_dep = K(df_comp_dep['Béton A'],df_comp_dep['Béton B'])\n",
    "res_K_dep"
   ]
  },
  {
   "cell_type": "code",
   "execution_count": null,
   "id": "8fabded0",
   "metadata": {},
   "outputs": [],
   "source": [
    "res_K_inde = K(df_comp_inde['Béton A'],df_comp_inde['Béton B'])\n",
    "res_K_inde"
   ]
  },
  {
   "cell_type": "markdown",
   "id": "ea64afaa",
   "metadata": {},
   "source": [
    "##### Si jamais on doit faire des tirages indépendants"
   ]
  },
  {
   "cell_type": "markdown",
   "id": "7e21b7c7",
   "metadata": {},
   "source": [
    "Un problème de l'indice K est son manque de robustesse : il est sensible à l'ordre des liste. Par exemple, si l'on trie les listes (ce qui n'aurait pas de sens dans le cas d'un tirage dépendant) :"
   ]
  },
  {
   "cell_type": "code",
   "execution_count": null,
   "id": "7718a74b",
   "metadata": {},
   "outputs": [],
   "source": [
    "res_K_inde_sorted = K(sorted(df_comp_inde['Béton A']),sorted(df_comp_inde['Béton B'])) # listes triées par ordre croissant\n",
    "res_K_inde_sorted"
   ]
  },
  {
   "cell_type": "markdown",
   "id": "a3c4471d",
   "metadata": {},
   "source": [
    "Pour une comparaison indépendante plus robuste, on peut également choisir de comparer chaque terme de $(a_i)$ à tous les termes de $(b_i)$. Définissons alors $K_2$ :\n",
    "$$\n",
    "K_{2,A} = \\dfrac{1}{n^2}\\sum_{i=1}^{n}\\sum_{j=1}^{n}\\Theta(b_i-a_j)\n",
    "$$\n",
    "Cette indice de comparaison de chacun des termes avec tous ceux de l'autre liste peut être interprété comme la probabilité que A soit meilleur que B."
   ]
  },
  {
   "cell_type": "code",
   "execution_count": null,
   "id": "9cf351c4",
   "metadata": {},
   "outputs": [],
   "source": [
    "def K2(A_mc,B_mc):\n",
    "    assert len(A_mc) == len(B_mc) , 'Same number of Monte-Carlo runs needed'\n",
    "    n=len(A_mc)\n",
    "    ka = (1/n)*sum([\n",
    "        (1/n)*sum([\n",
    "        np.heaviside((B_mc[i]-A_mc[j]),0) for j in range(n)\n",
    "        ]) for i in range(n)\n",
    "        ])\n",
    "    kb = (1/n)*sum([\n",
    "        (1/n)*sum([\n",
    "        np.heaviside((A_mc[i]-B_mc[j]),0) for j in range(n)\n",
    "        ]) for i in range(n)\n",
    "        ])\n",
    "    return {'K2_A': ka , 'K2_B': kb}"
   ]
  },
  {
   "cell_type": "code",
   "execution_count": null,
   "id": "a0410b2f",
   "metadata": {},
   "outputs": [],
   "source": [
    "res_K2_inde = K2(df_comp_inde['Béton A'],df_comp_inde['Béton B'])\n",
    "res_K2_inde_sorted = K2(sorted(df_comp_inde['Béton A']),sorted(df_comp_inde['Béton B']))\n",
    "print(res_K2_inde)"
   ]
  },
  {
   "cell_type": "code",
   "execution_count": null,
   "id": "3c52e4eb",
   "metadata": {},
   "outputs": [],
   "source": [
    "\n",
    "res_K2_inde_sorted"
   ]
  },
  {
   "cell_type": "markdown",
   "id": "21a7d405",
   "metadata": {},
   "source": [
    "Que conclure ?"
   ]
  }
 ],
 "metadata": {
  "kernelspec": {
   "display_name": "bw25",
   "language": "python",
   "name": "python3"
  },
  "language_info": {
   "codemirror_mode": {
    "name": "ipython",
    "version": 3
   },
   "file_extension": ".py",
   "mimetype": "text/x-python",
   "name": "python",
   "nbconvert_exporter": "python",
   "pygments_lexer": "ipython3",
   "version": "3.12.12"
  }
 },
 "nbformat": 4,
 "nbformat_minor": 5
}
