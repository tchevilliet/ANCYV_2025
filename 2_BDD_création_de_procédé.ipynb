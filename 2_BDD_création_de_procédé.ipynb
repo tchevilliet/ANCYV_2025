{
 "cells": [
  {
   "cell_type": "markdown",
   "id": "87aed915-5ce5-43d3-b837-11c39f769d78",
   "metadata": {},
   "source": [
    "# Bases de données et création de procédés"
   ]
  },
  {
   "cell_type": "markdown",
   "id": "39a812df-5fb4-4fd6-81f2-84523f38789d",
   "metadata": {},
   "source": [
    "Nous avons vu qu'une ACV consistait en deux grandes étapes : \n",
    "1. celle d'inventaire ;\n",
    "2. puis celle de caractérisation d'inventaire.\n",
    "\n",
    "En pratique, on s'appuie sur des bases de données (BDD) qui décrivent :\n",
    "- la technosphère (ensemble des procédés et des flux qui les relient, dits flux intermédiaires) ; \n",
    "- la biosphère (ensemble des matières et substances potentiellement extraites ou émises par les procédés, dits flux élémentaires) ;\n",
    "- les méthodes d'impacts (défintion des catégories d'impact, des indicateurs, des facteurs de caractérisation associés, et accessoirement des facteurs d'agrégation et/ou de normalisation)\n",
    "\n",
    "SCHEMA INVENTAIRE IMPACTS FLUX\n",
    "\n",
    "Commençons par les procédés. Nous utilisons couramment pour modéliser ces derniers la base de données ecoinvent qui est générique - elle recouvre plusieurs secteurs d'activités (Industrie, Énergie, Matériaux, Transports...).\n",
    "\n",
    "Vous pouvez explorer cette BDD en ligne à ce lien : [https://ecoquery.ecoinvent.org/3.11/cutoff](https://ecoquery.ecoinvent.org/3.11/cutoff). (version, allocation, exemple de procédé)\n",
    "\n",
    "Pour réaliser des ACV à partir de ces BDD, plusieurs logiciels sont disponibles (des libres tels OpenLCA et brightway ; des payants tels SimaPro, OneClick LCA ou Holis). Nous utilisons la librairie python brightway 2.5 dans ce qui suit car elle est open-source, permet de profiter de l'écosystème python, s'appuie explicitement sur le formalisme mathématique vu précédemment et évite l'effet \"boîte noire\"."
   ]
  },
  {
   "cell_type": "markdown",
   "id": "c21f1cd0-5ccb-4a02-97e5-3d298237aa40",
   "metadata": {},
   "source": [
    "**Documentation de brightway2.5**\n",
    "\n",
    "Voir :\n",
    "\n",
    "- documentation générale : https://docs.brightway.dev/en/latest/content/overview/index.html\n",
    "- pense-bête : https://docs.brightway.dev/en/latest/content/cheatsheet/index.html"
   ]
  },
  {
   "cell_type": "markdown",
   "id": "f7c049a7-0660-467f-97c2-e4dd56c54019",
   "metadata": {},
   "source": [
    "## Import des librairies et mise en place du projet"
   ]
  },
  {
   "cell_type": "code",
   "execution_count": 42,
   "id": "6cd59299-1309-402c-82c8-38697f1b598c",
   "metadata": {},
   "outputs": [],
   "source": [
    "import bw2io as bi # ensemble des fonctions et classes pour importer et exporter (input/output)\n",
    "import bw2data as bd # ... pour gérer les données du projet\n",
    "import bw2calc as bc # ... pour faire des opérations\n",
    "import bw2analyzer as ba # ... pour interpréter les résultats\n",
    "\n",
    "import pandas as pd # pour utiliser un format de table pratique\n",
    "import seaborn as sns # pour tracer des graphes à partir de ces tables\n",
    "import matplotlib.pyplot as plt"
   ]
  },
  {
   "cell_type": "code",
   "execution_count": 3,
   "id": "2df60d68-bfc3-4308-8ae5-dba66a9b7e29",
   "metadata": {},
   "outputs": [],
   "source": [
    "bd.projects.set_current('2025-06-10_ecoinvent_311') # On se met dans un projet (ie un dossier) qui contient déjà ecoinvent 3.11 cut-off"
   ]
  },
  {
   "cell_type": "code",
   "execution_count": 4,
   "id": "cc98eca4",
   "metadata": {},
   "outputs": [
    {
     "data": {
      "text/plain": [
       "Databases dictionary with 4 object(s):\n",
       "\tbetons_armes\n",
       "\tecoinvent-3.11-biosphere\n",
       "\tecoinvent-3.11-cutoff\n",
       "\tsoletanche_database"
      ]
     },
     "execution_count": 4,
     "metadata": {},
     "output_type": "execute_result"
    }
   ],
   "source": [
    "bd.databases # On peut vérifier les BDD disponibles dans ce projet"
   ]
  },
  {
   "cell_type": "markdown",
   "id": "c0f0ab1b-f4b9-4291-bb75-248920a07c85",
   "metadata": {},
   "source": [
    "## Exploration d'ecoinvent"
   ]
  },
  {
   "cell_type": "markdown",
   "id": "a0b92161",
   "metadata": {},
   "source": [
    "On peut commencer par se poser les questions suivantes."
   ]
  },
  {
   "cell_type": "markdown",
   "id": "7db72a7b",
   "metadata": {},
   "source": [
    "1. Combien y a-t-il d'éléments dans cette biosphère ?"
   ]
  },
  {
   "cell_type": "code",
   "execution_count": 5,
   "id": "f281e4fe",
   "metadata": {},
   "outputs": [
    {
     "data": {
      "text/plain": [
       "9795"
      ]
     },
     "execution_count": 5,
     "metadata": {},
     "output_type": "execute_result"
    }
   ],
   "source": [
    "biodb = bd.Database('ecoinvent-3.11-biosphere')\n",
    "len(biodb)"
   ]
  },
  {
   "cell_type": "code",
   "execution_count": 6,
   "id": "1c9cb4ac",
   "metadata": {},
   "outputs": [
    {
     "data": {
      "text/plain": [
       "'Thiobencarb' (kilogram, None, ('water', 'surface water'))"
      ]
     },
     "execution_count": 6,
     "metadata": {},
     "output_type": "execute_result"
    }
   ],
   "source": [
    "element = biodb.random() #On met dans une variable un élément de la biosphère choisi aléatoirement \n",
    "element"
   ]
  },
  {
   "cell_type": "code",
   "execution_count": 7,
   "id": "2641d83f",
   "metadata": {},
   "outputs": [
    {
     "data": {
      "text/plain": [
       "{'categories': ('water', 'surface water'),\n",
       " 'code': 'af2692ae-53c6-520d-b0cd-a1963ce0318a',\n",
       " 'CAS number': '028249-77-6',\n",
       " 'synonyms': [],\n",
       " 'name': 'Thiobencarb',\n",
       " 'database': 'ecoinvent-3.11-biosphere',\n",
       " 'unit': 'kilogram',\n",
       " 'type': 'emission',\n",
       " 'id': 190810763435044976}"
      ]
     },
     "execution_count": 7,
     "metadata": {},
     "output_type": "execute_result"
    }
   ],
   "source": [
    "element.as_dict()"
   ]
  },
  {
   "cell_type": "markdown",
   "id": "9be1f39e",
   "metadata": {},
   "source": [
    "2. Combien y a-t-il de procédés dans cette technosphère ?"
   ]
  },
  {
   "cell_type": "code",
   "execution_count": 8,
   "id": "4c9dde5d",
   "metadata": {},
   "outputs": [
    {
     "data": {
      "text/plain": [
       "25412"
      ]
     },
     "execution_count": 8,
     "metadata": {},
     "output_type": "execute_result"
    }
   ],
   "source": [
    "eidb = bd.Database('ecoinvent-3.11-cutoff') #On sélectionne la technosphere que l'on stocke dans une variable\n",
    "len(eidb) #La longueur de celle-ci correspond au nombre de procédés différents disponibles"
   ]
  },
  {
   "cell_type": "code",
   "execution_count": 9,
   "id": "4053353c",
   "metadata": {},
   "outputs": [
    {
     "data": {
      "text/plain": [
       "'sodium tripolyphosphate production' (kilogram, RER, None)"
      ]
     },
     "execution_count": 9,
     "metadata": {},
     "output_type": "execute_result"
    }
   ],
   "source": [
    "activity = eidb.random()\n",
    "activity"
   ]
  },
  {
   "cell_type": "code",
   "execution_count": 10,
   "id": "cb939090",
   "metadata": {},
   "outputs": [
    {
     "data": {
      "text/plain": [
       "{'comment': \"This dataset represents the production of 1 kg of spray-dried powder of sodiumtripolyphosphate (STPP). STPP is a solid, inorganic compound present in the form of slightly hygroscopic granules. It is used in a large variety of household cleaning products, mainly as builder – but also in human foodstuff, animal feed, industrial cleaning processes and ceramics manufacture. Within the cleaning products STPP can be one of the ingredients of regular and compact laundry detergents, of automatic dishwashing detergents, of toilet cleaners or of surface cleaners. As builder in these detergents, STPP provides various functions – among them e.g. the sequestration of the water hardness, enabling surfactants to function effectively. Further functions of STPP are pH buffering, dirt emulsification or hydrolysis of grease. STPP used within the detergent industry is produced from sodium phosphate ortho-liquor. In this dataset, the material and energy inputs, as well as production of waste, are based on literature resources. The infrastructure is estimated based on a large chemical plant.\\nReferences:\\nZah R., Hischier R. (2007) Life Cycle Inventories of Detergents. ecoinvent report No. 12. Swiss Centre for Life Cycle Inventories, Dübendorf, 2007.\\nIncluded activities start:  From reception of raw materials at the factory gate.\\nIncluded activities end:  This activity ends with the production of 1 kg of sodium tripolyphosphate. The dataset includes material and energy inputs, production of waste, emissions and infrastructure. The dataset doesn't include process emissions.\\nGeography:  Data for UK conditions - here used as average values for the whole European area.\\nTechnology:  In a first step, the phosphate rock is calcinated at temperatures of approx. 750 °C. It is subsequently reacted exothermically with sulphuric acid in the dihydrate process. The phosphoric acid produced is filtered and washed. It has a concentration of 29% and is concentrated to 55% by vaporisation. In the subsequent purification step, the phosphoric acid is dissolved in an organic solvent. The residues that occur are treated with a mixture of solvents and sulphuric acid. The produced waste is treated with calcium carbonate producing a stable material (raffinate solidification process) that can be deposited. The phosphoric acid solution itself is purified in a countercurrent with small quantities of the final product and separated again from the solvent which is reused. The purified phosphoric acid is neutralised with sodium carbonate, and the so called ortholiquor of dissolved sodium phosphate is produced. The dissolved sodium phosphate is then dried to obtain sodium tripolyphosphate.\\nReferences:\\nZah R., Hischier R. (2007) Life Cycle Inventories of Detergents. ecoinvent report No. 12. Swiss Centre for Life Cycle Inventories, Dübendorf, 2007.\",\n",
       " 'classifications': [('ISIC rev.4 ecoinvent',\n",
       "   '2023:Manufacture of soap and detergents, cleaning and polishing preparations, pe'),\n",
       "  ('CPC', '3')],\n",
       " 'activity type': 'ordinary transforming activity',\n",
       " 'activity': '0c33d36d-9e6d-5e00-8d44-056a30c07336',\n",
       " 'database': 'ecoinvent-3.11-cutoff',\n",
       " 'filename': '0c33d36d-9e6d-5e00-8d44-056a30c07336_14ae7ab5-cdbe-44c4-bab6-2532ca77890f.spold',\n",
       " 'location': 'RER',\n",
       " 'name': 'sodium tripolyphosphate production',\n",
       " 'synonyms': ['Polygon',\n",
       "  'Tripoly',\n",
       "  'Armofos',\n",
       "  '7758-29-4',\n",
       "  'Sodium triphosphate',\n",
       "  'Pentasodium triphosphate',\n",
       "  'Sodium tripolyphosphate',\n",
       "  'STPP',\n",
       "  'Thermphos'],\n",
       " 'parameters': [{'description': 'fraction, cooling water, cooling pond system, to air',\n",
       "   'id': '606c3625-2a78-4202-87a6-16f43eec86c3',\n",
       "   'unit': 'dimensionless',\n",
       "   'comment': 'Calculated based on literature value (Scown, C.D., 2011, Water Footprint of U.S. Transportation Fuels and supplying information of the article) (Vionnet, S., Quantis Water Database - Technical Report, 2012). ',\n",
       "   'amount': 0.032,\n",
       "   'pedigree': {'reliability': 2,\n",
       "    'completeness': 3,\n",
       "    'temporal correlation': 1,\n",
       "    'geographical correlation': 3,\n",
       "    'further technological correlation': 1},\n",
       "   'uncertainty type': 2,\n",
       "   'loc': -3.44201937618241,\n",
       "   'scale': 0.20322401432901577,\n",
       "   'scale without pedigree': 0.2,\n",
       "   'name': 'fraction_CW_CP_to_air'},\n",
       "  {'description': 'fraction, cooling water, once-through system, to air',\n",
       "   'id': '0b267c5e-0421-434c-8209-62d70a1f2f07',\n",
       "   'unit': 'dimensionless',\n",
       "   'comment': 'Calculated based on literature value (Scown, C.D., 2011, Water Footprint of U.S. Transportation Fuels and supplying information of the article) (Vionnet, S., Quantis Water Database - Technical Report, 2012). ',\n",
       "   'amount': 0.004,\n",
       "   'pedigree': {'reliability': 2,\n",
       "    'completeness': 3,\n",
       "    'temporal correlation': 1,\n",
       "    'geographical correlation': 3,\n",
       "    'further technological correlation': 1},\n",
       "   'uncertainty type': 2,\n",
       "   'loc': -5.52146091786225,\n",
       "   'scale': 0.20322401432901577,\n",
       "   'scale without pedigree': 0.2,\n",
       "   'name': 'fraction_CW_OT_to_air'},\n",
       "  {'description': 'fraction, cooling water, recirculating system, to air',\n",
       "   'id': 'e952df4c-1ca5-4710-9f53-be47be9191c1',\n",
       "   'unit': 'dimensionless',\n",
       "   'comment': 'Calculated based on literature value (Scown, C.D., 2011, Water Footprint of U.S. Transportation Fuels and supplying information of the article) (Vionnet, S., Quantis Water Database - Technical Report, 2012). ',\n",
       "   'amount': 0.771,\n",
       "   'pedigree': {'reliability': 2,\n",
       "    'completeness': 3,\n",
       "    'temporal correlation': 1,\n",
       "    'geographical correlation': 3,\n",
       "    'further technological correlation': 1},\n",
       "   'uncertainty type': 2,\n",
       "   'loc': -0.260066905418808,\n",
       "   'scale': 0.20322401432901577,\n",
       "   'scale without pedigree': 0.2,\n",
       "   'name': 'fraction_CW_R_to_air'},\n",
       "  {'description': 'fraction, cooling water, to air',\n",
       "   'id': 'd1efa4be-e613-43fd-9d73-e8b92b39b283',\n",
       "   'unit': 'dimensionless',\n",
       "   'comment': 'Calculated value based on literature value (see comments of the other parametres present in this dataset) and expert opinion. In the case when no industry/literature data are available about the type of cooling or directly fraction, cooling water, to air specific for the process a default assumption is applied. It is assumed that the once-through cooling system is used in 50% of all cases and recirculating system is used in another 50% of all cases. ',\n",
       "   'amount': 0.3875,\n",
       "   'pedigree': {'reliability': 4,\n",
       "    'completeness': 4,\n",
       "    'temporal correlation': 3,\n",
       "    'geographical correlation': 2,\n",
       "    'further technological correlation': 4},\n",
       "   'uncertainty type': 2,\n",
       "   'loc': -0.948039430188735,\n",
       "   'scale': 0.30335622624235026,\n",
       "   'scale without pedigree': 0.2,\n",
       "   'name': 'fraction_CW_to_air'},\n",
       "  {'description': 'fraction, process water, to air',\n",
       "   'id': 'daadf2d4-7bbb-4f69-8ab5-58df4c1685eb',\n",
       "   'unit': 'dimensionless',\n",
       "   'comment': 'Literature value (Statistics Canada, 2007 & Shaffer, K.H., 2008, Consumptive water use in the Great Lakes Basin, USGS) (Vionnet, S., Quantis Water Database - Technical Report, 2012).',\n",
       "   'amount': 0.4,\n",
       "   'pedigree': {'reliability': 4,\n",
       "    'completeness': 4,\n",
       "    'temporal correlation': 3,\n",
       "    'geographical correlation': 2,\n",
       "    'further technological correlation': 4},\n",
       "   'uncertainty type': 2,\n",
       "   'loc': -0.916290731874155,\n",
       "   'scale': 0.30335622624235026,\n",
       "   'scale without pedigree': 0.2,\n",
       "   'name': 'fraction_PW_to_air'}],\n",
       " 'authors': {'data entry': {'name': 'Rainer Zah',\n",
       "   'email': 'empa@ecoinvent.org'},\n",
       "  'data generator': {'name': 'Rainer Zah', 'email': 'empa@ecoinvent.org'}},\n",
       " 'type': 'processwithreferenceproduct',\n",
       " 'product_information': \"'sodium tripolyphosphate' is an inorganic substance with a CAS no. : 007758-29-4. It is called 'pentasodium [oxido(phosphonatooxy)phosphoryl] phosphate' under IUPAC naming and its molecular formula is: Na5P3O10. It is solid under normal conditions of temperature and pressure and appears as a white powder or crystalls. It is modelled as a pure substance. Modelling this substance in a solution requires the user to add the solvent of their choice in their models. On a consumer level, is used in the following products: washing & cleaning products, perfumes and fragrances, pharmaceuticals, cosmetics and personal care products, pH regulators and water treatment products, paper chemicals and dyes and textile treatment products and dyes. On industrial sites, the substance is used for the manufacture of products in the following sectors: mining and municipal supply (e.g. electricity, steam, gas, water), sewage treatment, chemicals, textile, leather or fur, plastic products, metals, fabricated metal products, electrical, electronic and optical equipment and machinery and vehicles.\",\n",
       " 'reference product': 'sodium tripolyphosphate',\n",
       " 'flow': '14ae7ab5-cdbe-44c4-bab6-2532ca77890f',\n",
       " 'unit': 'kilogram',\n",
       " 'production amount': 1.0,\n",
       " 'code': '9ebe4e5e6179b974ec12d03ec51be4b5',\n",
       " 'id': 190810941328060418}"
      ]
     },
     "execution_count": 10,
     "metadata": {},
     "output_type": "execute_result"
    }
   ],
   "source": [
    "activity.as_dict()"
   ]
  },
  {
   "cell_type": "markdown",
   "id": "22454781",
   "metadata": {},
   "source": [
    "3. Comment un procédé est-il relié aux autres ?"
   ]
  },
  {
   "cell_type": "code",
   "execution_count": 11,
   "id": "2bd7e76a",
   "metadata": {},
   "outputs": [
    {
     "data": {
      "text/plain": [
       "['landed anchovy by-catch, fresh to generic market for marine fish' (kilogram, GLO, None),\n",
       " 'landed anchovy to generic market for marine fish' (kilogram, GLO, None),\n",
       " 'market for landed anchovy, fresh' (kilogram, PE, None),\n",
       " 'market for landed anchovy, fresh' (kilogram, RoW, None),\n",
       " 'anchovy, capture by steel purse seiner and landing whole, fresh' (kilogram, ES, None),\n",
       " 'anchovy, capture by steel purse seiner and landing whole, fresh' (kilogram, ES, None),\n",
       " 'anchovy, capture by steel purse seiner and landing whole, fresh' (kilogram, RoW, None),\n",
       " 'anchovy, capture by steel purse seiner and landing whole, fresh' (kilogram, RoW, None),\n",
       " 'market for landed anchovy by-catch, fresh' (kilogram, GLO, None),\n",
       " 'fishmeal and fish oil production, 63-65% protein, from fresh anchovy' (kilogram, RoW, None),\n",
       " 'fishmeal and fish oil production, 63-65% protein, from fresh anchovy' (kilogram, PE, None),\n",
       " 'market for fish oil, from anchovy' (kilogram, GLO, None),\n",
       " 'anchovy, capture by steel purse seiner and landing whole, fresh' (kilogram, PE, None),\n",
       " 'anchovy, capture by wooden purse seiner and landing whole, fresh' (kilogram, PE, None),\n",
       " 'fishmeal and fish oil production, 63-65% protein, from fresh anchovy' (kilogram, RoW, None),\n",
       " 'fishmeal and fish oil production, 63-65% protein, from fresh anchovy' (kilogram, PE, None),\n",
       " 'fishmeal and fish oil production, 65-67% protein' (kilogram, RoW, None),\n",
       " 'fishmeal and fish oil production, 65-67% protein' (kilogram, PE, None),\n",
       " 'fishmeal and fish oil production, 63-65% protein, from fresh anchovy and fish residues' (kilogram, PE, None),\n",
       " 'fishmeal and fish oil production, 63-65% protein, from fresh anchovy and fish residues' (kilogram, RoW, None),\n",
       " 'fishmeal and fish oil production, 63-65% protein, from fresh anchovy and fish residues' (kilogram, PE, None),\n",
       " 'fishmeal and fish oil production, 63-65% protein, from fresh anchovy and fish residues' (kilogram, RoW, None),\n",
       " 'fishmeal and fish oil production, 63-65% protein, from fish residues' (kilogram, RoW, None),\n",
       " 'fishmeal and fish oil production, 63-65% protein, from fish residues' (kilogram, PE, None),\n",
       " 'fishmeal and fish oil production, 63-65% protein, from fish residues' (kilogram, RoW, None)]"
      ]
     },
     "execution_count": 11,
     "metadata": {},
     "output_type": "execute_result"
    }
   ],
   "source": [
    "activity = eidb.search('anchovy') #On utilise une fonction de recherche par mot-clé, ici \"anchovy\"\n",
    "activity # brightway retourne une liste de procédés"
   ]
  },
  {
   "cell_type": "code",
   "execution_count": 13,
   "id": "f6ad5ec4",
   "metadata": {},
   "outputs": [
    {
     "data": {
      "text/plain": [
       "'anchovy, capture by steel purse seiner and landing whole, fresh' (kilogram, ES, None)"
      ]
     },
     "execution_count": 13,
     "metadata": {},
     "output_type": "execute_result"
    }
   ],
   "source": [
    "activity = eidb.search('anchovy, capture by steel purse seiner')[0] #On choisit le premier élément de la liste, en précisant le mot-clé\n",
    "activity #Ici, activity sera bien un procédé, non une liste de procédés"
   ]
  },
  {
   "cell_type": "markdown",
   "id": "edba0a0d",
   "metadata": {},
   "source": [
    "On regarde maintenant quels sont ses échanges avec la technosphère et la biosphère."
   ]
  },
  {
   "cell_type": "code",
   "execution_count": 14,
   "id": "e465aa77",
   "metadata": {},
   "outputs": [
    {
     "data": {
      "text/plain": [
       "[Exchange: 1.0 kilogram 'anchovy, capture by steel purse seiner and landing whole, fresh' (kilogram, ES, None) to 'anchovy, capture by steel purse seiner and landing whole, fresh' (kilogram, ES, None)>,\n",
       " Exchange: -0.002032598343604353 kilogram 'market for antifouling paint emissions' (kilogram, GLO, None) to 'anchovy, capture by steel purse seiner and landing whole, fresh' (kilogram, ES, None)>,\n",
       " Exchange: 17.88461398791684 megajoule 'market for diesel, burned in fishing vessel' (megajoule, GLO, None) to 'anchovy, capture by steel purse seiner and landing whole, fresh' (kilogram, ES, None)>,\n",
       " Exchange: 0.006310948398860212 kilogram 'market for lubricating oil' (kilogram, RER, None) to 'anchovy, capture by steel purse seiner and landing whole, fresh' (kilogram, ES, None)>,\n",
       " Exchange: 0.47813383803583204 kilogram day 'market for operation, reefer, freezing' (kilogram day, GLO, None) to 'anchovy, capture by steel purse seiner and landing whole, fresh' (kilogram, ES, None)>,\n",
       " Exchange: 0.01301350223451024 kilogram 'market for purse seiner maintenance, steel' (kilogram, GLO, None) to 'anchovy, capture by steel purse seiner and landing whole, fresh' (kilogram, ES, None)>,\n",
       " Exchange: 0.01301350223451024 kilogram 'market for purse seiner, steel' (kilogram, GLO, None) to 'anchovy, capture by steel purse seiner and landing whole, fresh' (kilogram, ES, None)>,\n",
       " Exchange: -0.006310948398860212 kilogram 'market for waste mineral oil' (kilogram, Europe without Switzerland, None) to 'anchovy, capture by steel purse seiner and landing whole, fresh' (kilogram, ES, None)>,\n",
       " Exchange: 0.0943237168289159 kilogram 'Discarded fish, pelagic, to ocean' (kilogram, None, ('water', 'ocean')) to 'anchovy, capture by steel purse seiner and landing whole, fresh' (kilogram, ES, None)>,\n",
       " Exchange: 1.3262161254194131 kilogram 'Fish, pelagic, in ocean' (kilogram, None, ('natural resource', 'biotic')) to 'anchovy, capture by steel purse seiner and landing whole, fresh' (kilogram, ES, None)>]"
      ]
     },
     "execution_count": 14,
     "metadata": {},
     "output_type": "execute_result"
    }
   ],
   "source": [
    "list(activity.exchanges()) #Tous les échanges"
   ]
  },
  {
   "cell_type": "code",
   "execution_count": 15,
   "id": "bb776d3b",
   "metadata": {},
   "outputs": [
    {
     "data": {
      "text/plain": [
       "[Exchange: -0.002032598343604353 kilogram 'market for antifouling paint emissions' (kilogram, GLO, None) to 'anchovy, capture by steel purse seiner and landing whole, fresh' (kilogram, ES, None)>,\n",
       " Exchange: 17.88461398791684 megajoule 'market for diesel, burned in fishing vessel' (megajoule, GLO, None) to 'anchovy, capture by steel purse seiner and landing whole, fresh' (kilogram, ES, None)>,\n",
       " Exchange: 0.006310948398860212 kilogram 'market for lubricating oil' (kilogram, RER, None) to 'anchovy, capture by steel purse seiner and landing whole, fresh' (kilogram, ES, None)>,\n",
       " Exchange: 0.47813383803583204 kilogram day 'market for operation, reefer, freezing' (kilogram day, GLO, None) to 'anchovy, capture by steel purse seiner and landing whole, fresh' (kilogram, ES, None)>,\n",
       " Exchange: 0.01301350223451024 kilogram 'market for purse seiner maintenance, steel' (kilogram, GLO, None) to 'anchovy, capture by steel purse seiner and landing whole, fresh' (kilogram, ES, None)>,\n",
       " Exchange: 0.01301350223451024 kilogram 'market for purse seiner, steel' (kilogram, GLO, None) to 'anchovy, capture by steel purse seiner and landing whole, fresh' (kilogram, ES, None)>,\n",
       " Exchange: -0.006310948398860212 kilogram 'market for waste mineral oil' (kilogram, Europe without Switzerland, None) to 'anchovy, capture by steel purse seiner and landing whole, fresh' (kilogram, ES, None)>]"
      ]
     },
     "execution_count": 15,
     "metadata": {},
     "output_type": "execute_result"
    }
   ],
   "source": [
    "list(activity.technosphere()) #Flux intermédiaires"
   ]
  },
  {
   "cell_type": "code",
   "execution_count": 16,
   "id": "9cb8d811",
   "metadata": {},
   "outputs": [
    {
     "data": {
      "text/plain": [
       "[Exchange: 0.0943237168289159 kilogram 'Discarded fish, pelagic, to ocean' (kilogram, None, ('water', 'ocean')) to 'anchovy, capture by steel purse seiner and landing whole, fresh' (kilogram, ES, None)>,\n",
       " Exchange: 1.3262161254194131 kilogram 'Fish, pelagic, in ocean' (kilogram, None, ('natural resource', 'biotic')) to 'anchovy, capture by steel purse seiner and landing whole, fresh' (kilogram, ES, None)>]"
      ]
     },
     "execution_count": 16,
     "metadata": {},
     "output_type": "execute_result"
    }
   ],
   "source": [
    "list(activity.biosphere()) #Flux élémentaires"
   ]
  },
  {
   "cell_type": "code",
   "execution_count": 17,
   "id": "3f647687",
   "metadata": {},
   "outputs": [
    {
     "data": {
      "text/plain": [
       "[Exchange: 1.0 kilogram 'anchovy, capture by steel purse seiner and landing whole, fresh' (kilogram, ES, None) to 'anchovy, capture by steel purse seiner and landing whole, fresh' (kilogram, ES, None)>]"
      ]
     },
     "execution_count": 17,
     "metadata": {},
     "output_type": "execute_result"
    }
   ],
   "source": [
    "list(activity.production()) #Flux de référence (produit)"
   ]
  },
  {
   "cell_type": "markdown",
   "id": "29562dea",
   "metadata": {},
   "source": [
    "N'oubliez pas la page pense-bête de brightway : https://docs.brightway.dev/en/latest/content/cheatsheet/inventory.html\n",
    "\n",
    "Pour les personnes souhaitant en savoir plus sur la structure en graphe des données dans brightway : https://docs.brightway.dev/en/latest/content/overview/inventory.html "
   ]
  },
  {
   "cell_type": "markdown",
   "id": "8206e1ac",
   "metadata": {},
   "source": [
    "Bien que nous adorions la tapenade, nous allons commencer par modéliser ce que tout élève des Ponts préfère : le BÉTON ARMÉ."
   ]
  },
  {
   "cell_type": "markdown",
   "id": "05b50e3c",
   "metadata": {},
   "source": [
    "## Construction de procédés béton"
   ]
  },
  {
   "cell_type": "markdown",
   "id": "76c098f0",
   "metadata": {},
   "source": [
    "Il en existe dans la base de données :"
   ]
  },
  {
   "cell_type": "code",
   "execution_count": 19,
   "id": "a0a73491",
   "metadata": {},
   "outputs": [
    {
     "data": {
      "text/plain": [
       "['concrete, all types to generic market for concrete, medium strength' (cubic meter, CO, None),\n",
       " 'concrete, all types to generic market for concrete, normal strength' (cubic meter, PE, None),\n",
       " 'concrete, all types to generic market for concrete, normal strength' (cubic meter, ZA, None),\n",
       " 'concrete, all types to generic market for concrete, medium strength' (cubic meter, PE, None),\n",
       " 'concrete, all types to generic market for concrete, normal strength' (cubic meter, RNA, None),\n",
       " 'concrete, all types to generic market for concrete, medium strength' (cubic meter, ZA, None),\n",
       " 'concrete, all types to generic market for concrete, normal strength' (cubic meter, BR, None),\n",
       " 'concrete, all types to generic market for concrete, medium strength' (cubic meter, RNA, None),\n",
       " 'concrete, all types to generic market for concrete, normal strength' (cubic meter, CO, None),\n",
       " 'concrete, all types to generic market for concrete, medium strength' (cubic meter, BR, None),\n",
       " 'concrete, all types to generic market for concrete, normal strength' (cubic meter, IN, None),\n",
       " 'concrete, all types to generic market for concrete, normal strength' (cubic meter, AT, None),\n",
       " 'concrete, all types to generic market for concrete, medium strength' (cubic meter, RoW, None),\n",
       " 'concrete, all types to generic market for concrete, normal strength' (cubic meter, RoW, None),\n",
       " 'concrete production, 30MPa, with cement, CEM II/B-V' (cubic meter, ZA, None),\n",
       " 'concrete production, 20MPa, with cement, CEM II/B-V' (cubic meter, ZA, None),\n",
       " 'concrete production, 45MPa, with cement, CEM II/B-V' (cubic meter, ZA, None),\n",
       " 'concrete production, 40MPa, with cement, CEM II/B-V' (cubic meter, ZA, None),\n",
       " 'concrete production, 50MPa, with cement, CEM II/B-V' (cubic meter, ZA, None),\n",
       " 'concrete, all types to generic market for concrete, normal strength' (cubic meter, CH, None),\n",
       " 'concrete production, 25-30MPa, with cement, Portland' (cubic meter, IN, None),\n",
       " 'market for concrete, 25-30MPa' (cubic meter, IN, None),\n",
       " 'concrete production, 25MPa, for building construction, exposure class XC2, with cement, unspecified' (cubic meter, AT, None),\n",
       " 'concrete production, 30MPa, for building construction, exposure class XC3, with cement, unspecified' (cubic meter, AT, None),\n",
       " 'concrete production, 25MPa, for building construction, exposure class XC1, with cement, unspecified' (cubic meter, AT, None)]"
      ]
     },
     "execution_count": 19,
     "metadata": {},
     "output_type": "execute_result"
    }
   ],
   "source": [
    "concrete = eidb.search('concrete')\n",
    "concrete"
   ]
  },
  {
   "cell_type": "markdown",
   "id": "38b2c770",
   "metadata": {},
   "source": [
    "Existe-t-il des procédés modélisant des bétons spécifiquement français ?\n",
    "\n",
    "Nous utilisons une compréhension de liste conditionnelle pour préciser la recherche :"
   ]
  },
  {
   "cell_type": "code",
   "execution_count": 20,
   "id": "c1f85017",
   "metadata": {},
   "outputs": [
    {
     "data": {
      "text/plain": [
       "[]"
      ]
     },
     "execution_count": 20,
     "metadata": {},
     "output_type": "execute_result"
    }
   ],
   "source": [
    "concrete = [a for a in eidb if 'concrete' in a['name'].lower() and a['location'] == 'FR']\n",
    "concrete"
   ]
  },
  {
   "cell_type": "markdown",
   "id": "969a8474",
   "metadata": {},
   "source": [
    "Comme il n'y en a pas, nous allons modéliser deux formulations avec les données dont nous disposons, pour les comparer. On en profite pour prendre en compte des armatures (on étudie du béton armé) et de l'énergie (malaxage du béton)."
   ]
  },
  {
   "cell_type": "markdown",
   "id": "020672a4",
   "metadata": {},
   "source": [
    "Considérons les formulations suivantes pour 1 m3 de béton : \n",
    "\n",
    "- 350kg de ciment Portland (béton A) ou CEM III/B (béton B)\n",
    "- 175kg d'eau\n",
    "- 800kg de sable\n",
    "- 1100kg de gravier\n",
    "\n",
    "Pour le ferraillage, prenons un ratio de 100 kg d'acier par m3 de béton. Avez-vous une remarque ?\n",
    "\n",
    "Pour l'énergie de malaxage, prenons l'hypothèse de 14.4 MJ par m3 de béton."
   ]
  },
  {
   "cell_type": "markdown",
   "id": "765321ec",
   "metadata": {},
   "source": [
    "Les procédés mobilisés sont les suivants :\n",
    "\n",
    "Béton | Flux | Procédé choisi dans ecoinvent | Région | Unité | Qté pour 1m3\n",
    ":---: | :---: | :---: | :---: | :---: | :---:\n",
    "Béton A | ciment Portland | market for cement, Portland | Europe without Switzerland | kg | 350\n",
    "Béton B | CEM III/B | market for cement, CEM III/B | Europe without Switzerland | kg | 350\n",
    "Béton A & B | eau | market for tap water | Europe without Switzerland | kg | 175\n",
    "Béton A & B | sable | market for sand | Rest-of-World (RoW) | kg | 800 \n",
    "Béton A & B | graviers | market for gravel, crushed | Rest-of-World (RoW) | kg | 1100\n",
    "Béton A & B | ferraillage | market for reinforcing steel | Global | kg | 100\n",
    "Béton A & B | énergie | diesel, burned in building machine | Global | MJ | 14.4"
   ]
  },
  {
   "cell_type": "code",
   "execution_count": 21,
   "id": "7213fe82",
   "metadata": {},
   "outputs": [
    {
     "name": "stdout",
     "output_type": "stream",
     "text": [
      "procédés déjà importés !\n"
     ]
    }
   ],
   "source": [
    "if 'betons_armes' in bd.databases : \n",
    "    print('procédés déjà importés !')\n",
    "else : \n",
    "    imp = bi.ExcelImporter(\"/home/thibault.chevilliet@enpc.fr/Documents/Cours ACV notebook/Cours 2025/betons_armes.xlsx\")\n",
    "    imp.apply_strategies() #applique une série de routines sur la base de données, notamment une conversion des variables dans les bons formats\n",
    "    imp.match_database(fields=('name', 'unit', 'location')) #identifie les échanges que les procédés de la base ont avec d'autres procédés de la même base\n",
    "    imp.match_database('ecoinvent-3.11-cutoff', fields=('name', 'unit', 'location')) #identifie les échanges que les procédés de la base ont avec les procédés d'ecoinvent\n",
    "    imp.statistics() #affiche les statistiques des \"match\" réalisés, notamment si certains procédés n'ont pas été trouvés (\"unlinked exchanges\") \n",
    "    imp.write_database() #écrit et sauvegarde la base de données"
   ]
  },
  {
   "cell_type": "code",
   "execution_count": 22,
   "id": "6d0a9402",
   "metadata": {},
   "outputs": [],
   "source": [
    "fgdb = bd.Database('betons_armes') #fgdb pour foreground database"
   ]
  },
  {
   "cell_type": "code",
   "execution_count": 23,
   "id": "4ae63327",
   "metadata": {},
   "outputs": [
    {
     "data": {
      "text/plain": [
       "'Béton A' (cubic meter, FR, ('custom',))"
      ]
     },
     "execution_count": 23,
     "metadata": {},
     "output_type": "execute_result"
    }
   ],
   "source": [
    "beton_A = fgdb.search('Béton A')[0]\n",
    "beton_A"
   ]
  },
  {
   "cell_type": "code",
   "execution_count": 24,
   "id": "d7123fd8",
   "metadata": {},
   "outputs": [
    {
     "data": {
      "text/plain": [
       "[Exchange: 1 cubic meter 'Béton A' (cubic meter, FR, ('custom',)) to 'Béton A' (cubic meter, FR, ('custom',))>,\n",
       " Exchange: 350 kilogram 'market for cement, Portland' (kilogram, Europe without Switzerland, None) to 'Béton A' (cubic meter, FR, ('custom',))>,\n",
       " Exchange: 175 kilogram 'market for tap water' (kilogram, Europe without Switzerland, None) to 'Béton A' (cubic meter, FR, ('custom',))>,\n",
       " Exchange: 800 kilogram 'market for sand' (kilogram, RoW, None) to 'Béton A' (cubic meter, FR, ('custom',))>,\n",
       " Exchange: 1100 kilogram 'market for gravel, crushed' (kilogram, RoW, None) to 'Béton A' (cubic meter, FR, ('custom',))>,\n",
       " Exchange: 100 kilogram 'market for reinforcing steel' (kilogram, GLO, None) to 'Béton A' (cubic meter, FR, ('custom',))>,\n",
       " Exchange: 14.4 megajoule 'diesel, burned in building machine' (megajoule, GLO, None) to 'Béton A' (cubic meter, FR, ('custom',))>]"
      ]
     },
     "execution_count": 24,
     "metadata": {},
     "output_type": "execute_result"
    }
   ],
   "source": [
    "list(beton_A.edges())"
   ]
  },
  {
   "cell_type": "markdown",
   "id": "f3580882",
   "metadata": {},
   "source": [
    "## Calcul des impacts environnementaux"
   ]
  },
  {
   "cell_type": "markdown",
   "id": "dde119b6",
   "metadata": {},
   "source": [
    "Pour calculer des impacts environnementaux, il faut savoir quoi calculer, c'est-à-dire choisir une méthode d'impact. \n",
    "\n",
    "Remarque sur le mot méthode :\n",
    "- Traditionnellement, une méthode d'impact désigne un ensemble de catégories d'impacts, chaque catégorie contenant des indicateurs environnementaux et les facteurs de caractérisation permettant de calculer ces derniers à partir des flux élémentaires (en réalité, pour chaque indicateur, à partir d'un sous-ensemble de la biosphère).\n",
    "- dans brightway, une \"method\" désigne en fait un indicateur spécifique (calculé selon une certaine méthode d'impact), ce qui peut prêter à confusion.\n",
    "\n",
    "\n",
    "Pour ce TD, nous choisissons la méthode d'impacts Environmental Footprint v3.1."
   ]
  },
  {
   "cell_type": "code",
   "execution_count": 25,
   "id": "f2096c37",
   "metadata": {},
   "outputs": [
    {
     "data": {
      "text/plain": [
       "[('ecoinvent-3.11', 'EF v3.1', 'acidification', 'accumulated exceedance (AE)'),\n",
       " ('ecoinvent-3.11',\n",
       "  'EF v3.1',\n",
       "  'climate change',\n",
       "  'global warming potential (GWP100)'),\n",
       " ('ecoinvent-3.11',\n",
       "  'EF v3.1',\n",
       "  'climate change: biogenic',\n",
       "  'global warming potential (GWP100)'),\n",
       " ('ecoinvent-3.11',\n",
       "  'EF v3.1',\n",
       "  'climate change: fossil',\n",
       "  'global warming potential (GWP100)'),\n",
       " ('ecoinvent-3.11',\n",
       "  'EF v3.1',\n",
       "  'climate change: land use and land use change',\n",
       "  'global warming potential (GWP100)'),\n",
       " ('ecoinvent-3.11',\n",
       "  'EF v3.1',\n",
       "  'ecotoxicity: freshwater',\n",
       "  'comparative toxic unit for ecosystems (CTUe)'),\n",
       " ('ecoinvent-3.11',\n",
       "  'EF v3.1',\n",
       "  'ecotoxicity: freshwater, inorganics',\n",
       "  'comparative toxic unit for ecosystems (CTUe)'),\n",
       " ('ecoinvent-3.11',\n",
       "  'EF v3.1',\n",
       "  'ecotoxicity: freshwater, organics',\n",
       "  'comparative toxic unit for ecosystems (CTUe)'),\n",
       " ('ecoinvent-3.11',\n",
       "  'EF v3.1',\n",
       "  'energy resources: non-renewable',\n",
       "  'abiotic depletion potential (ADP): fossil fuels'),\n",
       " ('ecoinvent-3.11',\n",
       "  'EF v3.1',\n",
       "  'eutrophication: freshwater',\n",
       "  'fraction of nutrients reaching freshwater end compartment (P)'),\n",
       " ('ecoinvent-3.11',\n",
       "  'EF v3.1',\n",
       "  'eutrophication: marine',\n",
       "  'fraction of nutrients reaching marine end compartment (N)'),\n",
       " ('ecoinvent-3.11',\n",
       "  'EF v3.1',\n",
       "  'eutrophication: terrestrial',\n",
       "  'accumulated exceedance (AE)'),\n",
       " ('ecoinvent-3.11',\n",
       "  'EF v3.1',\n",
       "  'human toxicity: carcinogenic',\n",
       "  'comparative toxic unit for human (CTUh)'),\n",
       " ('ecoinvent-3.11',\n",
       "  'EF v3.1',\n",
       "  'human toxicity: carcinogenic, inorganics',\n",
       "  'comparative toxic unit for human (CTUh)'),\n",
       " ('ecoinvent-3.11',\n",
       "  'EF v3.1',\n",
       "  'human toxicity: carcinogenic, organics',\n",
       "  'comparative toxic unit for human (CTUh)'),\n",
       " ('ecoinvent-3.11',\n",
       "  'EF v3.1',\n",
       "  'human toxicity: non-carcinogenic',\n",
       "  'comparative toxic unit for human (CTUh)'),\n",
       " ('ecoinvent-3.11',\n",
       "  'EF v3.1',\n",
       "  'human toxicity: non-carcinogenic, inorganics',\n",
       "  'comparative toxic unit for human (CTUh)'),\n",
       " ('ecoinvent-3.11',\n",
       "  'EF v3.1',\n",
       "  'human toxicity: non-carcinogenic, organics',\n",
       "  'comparative toxic unit for human (CTUh)'),\n",
       " ('ecoinvent-3.11',\n",
       "  'EF v3.1',\n",
       "  'ionising radiation: human health',\n",
       "  'human exposure efficiency relative to u235'),\n",
       " ('ecoinvent-3.11', 'EF v3.1', 'land use', 'soil quality index'),\n",
       " ('ecoinvent-3.11',\n",
       "  'EF v3.1',\n",
       "  'material resources: metals/minerals',\n",
       "  'abiotic depletion potential (ADP): elements (ultimate reserves)'),\n",
       " ('ecoinvent-3.11',\n",
       "  'EF v3.1',\n",
       "  'ozone depletion',\n",
       "  'ozone depletion potential (ODP)'),\n",
       " ('ecoinvent-3.11',\n",
       "  'EF v3.1',\n",
       "  'particulate matter formation',\n",
       "  'impact on human health'),\n",
       " ('ecoinvent-3.11',\n",
       "  'EF v3.1',\n",
       "  'photochemical oxidant formation: human health',\n",
       "  'tropospheric ozone concentration increase'),\n",
       " ('ecoinvent-3.11',\n",
       "  'EF v3.1',\n",
       "  'water use',\n",
       "  'user deprivation potential (deprivation-weighted water consumption)')]"
      ]
     },
     "execution_count": 25,
     "metadata": {},
     "output_type": "execute_result"
    }
   ],
   "source": [
    "meth = [m for m in bd.methods if 'EF v3.1' in m[1] and 'no LT' not in m[1]]\n",
    "meth"
   ]
  },
  {
   "cell_type": "markdown",
   "id": "8e8ce010",
   "metadata": {},
   "source": [
    "### Calcul pour un indicateur et une demande"
   ]
  },
  {
   "cell_type": "markdown",
   "id": "dc040ffd",
   "metadata": {},
   "source": [
    "On s'intéresse dans un premier temps à l'impact sur le changement climatique en considérant le pouvoir de réchauffement global à 100 ans."
   ]
  },
  {
   "cell_type": "code",
   "execution_count": 26,
   "id": "cd3f447d",
   "metadata": {},
   "outputs": [
    {
     "data": {
      "text/plain": [
       "('ecoinvent-3.11',\n",
       " 'EF v3.1',\n",
       " 'climate change',\n",
       " 'global warming potential (GWP100)')"
      ]
     },
     "execution_count": 26,
     "metadata": {},
     "output_type": "execute_result"
    }
   ],
   "source": [
    "gwp100 = [ind for ind in meth if 'GWP100' in str(ind) and 'biogenic' not in str(ind) and 'fossil' not in str(ind) and 'land' not in str(ind)][0] # On sélectionne l'indicateur par compréhension de liste\n",
    "gwp100"
   ]
  },
  {
   "cell_type": "markdown",
   "id": "65464ea3",
   "metadata": {},
   "source": [
    "On fait le calcul pour le béton A :"
   ]
  },
  {
   "cell_type": "code",
   "execution_count": 27,
   "id": "7654ecf9",
   "metadata": {},
   "outputs": [
    {
     "data": {
      "text/plain": [
       "561.9650284777491"
      ]
     },
     "execution_count": 27,
     "metadata": {},
     "output_type": "execute_result"
    }
   ],
   "source": [
    "lca = bc.LCA(demand={beton_A : 1.0},method=gwp100) #Préparation de matrices réduites A, B, C\n",
    "lca.lci()# Préparation du calcul de g. Si on appelle le score à cette étape, on obtient g.\n",
    "lca.lcia() # Préparation du calcul de h.\n",
    "lca.score # Ici le calcul se fait, et retourne le score d'impact"
   ]
  },
  {
   "cell_type": "markdown",
   "id": "1a97dd93",
   "metadata": {},
   "source": [
    "et maintenant pour le béton B :"
   ]
  },
  {
   "cell_type": "code",
   "execution_count": 29,
   "id": "93b128c5",
   "metadata": {},
   "outputs": [
    {
     "data": {
      "text/plain": [
       "'Béton B' (cubic meter, FR, ('custom',))"
      ]
     },
     "execution_count": 29,
     "metadata": {},
     "output_type": "execute_result"
    }
   ],
   "source": [
    "beton_B = fgdb.search('Béton B')[0]\n",
    "beton_B"
   ]
  },
  {
   "cell_type": "code",
   "execution_count": 30,
   "id": "24fedb91",
   "metadata": {},
   "outputs": [
    {
     "data": {
      "text/plain": [
       "391.69460121070745"
      ]
     },
     "execution_count": 30,
     "metadata": {},
     "output_type": "execute_result"
    }
   ],
   "source": [
    "lca = bc.LCA(demand={beton_B : 1.0},method=gwp100)\n",
    "lca.lci()\n",
    "lca.lcia()\n",
    "lca.score"
   ]
  },
  {
   "cell_type": "markdown",
   "id": "095218c3",
   "metadata": {},
   "source": [
    "### Calcul pour plusieurs indicateurs et plusieurs demandes"
   ]
  },
  {
   "cell_type": "markdown",
   "id": "d5678038",
   "metadata": {},
   "source": [
    "La logique est strictement la même que pour un indicateur et une demande. La fonction qui gère ce calcul réclame simplement que l'on range les arguments d'une manière spécifique, comme réalisé ci-dessous :"
   ]
  },
  {
   "cell_type": "code",
   "execution_count": 31,
   "id": "716780c2",
   "metadata": {},
   "outputs": [],
   "source": [
    "demands = { 'A' : {beton_A.id : 1.0}, 'B' : {beton_B.id : 1.0}} # Les demandes évaluée sont rangées dans un dictionnaires, elles ont un nom, ici nous choisissons A et B.\n",
    "\n",
    "method_config = {'impact_categories' : meth} # les indicateurs d'impacts sont aussi fan\n",
    "data_objs = bd.get_multilca_data_objs(demands, method_config)\n",
    "\n",
    "lca = bc.MultiLCA(demands=demands, method_config= method_config, data_objs=data_objs)\n",
    "lca.lci()\n",
    "lca.lcia()\n",
    "results = lca.scores"
   ]
  },
  {
   "cell_type": "markdown",
   "id": "390bafc9",
   "metadata": {},
   "source": [
    "On range les résultats dans une table pour les voir et les tracer"
   ]
  },
  {
   "cell_type": "code",
   "execution_count": 67,
   "id": "1846a53b",
   "metadata": {},
   "outputs": [
    {
     "name": "stderr",
     "output_type": "stream",
     "text": [
      "/tmp/ipykernel_44114/1971927674.py:4: FutureWarning: The behavior of DataFrame concatenation with empty or all-NA entries is deprecated. In a future version, this will no longer exclude empty or all-NA columns when determining the result dtypes. To retain the old behavior, exclude the relevant entries before the concat operation.\n",
      "  res = pd.concat([pd.DataFrame([[str(r[0][2:3]),r[1],df_results.at[r,0]]], columns=res.columns), res], ignore_index=True)\n"
     ]
    }
   ],
   "source": [
    "df_results = pd.DataFrame.from_dict(results,orient='index')\n",
    "res = pd.DataFrame(columns=['indicateur','beton','score'])\n",
    "for r in df_results.index :\n",
    "    res = pd.concat([pd.DataFrame([[str(r[0][2:3]),r[1],df_results.at[r,0]]], columns=res.columns), res], ignore_index=True)"
   ]
  },
  {
   "cell_type": "code",
   "execution_count": 68,
   "id": "a136df82",
   "metadata": {},
   "outputs": [
    {
     "data": {
      "text/html": [
       "<div>\n",
       "<style scoped>\n",
       "    .dataframe tbody tr th:only-of-type {\n",
       "        vertical-align: middle;\n",
       "    }\n",
       "\n",
       "    .dataframe tbody tr th {\n",
       "        vertical-align: top;\n",
       "    }\n",
       "\n",
       "    .dataframe thead th {\n",
       "        text-align: right;\n",
       "    }\n",
       "</style>\n",
       "<table border=\"1\" class=\"dataframe\">\n",
       "  <thead>\n",
       "    <tr style=\"text-align: right;\">\n",
       "      <th></th>\n",
       "      <th>indicateur</th>\n",
       "      <th>beton</th>\n",
       "      <th>score</th>\n",
       "    </tr>\n",
       "  </thead>\n",
       "  <tbody>\n",
       "    <tr>\n",
       "      <th>0</th>\n",
       "      <td>('water use',)</td>\n",
       "      <td>B</td>\n",
       "      <td>1.663520e+02</td>\n",
       "    </tr>\n",
       "    <tr>\n",
       "      <th>1</th>\n",
       "      <td>('water use',)</td>\n",
       "      <td>A</td>\n",
       "      <td>1.761166e+02</td>\n",
       "    </tr>\n",
       "    <tr>\n",
       "      <th>2</th>\n",
       "      <td>('photochemical oxidant formation: human healt...</td>\n",
       "      <td>B</td>\n",
       "      <td>1.397576e+00</td>\n",
       "    </tr>\n",
       "    <tr>\n",
       "      <th>3</th>\n",
       "      <td>('photochemical oxidant formation: human healt...</td>\n",
       "      <td>A</td>\n",
       "      <td>1.637680e+00</td>\n",
       "    </tr>\n",
       "    <tr>\n",
       "      <th>4</th>\n",
       "      <td>('particulate matter formation',)</td>\n",
       "      <td>B</td>\n",
       "      <td>2.990077e-05</td>\n",
       "    </tr>\n",
       "    <tr>\n",
       "      <th>5</th>\n",
       "      <td>('particulate matter formation',)</td>\n",
       "      <td>A</td>\n",
       "      <td>2.872002e-05</td>\n",
       "    </tr>\n",
       "    <tr>\n",
       "      <th>6</th>\n",
       "      <td>('ozone depletion',)</td>\n",
       "      <td>B</td>\n",
       "      <td>2.451686e-06</td>\n",
       "    </tr>\n",
       "    <tr>\n",
       "      <th>7</th>\n",
       "      <td>('ozone depletion',)</td>\n",
       "      <td>A</td>\n",
       "      <td>2.760079e-06</td>\n",
       "    </tr>\n",
       "    <tr>\n",
       "      <th>8</th>\n",
       "      <td>('material resources: metals/minerals',)</td>\n",
       "      <td>B</td>\n",
       "      <td>1.443926e-03</td>\n",
       "    </tr>\n",
       "    <tr>\n",
       "      <th>9</th>\n",
       "      <td>('material resources: metals/minerals',)</td>\n",
       "      <td>A</td>\n",
       "      <td>1.784568e-03</td>\n",
       "    </tr>\n",
       "    <tr>\n",
       "      <th>10</th>\n",
       "      <td>('land use',)</td>\n",
       "      <td>B</td>\n",
       "      <td>1.987754e+03</td>\n",
       "    </tr>\n",
       "    <tr>\n",
       "      <th>11</th>\n",
       "      <td>('land use',)</td>\n",
       "      <td>A</td>\n",
       "      <td>1.848019e+03</td>\n",
       "    </tr>\n",
       "    <tr>\n",
       "      <th>12</th>\n",
       "      <td>('ionising radiation: human health',)</td>\n",
       "      <td>B</td>\n",
       "      <td>1.573183e+01</td>\n",
       "    </tr>\n",
       "    <tr>\n",
       "      <th>13</th>\n",
       "      <td>('ionising radiation: human health',)</td>\n",
       "      <td>A</td>\n",
       "      <td>1.729215e+01</td>\n",
       "    </tr>\n",
       "    <tr>\n",
       "      <th>14</th>\n",
       "      <td>('human toxicity: non-carcinogenic, organics',)</td>\n",
       "      <td>B</td>\n",
       "      <td>1.493823e-07</td>\n",
       "    </tr>\n",
       "    <tr>\n",
       "      <th>15</th>\n",
       "      <td>('human toxicity: non-carcinogenic, organics',)</td>\n",
       "      <td>A</td>\n",
       "      <td>1.383239e-07</td>\n",
       "    </tr>\n",
       "    <tr>\n",
       "      <th>16</th>\n",
       "      <td>('human toxicity: non-carcinogenic, inorganics',)</td>\n",
       "      <td>B</td>\n",
       "      <td>3.249020e-06</td>\n",
       "    </tr>\n",
       "    <tr>\n",
       "      <th>17</th>\n",
       "      <td>('human toxicity: non-carcinogenic, inorganics',)</td>\n",
       "      <td>A</td>\n",
       "      <td>4.082098e-06</td>\n",
       "    </tr>\n",
       "    <tr>\n",
       "      <th>18</th>\n",
       "      <td>('human toxicity: non-carcinogenic',)</td>\n",
       "      <td>B</td>\n",
       "      <td>3.398402e-06</td>\n",
       "    </tr>\n",
       "    <tr>\n",
       "      <th>19</th>\n",
       "      <td>('human toxicity: non-carcinogenic',)</td>\n",
       "      <td>A</td>\n",
       "      <td>4.220422e-06</td>\n",
       "    </tr>\n",
       "    <tr>\n",
       "      <th>20</th>\n",
       "      <td>('human toxicity: carcinogenic, organics',)</td>\n",
       "      <td>B</td>\n",
       "      <td>2.172996e-07</td>\n",
       "    </tr>\n",
       "    <tr>\n",
       "      <th>21</th>\n",
       "      <td>('human toxicity: carcinogenic, organics',)</td>\n",
       "      <td>A</td>\n",
       "      <td>2.224721e-07</td>\n",
       "    </tr>\n",
       "    <tr>\n",
       "      <th>22</th>\n",
       "      <td>('human toxicity: carcinogenic, inorganics',)</td>\n",
       "      <td>B</td>\n",
       "      <td>8.473238e-08</td>\n",
       "    </tr>\n",
       "    <tr>\n",
       "      <th>23</th>\n",
       "      <td>('human toxicity: carcinogenic, inorganics',)</td>\n",
       "      <td>A</td>\n",
       "      <td>9.183202e-08</td>\n",
       "    </tr>\n",
       "    <tr>\n",
       "      <th>24</th>\n",
       "      <td>('human toxicity: carcinogenic',)</td>\n",
       "      <td>B</td>\n",
       "      <td>3.020320e-07</td>\n",
       "    </tr>\n",
       "    <tr>\n",
       "      <th>25</th>\n",
       "      <td>('human toxicity: carcinogenic',)</td>\n",
       "      <td>A</td>\n",
       "      <td>3.143042e-07</td>\n",
       "    </tr>\n",
       "    <tr>\n",
       "      <th>26</th>\n",
       "      <td>('eutrophication: terrestrial',)</td>\n",
       "      <td>B</td>\n",
       "      <td>4.204837e+00</td>\n",
       "    </tr>\n",
       "    <tr>\n",
       "      <th>27</th>\n",
       "      <td>('eutrophication: terrestrial',)</td>\n",
       "      <td>A</td>\n",
       "      <td>5.177976e+00</td>\n",
       "    </tr>\n",
       "    <tr>\n",
       "      <th>28</th>\n",
       "      <td>('eutrophication: marine',)</td>\n",
       "      <td>B</td>\n",
       "      <td>3.892305e-01</td>\n",
       "    </tr>\n",
       "    <tr>\n",
       "      <th>29</th>\n",
       "      <td>('eutrophication: marine',)</td>\n",
       "      <td>A</td>\n",
       "      <td>4.719202e-01</td>\n",
       "    </tr>\n",
       "    <tr>\n",
       "      <th>30</th>\n",
       "      <td>('eutrophication: freshwater',)</td>\n",
       "      <td>B</td>\n",
       "      <td>1.277886e-01</td>\n",
       "    </tr>\n",
       "    <tr>\n",
       "      <th>31</th>\n",
       "      <td>('eutrophication: freshwater',)</td>\n",
       "      <td>A</td>\n",
       "      <td>1.353509e-01</td>\n",
       "    </tr>\n",
       "    <tr>\n",
       "      <th>32</th>\n",
       "      <td>('energy resources: non-renewable',)</td>\n",
       "      <td>B</td>\n",
       "      <td>3.806393e+03</td>\n",
       "    </tr>\n",
       "    <tr>\n",
       "      <th>33</th>\n",
       "      <td>('energy resources: non-renewable',)</td>\n",
       "      <td>A</td>\n",
       "      <td>4.067331e+03</td>\n",
       "    </tr>\n",
       "    <tr>\n",
       "      <th>34</th>\n",
       "      <td>('ecotoxicity: freshwater, organics',)</td>\n",
       "      <td>B</td>\n",
       "      <td>3.512835e+01</td>\n",
       "    </tr>\n",
       "    <tr>\n",
       "      <th>35</th>\n",
       "      <td>('ecotoxicity: freshwater, organics',)</td>\n",
       "      <td>A</td>\n",
       "      <td>3.191037e+01</td>\n",
       "    </tr>\n",
       "    <tr>\n",
       "      <th>36</th>\n",
       "      <td>('ecotoxicity: freshwater, inorganics',)</td>\n",
       "      <td>B</td>\n",
       "      <td>1.727971e+03</td>\n",
       "    </tr>\n",
       "    <tr>\n",
       "      <th>37</th>\n",
       "      <td>('ecotoxicity: freshwater, inorganics',)</td>\n",
       "      <td>A</td>\n",
       "      <td>1.187994e+03</td>\n",
       "    </tr>\n",
       "    <tr>\n",
       "      <th>38</th>\n",
       "      <td>('ecotoxicity: freshwater',)</td>\n",
       "      <td>B</td>\n",
       "      <td>1.763100e+03</td>\n",
       "    </tr>\n",
       "    <tr>\n",
       "      <th>39</th>\n",
       "      <td>('ecotoxicity: freshwater',)</td>\n",
       "      <td>A</td>\n",
       "      <td>1.219904e+03</td>\n",
       "    </tr>\n",
       "    <tr>\n",
       "      <th>40</th>\n",
       "      <td>('climate change: land use and land use change',)</td>\n",
       "      <td>B</td>\n",
       "      <td>2.607684e-01</td>\n",
       "    </tr>\n",
       "    <tr>\n",
       "      <th>41</th>\n",
       "      <td>('climate change: land use and land use change',)</td>\n",
       "      <td>A</td>\n",
       "      <td>2.145475e-01</td>\n",
       "    </tr>\n",
       "    <tr>\n",
       "      <th>42</th>\n",
       "      <td>('climate change: fossil',)</td>\n",
       "      <td>B</td>\n",
       "      <td>3.912334e+02</td>\n",
       "    </tr>\n",
       "    <tr>\n",
       "      <th>43</th>\n",
       "      <td>('climate change: fossil',)</td>\n",
       "      <td>A</td>\n",
       "      <td>5.615653e+02</td>\n",
       "    </tr>\n",
       "    <tr>\n",
       "      <th>44</th>\n",
       "      <td>('climate change: biogenic',)</td>\n",
       "      <td>B</td>\n",
       "      <td>2.004138e-01</td>\n",
       "    </tr>\n",
       "    <tr>\n",
       "      <th>45</th>\n",
       "      <td>('climate change: biogenic',)</td>\n",
       "      <td>A</td>\n",
       "      <td>1.851553e-01</td>\n",
       "    </tr>\n",
       "    <tr>\n",
       "      <th>46</th>\n",
       "      <td>('climate change',)</td>\n",
       "      <td>B</td>\n",
       "      <td>3.916946e+02</td>\n",
       "    </tr>\n",
       "    <tr>\n",
       "      <th>47</th>\n",
       "      <td>('climate change',)</td>\n",
       "      <td>A</td>\n",
       "      <td>5.619650e+02</td>\n",
       "    </tr>\n",
       "    <tr>\n",
       "      <th>48</th>\n",
       "      <td>('acidification',)</td>\n",
       "      <td>B</td>\n",
       "      <td>1.624189e+00</td>\n",
       "    </tr>\n",
       "    <tr>\n",
       "      <th>49</th>\n",
       "      <td>('acidification',)</td>\n",
       "      <td>A</td>\n",
       "      <td>1.760491e+00</td>\n",
       "    </tr>\n",
       "  </tbody>\n",
       "</table>\n",
       "</div>"
      ],
      "text/plain": [
       "                                           indicateur beton         score\n",
       "0                                      ('water use',)     B  1.663520e+02\n",
       "1                                      ('water use',)     A  1.761166e+02\n",
       "2   ('photochemical oxidant formation: human healt...     B  1.397576e+00\n",
       "3   ('photochemical oxidant formation: human healt...     A  1.637680e+00\n",
       "4                   ('particulate matter formation',)     B  2.990077e-05\n",
       "5                   ('particulate matter formation',)     A  2.872002e-05\n",
       "6                                ('ozone depletion',)     B  2.451686e-06\n",
       "7                                ('ozone depletion',)     A  2.760079e-06\n",
       "8            ('material resources: metals/minerals',)     B  1.443926e-03\n",
       "9            ('material resources: metals/minerals',)     A  1.784568e-03\n",
       "10                                      ('land use',)     B  1.987754e+03\n",
       "11                                      ('land use',)     A  1.848019e+03\n",
       "12              ('ionising radiation: human health',)     B  1.573183e+01\n",
       "13              ('ionising radiation: human health',)     A  1.729215e+01\n",
       "14    ('human toxicity: non-carcinogenic, organics',)     B  1.493823e-07\n",
       "15    ('human toxicity: non-carcinogenic, organics',)     A  1.383239e-07\n",
       "16  ('human toxicity: non-carcinogenic, inorganics',)     B  3.249020e-06\n",
       "17  ('human toxicity: non-carcinogenic, inorganics',)     A  4.082098e-06\n",
       "18              ('human toxicity: non-carcinogenic',)     B  3.398402e-06\n",
       "19              ('human toxicity: non-carcinogenic',)     A  4.220422e-06\n",
       "20        ('human toxicity: carcinogenic, organics',)     B  2.172996e-07\n",
       "21        ('human toxicity: carcinogenic, organics',)     A  2.224721e-07\n",
       "22      ('human toxicity: carcinogenic, inorganics',)     B  8.473238e-08\n",
       "23      ('human toxicity: carcinogenic, inorganics',)     A  9.183202e-08\n",
       "24                  ('human toxicity: carcinogenic',)     B  3.020320e-07\n",
       "25                  ('human toxicity: carcinogenic',)     A  3.143042e-07\n",
       "26                   ('eutrophication: terrestrial',)     B  4.204837e+00\n",
       "27                   ('eutrophication: terrestrial',)     A  5.177976e+00\n",
       "28                        ('eutrophication: marine',)     B  3.892305e-01\n",
       "29                        ('eutrophication: marine',)     A  4.719202e-01\n",
       "30                    ('eutrophication: freshwater',)     B  1.277886e-01\n",
       "31                    ('eutrophication: freshwater',)     A  1.353509e-01\n",
       "32               ('energy resources: non-renewable',)     B  3.806393e+03\n",
       "33               ('energy resources: non-renewable',)     A  4.067331e+03\n",
       "34             ('ecotoxicity: freshwater, organics',)     B  3.512835e+01\n",
       "35             ('ecotoxicity: freshwater, organics',)     A  3.191037e+01\n",
       "36           ('ecotoxicity: freshwater, inorganics',)     B  1.727971e+03\n",
       "37           ('ecotoxicity: freshwater, inorganics',)     A  1.187994e+03\n",
       "38                       ('ecotoxicity: freshwater',)     B  1.763100e+03\n",
       "39                       ('ecotoxicity: freshwater',)     A  1.219904e+03\n",
       "40  ('climate change: land use and land use change',)     B  2.607684e-01\n",
       "41  ('climate change: land use and land use change',)     A  2.145475e-01\n",
       "42                        ('climate change: fossil',)     B  3.912334e+02\n",
       "43                        ('climate change: fossil',)     A  5.615653e+02\n",
       "44                      ('climate change: biogenic',)     B  2.004138e-01\n",
       "45                      ('climate change: biogenic',)     A  1.851553e-01\n",
       "46                                ('climate change',)     B  3.916946e+02\n",
       "47                                ('climate change',)     A  5.619650e+02\n",
       "48                                 ('acidification',)     B  1.624189e+00\n",
       "49                                 ('acidification',)     A  1.760491e+00"
      ]
     },
     "execution_count": 68,
     "metadata": {},
     "output_type": "execute_result"
    }
   ],
   "source": [
    "res# Visualition de la table de résultat"
   ]
  },
  {
   "cell_type": "markdown",
   "id": "616a59f6",
   "metadata": {},
   "source": [
    "On peut ajouter une colonne où l'on normalise par le maximum pour chaque indicateur"
   ]
  },
  {
   "cell_type": "code",
   "execution_count": 69,
   "id": "0f7eea47",
   "metadata": {},
   "outputs": [
    {
     "data": {
      "text/html": [
       "<div>\n",
       "<style scoped>\n",
       "    .dataframe tbody tr th:only-of-type {\n",
       "        vertical-align: middle;\n",
       "    }\n",
       "\n",
       "    .dataframe tbody tr th {\n",
       "        vertical-align: top;\n",
       "    }\n",
       "\n",
       "    .dataframe thead th {\n",
       "        text-align: right;\n",
       "    }\n",
       "</style>\n",
       "<table border=\"1\" class=\"dataframe\">\n",
       "  <thead>\n",
       "    <tr style=\"text-align: right;\">\n",
       "      <th></th>\n",
       "      <th>indicateur</th>\n",
       "      <th>beton</th>\n",
       "      <th>score</th>\n",
       "      <th>score_norm</th>\n",
       "    </tr>\n",
       "  </thead>\n",
       "  <tbody>\n",
       "    <tr>\n",
       "      <th>0</th>\n",
       "      <td>('water use',)</td>\n",
       "      <td>B</td>\n",
       "      <td>1.663520e+02</td>\n",
       "      <td>0.944556</td>\n",
       "    </tr>\n",
       "    <tr>\n",
       "      <th>1</th>\n",
       "      <td>('water use',)</td>\n",
       "      <td>A</td>\n",
       "      <td>1.761166e+02</td>\n",
       "      <td>1.000000</td>\n",
       "    </tr>\n",
       "    <tr>\n",
       "      <th>2</th>\n",
       "      <td>('photochemical oxidant formation: human healt...</td>\n",
       "      <td>B</td>\n",
       "      <td>1.397576e+00</td>\n",
       "      <td>0.853388</td>\n",
       "    </tr>\n",
       "    <tr>\n",
       "      <th>3</th>\n",
       "      <td>('photochemical oxidant formation: human healt...</td>\n",
       "      <td>A</td>\n",
       "      <td>1.637680e+00</td>\n",
       "      <td>1.000000</td>\n",
       "    </tr>\n",
       "    <tr>\n",
       "      <th>4</th>\n",
       "      <td>('particulate matter formation',)</td>\n",
       "      <td>B</td>\n",
       "      <td>2.990077e-05</td>\n",
       "      <td>1.000000</td>\n",
       "    </tr>\n",
       "    <tr>\n",
       "      <th>5</th>\n",
       "      <td>('particulate matter formation',)</td>\n",
       "      <td>A</td>\n",
       "      <td>2.872002e-05</td>\n",
       "      <td>0.960511</td>\n",
       "    </tr>\n",
       "    <tr>\n",
       "      <th>6</th>\n",
       "      <td>('ozone depletion',)</td>\n",
       "      <td>B</td>\n",
       "      <td>2.451686e-06</td>\n",
       "      <td>0.888267</td>\n",
       "    </tr>\n",
       "    <tr>\n",
       "      <th>7</th>\n",
       "      <td>('ozone depletion',)</td>\n",
       "      <td>A</td>\n",
       "      <td>2.760079e-06</td>\n",
       "      <td>1.000000</td>\n",
       "    </tr>\n",
       "    <tr>\n",
       "      <th>8</th>\n",
       "      <td>('material resources: metals/minerals',)</td>\n",
       "      <td>B</td>\n",
       "      <td>1.443926e-03</td>\n",
       "      <td>0.809118</td>\n",
       "    </tr>\n",
       "    <tr>\n",
       "      <th>9</th>\n",
       "      <td>('material resources: metals/minerals',)</td>\n",
       "      <td>A</td>\n",
       "      <td>1.784568e-03</td>\n",
       "      <td>1.000000</td>\n",
       "    </tr>\n",
       "    <tr>\n",
       "      <th>10</th>\n",
       "      <td>('land use',)</td>\n",
       "      <td>B</td>\n",
       "      <td>1.987754e+03</td>\n",
       "      <td>1.000000</td>\n",
       "    </tr>\n",
       "    <tr>\n",
       "      <th>11</th>\n",
       "      <td>('land use',)</td>\n",
       "      <td>A</td>\n",
       "      <td>1.848019e+03</td>\n",
       "      <td>0.929702</td>\n",
       "    </tr>\n",
       "    <tr>\n",
       "      <th>12</th>\n",
       "      <td>('ionising radiation: human health',)</td>\n",
       "      <td>B</td>\n",
       "      <td>1.573183e+01</td>\n",
       "      <td>0.909767</td>\n",
       "    </tr>\n",
       "    <tr>\n",
       "      <th>13</th>\n",
       "      <td>('ionising radiation: human health',)</td>\n",
       "      <td>A</td>\n",
       "      <td>1.729215e+01</td>\n",
       "      <td>1.000000</td>\n",
       "    </tr>\n",
       "    <tr>\n",
       "      <th>14</th>\n",
       "      <td>('human toxicity: non-carcinogenic, organics',)</td>\n",
       "      <td>B</td>\n",
       "      <td>1.493823e-07</td>\n",
       "      <td>1.000000</td>\n",
       "    </tr>\n",
       "    <tr>\n",
       "      <th>15</th>\n",
       "      <td>('human toxicity: non-carcinogenic, organics',)</td>\n",
       "      <td>A</td>\n",
       "      <td>1.383239e-07</td>\n",
       "      <td>0.925972</td>\n",
       "    </tr>\n",
       "    <tr>\n",
       "      <th>16</th>\n",
       "      <td>('human toxicity: non-carcinogenic, inorganics',)</td>\n",
       "      <td>B</td>\n",
       "      <td>3.249020e-06</td>\n",
       "      <td>0.795919</td>\n",
       "    </tr>\n",
       "    <tr>\n",
       "      <th>17</th>\n",
       "      <td>('human toxicity: non-carcinogenic, inorganics',)</td>\n",
       "      <td>A</td>\n",
       "      <td>4.082098e-06</td>\n",
       "      <td>1.000000</td>\n",
       "    </tr>\n",
       "    <tr>\n",
       "      <th>18</th>\n",
       "      <td>('human toxicity: non-carcinogenic',)</td>\n",
       "      <td>B</td>\n",
       "      <td>3.398402e-06</td>\n",
       "      <td>0.805228</td>\n",
       "    </tr>\n",
       "    <tr>\n",
       "      <th>19</th>\n",
       "      <td>('human toxicity: non-carcinogenic',)</td>\n",
       "      <td>A</td>\n",
       "      <td>4.220422e-06</td>\n",
       "      <td>1.000000</td>\n",
       "    </tr>\n",
       "    <tr>\n",
       "      <th>20</th>\n",
       "      <td>('human toxicity: carcinogenic, organics',)</td>\n",
       "      <td>B</td>\n",
       "      <td>2.172996e-07</td>\n",
       "      <td>0.976750</td>\n",
       "    </tr>\n",
       "    <tr>\n",
       "      <th>21</th>\n",
       "      <td>('human toxicity: carcinogenic, organics',)</td>\n",
       "      <td>A</td>\n",
       "      <td>2.224721e-07</td>\n",
       "      <td>1.000000</td>\n",
       "    </tr>\n",
       "    <tr>\n",
       "      <th>22</th>\n",
       "      <td>('human toxicity: carcinogenic, inorganics',)</td>\n",
       "      <td>B</td>\n",
       "      <td>8.473238e-08</td>\n",
       "      <td>0.922689</td>\n",
       "    </tr>\n",
       "    <tr>\n",
       "      <th>23</th>\n",
       "      <td>('human toxicity: carcinogenic, inorganics',)</td>\n",
       "      <td>A</td>\n",
       "      <td>9.183202e-08</td>\n",
       "      <td>1.000000</td>\n",
       "    </tr>\n",
       "    <tr>\n",
       "      <th>24</th>\n",
       "      <td>('human toxicity: carcinogenic',)</td>\n",
       "      <td>B</td>\n",
       "      <td>3.020320e-07</td>\n",
       "      <td>0.960955</td>\n",
       "    </tr>\n",
       "    <tr>\n",
       "      <th>25</th>\n",
       "      <td>('human toxicity: carcinogenic',)</td>\n",
       "      <td>A</td>\n",
       "      <td>3.143042e-07</td>\n",
       "      <td>1.000000</td>\n",
       "    </tr>\n",
       "    <tr>\n",
       "      <th>26</th>\n",
       "      <td>('eutrophication: terrestrial',)</td>\n",
       "      <td>B</td>\n",
       "      <td>4.204837e+00</td>\n",
       "      <td>0.812062</td>\n",
       "    </tr>\n",
       "    <tr>\n",
       "      <th>27</th>\n",
       "      <td>('eutrophication: terrestrial',)</td>\n",
       "      <td>A</td>\n",
       "      <td>5.177976e+00</td>\n",
       "      <td>1.000000</td>\n",
       "    </tr>\n",
       "    <tr>\n",
       "      <th>28</th>\n",
       "      <td>('eutrophication: marine',)</td>\n",
       "      <td>B</td>\n",
       "      <td>3.892305e-01</td>\n",
       "      <td>0.824780</td>\n",
       "    </tr>\n",
       "    <tr>\n",
       "      <th>29</th>\n",
       "      <td>('eutrophication: marine',)</td>\n",
       "      <td>A</td>\n",
       "      <td>4.719202e-01</td>\n",
       "      <td>1.000000</td>\n",
       "    </tr>\n",
       "    <tr>\n",
       "      <th>30</th>\n",
       "      <td>('eutrophication: freshwater',)</td>\n",
       "      <td>B</td>\n",
       "      <td>1.277886e-01</td>\n",
       "      <td>0.944129</td>\n",
       "    </tr>\n",
       "    <tr>\n",
       "      <th>31</th>\n",
       "      <td>('eutrophication: freshwater',)</td>\n",
       "      <td>A</td>\n",
       "      <td>1.353509e-01</td>\n",
       "      <td>1.000000</td>\n",
       "    </tr>\n",
       "    <tr>\n",
       "      <th>32</th>\n",
       "      <td>('energy resources: non-renewable',)</td>\n",
       "      <td>B</td>\n",
       "      <td>3.806393e+03</td>\n",
       "      <td>0.935845</td>\n",
       "    </tr>\n",
       "    <tr>\n",
       "      <th>33</th>\n",
       "      <td>('energy resources: non-renewable',)</td>\n",
       "      <td>A</td>\n",
       "      <td>4.067331e+03</td>\n",
       "      <td>1.000000</td>\n",
       "    </tr>\n",
       "    <tr>\n",
       "      <th>34</th>\n",
       "      <td>('ecotoxicity: freshwater, organics',)</td>\n",
       "      <td>B</td>\n",
       "      <td>3.512835e+01</td>\n",
       "      <td>1.000000</td>\n",
       "    </tr>\n",
       "    <tr>\n",
       "      <th>35</th>\n",
       "      <td>('ecotoxicity: freshwater, organics',)</td>\n",
       "      <td>A</td>\n",
       "      <td>3.191037e+01</td>\n",
       "      <td>0.908394</td>\n",
       "    </tr>\n",
       "    <tr>\n",
       "      <th>36</th>\n",
       "      <td>('ecotoxicity: freshwater, inorganics',)</td>\n",
       "      <td>B</td>\n",
       "      <td>1.727971e+03</td>\n",
       "      <td>1.000000</td>\n",
       "    </tr>\n",
       "    <tr>\n",
       "      <th>37</th>\n",
       "      <td>('ecotoxicity: freshwater, inorganics',)</td>\n",
       "      <td>A</td>\n",
       "      <td>1.187994e+03</td>\n",
       "      <td>0.687508</td>\n",
       "    </tr>\n",
       "    <tr>\n",
       "      <th>38</th>\n",
       "      <td>('ecotoxicity: freshwater',)</td>\n",
       "      <td>B</td>\n",
       "      <td>1.763100e+03</td>\n",
       "      <td>1.000000</td>\n",
       "    </tr>\n",
       "    <tr>\n",
       "      <th>39</th>\n",
       "      <td>('ecotoxicity: freshwater',)</td>\n",
       "      <td>A</td>\n",
       "      <td>1.219904e+03</td>\n",
       "      <td>0.691909</td>\n",
       "    </tr>\n",
       "    <tr>\n",
       "      <th>40</th>\n",
       "      <td>('climate change: land use and land use change',)</td>\n",
       "      <td>B</td>\n",
       "      <td>2.607684e-01</td>\n",
       "      <td>1.000000</td>\n",
       "    </tr>\n",
       "    <tr>\n",
       "      <th>41</th>\n",
       "      <td>('climate change: land use and land use change',)</td>\n",
       "      <td>A</td>\n",
       "      <td>2.145475e-01</td>\n",
       "      <td>0.822751</td>\n",
       "    </tr>\n",
       "    <tr>\n",
       "      <th>42</th>\n",
       "      <td>('climate change: fossil',)</td>\n",
       "      <td>B</td>\n",
       "      <td>3.912334e+02</td>\n",
       "      <td>0.696684</td>\n",
       "    </tr>\n",
       "    <tr>\n",
       "      <th>43</th>\n",
       "      <td>('climate change: fossil',)</td>\n",
       "      <td>A</td>\n",
       "      <td>5.615653e+02</td>\n",
       "      <td>1.000000</td>\n",
       "    </tr>\n",
       "    <tr>\n",
       "      <th>44</th>\n",
       "      <td>('climate change: biogenic',)</td>\n",
       "      <td>B</td>\n",
       "      <td>2.004138e-01</td>\n",
       "      <td>1.000000</td>\n",
       "    </tr>\n",
       "    <tr>\n",
       "      <th>45</th>\n",
       "      <td>('climate change: biogenic',)</td>\n",
       "      <td>A</td>\n",
       "      <td>1.851553e-01</td>\n",
       "      <td>0.923865</td>\n",
       "    </tr>\n",
       "    <tr>\n",
       "      <th>46</th>\n",
       "      <td>('climate change',)</td>\n",
       "      <td>B</td>\n",
       "      <td>3.916946e+02</td>\n",
       "      <td>0.697009</td>\n",
       "    </tr>\n",
       "    <tr>\n",
       "      <th>47</th>\n",
       "      <td>('climate change',)</td>\n",
       "      <td>A</td>\n",
       "      <td>5.619650e+02</td>\n",
       "      <td>1.000000</td>\n",
       "    </tr>\n",
       "    <tr>\n",
       "      <th>48</th>\n",
       "      <td>('acidification',)</td>\n",
       "      <td>B</td>\n",
       "      <td>1.624189e+00</td>\n",
       "      <td>0.922577</td>\n",
       "    </tr>\n",
       "    <tr>\n",
       "      <th>49</th>\n",
       "      <td>('acidification',)</td>\n",
       "      <td>A</td>\n",
       "      <td>1.760491e+00</td>\n",
       "      <td>1.000000</td>\n",
       "    </tr>\n",
       "  </tbody>\n",
       "</table>\n",
       "</div>"
      ],
      "text/plain": [
       "                                           indicateur beton         score  \\\n",
       "0                                      ('water use',)     B  1.663520e+02   \n",
       "1                                      ('water use',)     A  1.761166e+02   \n",
       "2   ('photochemical oxidant formation: human healt...     B  1.397576e+00   \n",
       "3   ('photochemical oxidant formation: human healt...     A  1.637680e+00   \n",
       "4                   ('particulate matter formation',)     B  2.990077e-05   \n",
       "5                   ('particulate matter formation',)     A  2.872002e-05   \n",
       "6                                ('ozone depletion',)     B  2.451686e-06   \n",
       "7                                ('ozone depletion',)     A  2.760079e-06   \n",
       "8            ('material resources: metals/minerals',)     B  1.443926e-03   \n",
       "9            ('material resources: metals/minerals',)     A  1.784568e-03   \n",
       "10                                      ('land use',)     B  1.987754e+03   \n",
       "11                                      ('land use',)     A  1.848019e+03   \n",
       "12              ('ionising radiation: human health',)     B  1.573183e+01   \n",
       "13              ('ionising radiation: human health',)     A  1.729215e+01   \n",
       "14    ('human toxicity: non-carcinogenic, organics',)     B  1.493823e-07   \n",
       "15    ('human toxicity: non-carcinogenic, organics',)     A  1.383239e-07   \n",
       "16  ('human toxicity: non-carcinogenic, inorganics',)     B  3.249020e-06   \n",
       "17  ('human toxicity: non-carcinogenic, inorganics',)     A  4.082098e-06   \n",
       "18              ('human toxicity: non-carcinogenic',)     B  3.398402e-06   \n",
       "19              ('human toxicity: non-carcinogenic',)     A  4.220422e-06   \n",
       "20        ('human toxicity: carcinogenic, organics',)     B  2.172996e-07   \n",
       "21        ('human toxicity: carcinogenic, organics',)     A  2.224721e-07   \n",
       "22      ('human toxicity: carcinogenic, inorganics',)     B  8.473238e-08   \n",
       "23      ('human toxicity: carcinogenic, inorganics',)     A  9.183202e-08   \n",
       "24                  ('human toxicity: carcinogenic',)     B  3.020320e-07   \n",
       "25                  ('human toxicity: carcinogenic',)     A  3.143042e-07   \n",
       "26                   ('eutrophication: terrestrial',)     B  4.204837e+00   \n",
       "27                   ('eutrophication: terrestrial',)     A  5.177976e+00   \n",
       "28                        ('eutrophication: marine',)     B  3.892305e-01   \n",
       "29                        ('eutrophication: marine',)     A  4.719202e-01   \n",
       "30                    ('eutrophication: freshwater',)     B  1.277886e-01   \n",
       "31                    ('eutrophication: freshwater',)     A  1.353509e-01   \n",
       "32               ('energy resources: non-renewable',)     B  3.806393e+03   \n",
       "33               ('energy resources: non-renewable',)     A  4.067331e+03   \n",
       "34             ('ecotoxicity: freshwater, organics',)     B  3.512835e+01   \n",
       "35             ('ecotoxicity: freshwater, organics',)     A  3.191037e+01   \n",
       "36           ('ecotoxicity: freshwater, inorganics',)     B  1.727971e+03   \n",
       "37           ('ecotoxicity: freshwater, inorganics',)     A  1.187994e+03   \n",
       "38                       ('ecotoxicity: freshwater',)     B  1.763100e+03   \n",
       "39                       ('ecotoxicity: freshwater',)     A  1.219904e+03   \n",
       "40  ('climate change: land use and land use change',)     B  2.607684e-01   \n",
       "41  ('climate change: land use and land use change',)     A  2.145475e-01   \n",
       "42                        ('climate change: fossil',)     B  3.912334e+02   \n",
       "43                        ('climate change: fossil',)     A  5.615653e+02   \n",
       "44                      ('climate change: biogenic',)     B  2.004138e-01   \n",
       "45                      ('climate change: biogenic',)     A  1.851553e-01   \n",
       "46                                ('climate change',)     B  3.916946e+02   \n",
       "47                                ('climate change',)     A  5.619650e+02   \n",
       "48                                 ('acidification',)     B  1.624189e+00   \n",
       "49                                 ('acidification',)     A  1.760491e+00   \n",
       "\n",
       "    score_norm  \n",
       "0     0.944556  \n",
       "1     1.000000  \n",
       "2     0.853388  \n",
       "3     1.000000  \n",
       "4     1.000000  \n",
       "5     0.960511  \n",
       "6     0.888267  \n",
       "7     1.000000  \n",
       "8     0.809118  \n",
       "9     1.000000  \n",
       "10    1.000000  \n",
       "11    0.929702  \n",
       "12    0.909767  \n",
       "13    1.000000  \n",
       "14    1.000000  \n",
       "15    0.925972  \n",
       "16    0.795919  \n",
       "17    1.000000  \n",
       "18    0.805228  \n",
       "19    1.000000  \n",
       "20    0.976750  \n",
       "21    1.000000  \n",
       "22    0.922689  \n",
       "23    1.000000  \n",
       "24    0.960955  \n",
       "25    1.000000  \n",
       "26    0.812062  \n",
       "27    1.000000  \n",
       "28    0.824780  \n",
       "29    1.000000  \n",
       "30    0.944129  \n",
       "31    1.000000  \n",
       "32    0.935845  \n",
       "33    1.000000  \n",
       "34    1.000000  \n",
       "35    0.908394  \n",
       "36    1.000000  \n",
       "37    0.687508  \n",
       "38    1.000000  \n",
       "39    0.691909  \n",
       "40    1.000000  \n",
       "41    0.822751  \n",
       "42    0.696684  \n",
       "43    1.000000  \n",
       "44    1.000000  \n",
       "45    0.923865  \n",
       "46    0.697009  \n",
       "47    1.000000  \n",
       "48    0.922577  \n",
       "49    1.000000  "
      ]
     },
     "execution_count": 69,
     "metadata": {},
     "output_type": "execute_result"
    }
   ],
   "source": [
    "res['score_norm'] = [res.at[i,'score']/max(res[res.indicateur == res.at[i,'indicateur']]['score']) for i in res.index]\n",
    "res"
   ]
  },
  {
   "cell_type": "code",
   "execution_count": 1,
   "id": "58fa8711",
   "metadata": {},
   "outputs": [
    {
     "ename": "NameError",
     "evalue": "name 'plt' is not defined",
     "output_type": "error",
     "traceback": [
      "\u001b[0;31m---------------------------------------------------------------------------\u001b[0m",
      "\u001b[0;31mNameError\u001b[0m                                 Traceback (most recent call last)",
      "Cell \u001b[0;32mIn[1], line 1\u001b[0m\n\u001b[0;32m----> 1\u001b[0m fig, ax \u001b[38;5;241m=\u001b[39m plt\u001b[38;5;241m.\u001b[39msubplots()\n\u001b[1;32m      2\u001b[0m sns\u001b[38;5;241m.\u001b[39mcatplot(data\u001b[38;5;241m=\u001b[39mres,x\u001b[38;5;241m=\u001b[39m\u001b[38;5;124m'\u001b[39m\u001b[38;5;124mindicateur\u001b[39m\u001b[38;5;124m'\u001b[39m,y\u001b[38;5;241m=\u001b[39m\u001b[38;5;124m'\u001b[39m\u001b[38;5;124mscore_norm\u001b[39m\u001b[38;5;124m'\u001b[39m,kind\u001b[38;5;241m=\u001b[39m\u001b[38;5;124m'\u001b[39m\u001b[38;5;124mbar\u001b[39m\u001b[38;5;124m'\u001b[39m,hue\u001b[38;5;241m=\u001b[39m\u001b[38;5;124m'\u001b[39m\u001b[38;5;124mbeton\u001b[39m\u001b[38;5;124m'\u001b[39m,errorbar\u001b[38;5;241m=\u001b[39m\u001b[38;5;28;01mNone\u001b[39;00m)\n\u001b[1;32m      3\u001b[0m plt\u001b[38;5;241m.\u001b[39mxticks(rotation\u001b[38;5;241m=\u001b[39m\u001b[38;5;241m45\u001b[39m, ha\u001b[38;5;241m=\u001b[39m\u001b[38;5;124m'\u001b[39m\u001b[38;5;124mright\u001b[39m\u001b[38;5;124m'\u001b[39m)\n",
      "\u001b[0;31mNameError\u001b[0m: name 'plt' is not defined"
     ]
    }
   ],
   "source": [
    "fig, ax = plt.subplots()\n",
    "sns.catplot(data=res,x='indicateur',y='score_norm',kind='bar',hue='beton',errorbar=None)\n",
    "plt.xticks(rotation=45, ha='right')"
   ]
  },
  {
   "cell_type": "code",
   "execution_count": 95,
   "id": "a135f2af",
   "metadata": {},
   "outputs": [],
   "source": [
    "import pandas as pd\n",
    "\n",
    "df_impact =pd.read_excel('/home/thibault.chevilliet@enpc.fr/Documents/Cours ACV notebook/Cours 2025/impact_world_plus_2.1 (incl. CO2 uptake)_expert_version_ecoinvent_v311.xlsx')"
   ]
  },
  {
   "cell_type": "code",
   "execution_count": null,
   "id": "b0b2e870",
   "metadata": {},
   "outputs": [],
   "source": [
    "import Bw25_personal_functions as perso\n",
    "indicators = perso.unique_list(p)\n",
    "for row in pandas.index :\n",
    "\n",
    "\n",
    "\n",
    "my_cf_data = [\n",
    "    (biosphere_node_1, 42),\n",
    "    (biosphere_node_1, 23, 'BR'),\n",
    "    (biosphere_node_2, {\n",
    "        'uncertainty_type': sa.TriangularUncertainty.id,\n",
    "        'amount': 7,\n",
    "        'loc': 7,\n",
    "        'maximum': 21\n",
    "    })\n",
    "]\n",
    "bd.Method(('<impact>', '<category>')).write(my_cf_data)"
   ]
  },
  {
   "cell_type": "code",
   "execution_count": 79,
   "id": "96529f07",
   "metadata": {},
   "outputs": [
    {
     "data": {
      "text/plain": [
       "('ecoinvent-3.11',\n",
       " 'CML v4.8 2016 no LT',\n",
       " 'ecotoxicity: freshwater no LT',\n",
       " 'freshwater aquatic ecotoxicity (FAETP inf) no LT')"
      ]
     },
     "execution_count": 79,
     "metadata": {},
     "output_type": "execute_result"
    }
   ],
   "source": [
    "met = [m for m in bd.methods if 'water' in str(m)][0]\n",
    "met"
   ]
  },
  {
   "cell_type": "code",
   "execution_count": null,
   "id": "5c5dface",
   "metadata": {},
   "outputs": [
    {
     "name": "stdout",
     "output_type": "stream",
     "text": [
      "Calculating supply chain score...\n",
      "Sankey diagram generated.\n"
     ]
    },
    {
     "data": {
      "text/plain": [
       "('/home/thibault.chevilliet@enpc.fr/Documents/Cours ACV notebook/Cours 2025/anchovy capture by steel purse seiner and landing whole fresh kilogram ES ecoinvent311CML v48 2016 no LTecotoxicity freshwater no LTfreshwater aquatic ecotoxicity FAETP inf no LT sankey.html',\n",
       "                                                source  \\\n",
       " 0   anchovy, capture by steel purse seiner and lan...   \n",
       " 1                             activities below cutoff   \n",
       " 2       m. for diesel, burned in fishing vessel (GLO)   \n",
       " 3                        m. for lubricating oil (RER)   \n",
       " 4        m. for purse seiner maintenance, steel (GLO)   \n",
       " ..                                                ...   \n",
       " 62                m. for waste plastic, mixture (RoW)   \n",
       " 63                    m. for waste polyethylene (RoW)   \n",
       " 80                                          emissions   \n",
       " 64                            activities below cutoff   \n",
       " 81                                          emissions   \n",
       " \n",
       "                                                target        weight  \\\n",
       " 0   anchovy, capture by steel purse seiner and lan...  1.423952e-02   \n",
       " 1   anchovy, capture by steel purse seiner and lan...  7.766535e-05   \n",
       " 2   anchovy, capture by steel purse seiner and lan...  8.626885e-03   \n",
       " 3   anchovy, capture by steel purse seiner and lan...  1.517066e-04   \n",
       " 4   anchovy, capture by steel purse seiner and lan...  3.586504e-03   \n",
       " ..                                                ...           ...   \n",
       " 62        treatment of used purse seiner, steel (RoW)  1.509001e-04   \n",
       " 63        treatment of used purse seiner, steel (RoW)  2.887092e-04   \n",
       " 80  treatment of waste plastic, mixture, open burn...  1.216467e-03   \n",
       " 64  treatment of waste plastic, mixture, unsanitar...  7.879635e-09   \n",
       " 81  treatment of waste plastic, mixture, unsanitar...  2.096811e-04   \n",
       " \n",
       "              unit  \n",
       " 0   kg 1,4-DCB-Eq  \n",
       " 1   kg 1,4-DCB-Eq  \n",
       " 2   kg 1,4-DCB-Eq  \n",
       " 3   kg 1,4-DCB-Eq  \n",
       " 4   kg 1,4-DCB-Eq  \n",
       " ..            ...  \n",
       " 62  kg 1,4-DCB-Eq  \n",
       " 63  kg 1,4-DCB-Eq  \n",
       " 80  kg 1,4-DCB-Eq  \n",
       " 64  kg 1,4-DCB-Eq  \n",
       " 81  kg 1,4-DCB-Eq  \n",
       " \n",
       " [85 rows x 4 columns])"
      ]
     },
     "execution_count": 57,
     "metadata": {},
     "output_type": "execute_result"
    },
    {
     "name": "stderr",
     "output_type": "stream",
     "text": [
      "/snap/core20/current/lib/x86_64-linux-gnu/libstdc++.so.6: version `GLIBCXX_3.4.29' not found (required by /lib/x86_64-linux-gnu/libproxy.so.1)\n",
      "Failed to load module: /home/thibault.chevilliet@enpc.fr/snap/codium/common/.cache/gio-modules/libgiolibproxy.so\n",
      "Gtk-Message: 14:42:45.356: Not loading module \"atk-bridge\": The functionality is provided by GTK natively. Please try to not load it.\n",
      "Gtk-Message: 14:42:45.477: Failed to load module \"canberra-gtk-module\"\n",
      "Gtk-Message: 14:42:45.480: Failed to load module \"canberra-gtk-module\"\n"
     ]
    }
   ],
   "source": [
    "from polyviz import sankey\n",
    "\n",
    "sankey(activity,met,level = 5)"
   ]
  },
  {
   "cell_type": "code",
   "execution_count": null,
   "id": "1d08bede",
   "metadata": {},
   "outputs": [],
   "source": []
  }
 ],
 "metadata": {
  "kernelspec": {
   "display_name": "Python 3 (ipykernel)",
   "language": "python",
   "name": "python3"
  },
  "language_info": {
   "codemirror_mode": {
    "name": "ipython",
    "version": 3
   },
   "file_extension": ".py",
   "mimetype": "text/x-python",
   "name": "python",
   "nbconvert_exporter": "python",
   "pygments_lexer": "ipython3",
   "version": "3.12.8"
  }
 },
 "nbformat": 4,
 "nbformat_minor": 5
}
