{
 "cells": [
  {
   "cell_type": "markdown",
   "id": "87aed915-5ce5-43d3-b837-11c39f769d78",
   "metadata": {},
   "source": [
    "# Bases de données et création de procédés"
   ]
  },
  {
   "cell_type": "markdown",
   "id": "39a812df-5fb4-4fd6-81f2-84523f38789d",
   "metadata": {},
   "source": [
    "Nous avons vu qu'une ACV consistait en deux grandes étapes : \n",
    "1. celle d'inventaire ;\n",
    "2. puis celle de caractérisation d'inventaire.\n",
    "\n",
    "En pratique, on s'appuie sur des bases de données (BDD) qui décrivent :\n",
    "- la technosphère (ensemble des procédés et des flux qui les relient, dits flux intermédiaires) ; \n",
    "- la biosphère (ensemble des matières et substances potentiellement extraites ou émises par les procédés, dits flux élémentaires) ;\n",
    "- les méthodes d'impacts (défintion des catégories d'impact, des indicateurs, des facteurs de caractérisation associés, et accessoirement des facteurs d'agrégation et/ou de normalisation)\n",
    "\n",
    "SCHEMA INVENTAIRE IMPACTS FLUX\n",
    "\n",
    "Commençons par les procédés. Nous utilisons couramment pour modéliser ces derniers la base de données ecoinvent qui est générique - elle recouvre plusieurs secteurs d'activités (Industrie, Énergie, Matériaux, Transports...).\n",
    "\n",
    "Vous pouvez explorer cette BDD en ligne à ce lien : [https://ecoquery.ecoinvent.org/3.11/cutoff](https://ecoquery.ecoinvent.org/3.11/cutoff). (version, allocation, exemple de procédé)\n",
    "\n",
    "Pour réaliser des ACV à partir de ces BDD, plusieurs logiciels sont disponibles (des libres tels OpenLCA et brightway ; des payants tels SimaPro, OneClick LCA ou Holis). Nous utilisons la librairie python brightway 2.5 dans ce qui suit car elle est open-source, permet de profiter de l'écosystème python, s'appuie explicitement sur le formalisme mathématique vu précédemment et évite l'effet \"boîte noire\"."
   ]
  },
  {
   "cell_type": "markdown",
   "id": "c21f1cd0-5ccb-4a02-97e5-3d298237aa40",
   "metadata": {},
   "source": [
    "**Documentation de brightway2.5**\n",
    "\n",
    "Voir :\n",
    "\n",
    "- documentation générale : https://docs.brightway.dev/en/latest/content/overview/index.html\n",
    "- pense-bête : https://docs.brightway.dev/en/latest/content/cheatsheet/index.html"
   ]
  },
  {
   "cell_type": "markdown",
   "id": "f7c049a7-0660-467f-97c2-e4dd56c54019",
   "metadata": {},
   "source": [
    "## Import des librairies et mise en place du projet"
   ]
  },
  {
   "cell_type": "code",
   "execution_count": 2,
   "id": "6cd59299-1309-402c-82c8-38697f1b598c",
   "metadata": {},
   "outputs": [],
   "source": [
    "import bw2io as bi # ensemble des fonctions et classes pour importer et exporter (input/output)\n",
    "import bw2data as bd # ... pour gérer les données du projet\n",
    "import bw2calc as bc # ... pour faire des opérations\n",
    "import bw2analyzer as ba # ... pour interpréter les résultats"
   ]
  },
  {
   "cell_type": "code",
   "execution_count": 4,
   "id": "2df60d68-bfc3-4308-8ae5-dba66a9b7e29",
   "metadata": {},
   "outputs": [],
   "source": [
    "bd.projects.set_current('2025-06-10_ecoinvent_311') # On se met dans un projet (ie un dossier) qui contient déjà ecoinvent 3.11 cut-off"
   ]
  },
  {
   "cell_type": "code",
   "execution_count": 6,
   "id": "cc98eca4",
   "metadata": {},
   "outputs": [
    {
     "data": {
      "text/plain": [
       "Databases dictionary with 3 object(s):\n",
       "\tecoinvent-3.11-biosphere\n",
       "\tecoinvent-3.11-cutoff\n",
       "\tsoletanche_database"
      ]
     },
     "execution_count": 6,
     "metadata": {},
     "output_type": "execute_result"
    }
   ],
   "source": [
    "bd.databases # On peut vérifier les BDD disponibles dans ce projet"
   ]
  },
  {
   "cell_type": "markdown",
   "id": "c0f0ab1b-f4b9-4291-bb75-248920a07c85",
   "metadata": {},
   "source": [
    "## Exploration d'ecoinvent"
   ]
  },
  {
   "cell_type": "code",
   "execution_count": 11,
   "id": "805d8e51-2fc1-47d0-955f-205804697900",
   "metadata": {},
   "outputs": [
    {
     "data": {
      "text/plain": [
       "{'overwrite': False,\n",
       " 'format': 'Ecoinvent XML',\n",
       " 'depends': ['ecoinvent-3.11-biosphere'],\n",
       " 'backend': 'sqlite',\n",
       " 'number': 25412,\n",
       " 'modified': '2025-06-10T14:54:14.413920',\n",
       " 'geocollections': ['world'],\n",
       " 'processed': '2025-06-10T14:55:04.336922',\n",
       " 'dirty': False,\n",
       " 'searchable': True}"
      ]
     },
     "execution_count": 11,
     "metadata": {},
     "output_type": "execute_result"
    }
   ],
   "source": [
    "eidb"
   ]
  },
  {
   "cell_type": "markdown",
   "id": "a0b92161",
   "metadata": {},
   "source": [
    "On peut commencer par se poser les questions suivantes."
   ]
  },
  {
   "cell_type": "markdown",
   "id": "7db72a7b",
   "metadata": {},
   "source": [
    "1. Combien y a-t-il d'éléments dans cette biosphère ?"
   ]
  },
  {
   "cell_type": "code",
   "execution_count": null,
   "id": "f281e4fe",
   "metadata": {},
   "outputs": [
    {
     "data": {
      "text/plain": [
       "9795"
      ]
     },
     "metadata": {},
     "output_type": "display_data"
    }
   ],
   "source": [
    "biodb = bd.Database('ecoinvent-3.11-biosphere')\n",
    "len(biodb)"
   ]
  },
  {
   "cell_type": "code",
   "execution_count": null,
   "id": "1c9cb4ac",
   "metadata": {},
   "outputs": [
    {
     "data": {
      "text/plain": [
       "'Propisochlor' (kilogram, None, ('air', 'non-urban air or from high stacks'))"
      ]
     },
     "metadata": {},
     "output_type": "display_data"
    }
   ],
   "source": [
    "element = biodb.random() #On met dans une variable un élément de la biosphère choisi aléatoirement \n",
    "element"
   ]
  },
  {
   "cell_type": "code",
   "execution_count": null,
   "id": "2641d83f",
   "metadata": {},
   "outputs": [
    {
     "data": {
      "text/plain": [
       "{'categories': ('air', 'non-urban air or from high stacks'),\n",
       " 'code': '076fb2c0-6583-59d2-a74b-6f894c48c75e',\n",
       " 'CAS number': '086763-47-5',\n",
       " 'synonyms': [],\n",
       " 'name': 'Propisochlor',\n",
       " 'database': 'ecoinvent-3.11-biosphere',\n",
       " 'unit': 'kilogram',\n",
       " 'type': 'emission',\n",
       " 'id': 190810763284049932}"
      ]
     },
     "metadata": {},
     "output_type": "display_data"
    }
   ],
   "source": [
    "element.as_dict()"
   ]
  },
  {
   "cell_type": "markdown",
   "id": "9be1f39e",
   "metadata": {},
   "source": [
    "2. Combien y a-t-il de procédés dans cette technosphère ?"
   ]
  },
  {
   "cell_type": "code",
   "execution_count": 12,
   "id": "4c9dde5d",
   "metadata": {},
   "outputs": [
    {
     "data": {
      "text/plain": [
       "25412"
      ]
     },
     "execution_count": 12,
     "metadata": {},
     "output_type": "execute_result"
    }
   ],
   "source": [
    "eidb = bd.Database('ecoinvent-3.11-cutoff') #On sélectionne la technosphere que l'on stocke dans une variable\n",
    "len(eidb) #La longueur de celle-ci correspond au nombre de procédés différents disponibles"
   ]
  },
  {
   "cell_type": "code",
   "execution_count": 30,
   "id": "4053353c",
   "metadata": {},
   "outputs": [
    {
     "data": {
      "text/plain": [
       "'market for natural gas, high pressure' (cubic meter, BO, None)"
      ]
     },
     "execution_count": 30,
     "metadata": {},
     "output_type": "execute_result"
    }
   ],
   "source": [
    "activity = eidb.random()\n",
    "activity"
   ]
  },
  {
   "cell_type": "code",
   "execution_count": 31,
   "id": "cb939090",
   "metadata": {},
   "outputs": [
    {
     "data": {
      "text/plain": [
       "{'comment': 'This is a market activity. Each market represents the consumption mix of a product in a given geography, connecting suppliers with consumers of the same product in the same geographical area. Markets group the producers and the imports of the product (if relevant) within the same geographical area. They also account for transport (distribution) to the consumer and for the losses during that process, when relevant.\\nThis is the market for ‘natural gas, high pressure\\' [m3], in the geography of Bolivia. The consumption mix is calculated based on own production - if relevant - and trade statistics for 2023 from Energy Institute (2024). It contains information on energy and transport requirement (excluding for any imports, which are modelled in separate datasets) and the losses and emissions occurring during the distribution. This information has been extrapolated from other geographies, based on modelling described in Bussa et al. (2024).\\nThe product ‘natural gas, high pressure\\' is a fossil fuel, for which a generic gross calorific value (GCV) of 40MJ/m3, a net calorific value (NCV) of 36.0 MJ/m3 and a density of 0.735kg/m3 for natural gas are applied, in line with the global statistics (referring to standard cubic meters, Sm3, measured at 15°C and 1013 mbar), based on Meili et al. (2023). It is used as a gaseous fuel and is sourced from oil and gas production and evaporation of liquid natural gas. The initial overpressure of the gas is 1-5 bar (1000-5000 hPa). Natural gas supplied at high pressure is predominantly used by large consumers, e.g., power plants and industries.\\nReference(s):\\nBussa, M., N. Jungbluth, Ch. Meili (2023) Life cycle inventories for long-distance transport and distribution of natural gas. ESU-services Ltd. Schaffhausen, Switzerland. Available from: http://esu-services.ch/data/public-lci-reports/\\nEnergy Instiute (2024). \\'Statistical Review of World Energy\\'. Retrieved from: https://www.energyinst.org/statistical-review\\nMeili, Ch., N. Jungbluth, M. Bussa (2023) Life cycle inventories of crude oil and natural gas extraction. ESU-services Ltd. Schaffhausen, Switzerland. Retrieved from: http://esu-services.ch/data/public-lci-reports/ \\nIncluded activities start:  This activity starts at the gate of the activities that produce \\'natural gas, high pressure\\', within the geography of Bolivia.\\nIncluded activities end:  This activity ends with the supply of \"natural gas, high pressure\" to the consumers of this product. The activity includes energy use, emissions, and infrastructure requirements for the distribution of natural gas to large-scale users (e.g., industry or power plants) at high pressure.\\nGeography:  Bolivia\\nTechnology:  This dataset refers only to the delivery of high pressure natural gas, which has 1-5 bar overpressure. The gas is supplied to consumers via onshore pipelines. The delivery at low pressure (0.1 bar overpressure), e.g., to households, is not considered within this activity.\\nTime period:  Energy requirements are from 2019 and leakage data are from 2018. Trade movements investigated for 2023.',\n",
       " 'classifications': [('ISIC rev.4 ecoinvent',\n",
       "   '3520:Manufacture of gas; distribution of gaseous fuels through mains'),\n",
       "  ('CPC', '1')],\n",
       " 'activity type': 'market activity',\n",
       " 'activity': '9294aa88-e347-5200-bbad-233212fe0ca2',\n",
       " 'database': 'ecoinvent-3.11-cutoff',\n",
       " 'filename': '9294aa88-e347-5200-bbad-233212fe0ca2_a9007f10-7e39-4d50-8f4a-d6d03ce3d673.spold',\n",
       " 'location': 'BO',\n",
       " 'name': 'market for natural gas, high pressure',\n",
       " 'synonyms': [],\n",
       " 'parameters': [],\n",
       " 'authors': {'data entry': {'name': 'Carl Vadenbo',\n",
       "   'email': 'vadenbo@ecoinvent.org'},\n",
       "  'data generator': {'name': 'Carl Vadenbo',\n",
       "   'email': 'vadenbo@ecoinvent.org'}},\n",
       " 'type': 'processwithreferenceproduct',\n",
       " 'product_information': \"‘natural gas, high pressure' is a fossil fuel, for which a generic gross calorific value (GCV) of 40MJ/m3, a net calorific value (NCV) of 36.0 MJ/m3 and a density of 0.735kg/m3 for natural gas are applied, in line with the global statistics (referring to standard cubic meters, Sm3, measured at 15°C and 1013 mbar). It is used as a gaseous fuel and is sourced from oil and gas production and evaporation of liquid natural gas. The initial overpressure of the gas is 1-5 bar (1000-5000 hPa). Natural gas supplied at high pressure is predominantly used by large consumers, e.g., power plants and industries.\",\n",
       " 'reference product': 'natural gas, high pressure',\n",
       " 'flow': 'a9007f10-7e39-4d50-8f4a-d6d03ce3d673',\n",
       " 'unit': 'cubic meter',\n",
       " 'production amount': 1.0,\n",
       " 'code': '3a26a51cf4bfdff204b8860e510cfacf',\n",
       " 'id': 190810950765244417}"
      ]
     },
     "execution_count": 31,
     "metadata": {},
     "output_type": "execute_result"
    }
   ],
   "source": [
    "activity.as_dict()"
   ]
  },
  {
   "cell_type": "markdown",
   "id": "22454781",
   "metadata": {},
   "source": [
    "3. Comment un procédé est-il relié aux autres ?"
   ]
  },
  {
   "cell_type": "code",
   "execution_count": null,
   "id": "2bd7e76a",
   "metadata": {},
   "outputs": [
    {
     "data": {
      "text/plain": [
       "['landed anchovy by-catch, fresh to generic market for marine fish' (kilogram, GLO, None),\n",
       " 'landed anchovy to generic market for marine fish' (kilogram, GLO, None),\n",
       " 'market for landed anchovy, fresh' (kilogram, PE, None),\n",
       " 'market for landed anchovy, fresh' (kilogram, RoW, None),\n",
       " 'anchovy, capture by steel purse seiner and landing whole, fresh' (kilogram, ES, None),\n",
       " 'anchovy, capture by steel purse seiner and landing whole, fresh' (kilogram, ES, None),\n",
       " 'anchovy, capture by steel purse seiner and landing whole, fresh' (kilogram, RoW, None),\n",
       " 'anchovy, capture by steel purse seiner and landing whole, fresh' (kilogram, RoW, None),\n",
       " 'market for landed anchovy by-catch, fresh' (kilogram, GLO, None),\n",
       " 'fishmeal and fish oil production, 63-65% protein, from fresh anchovy' (kilogram, RoW, None),\n",
       " 'fishmeal and fish oil production, 63-65% protein, from fresh anchovy' (kilogram, PE, None),\n",
       " 'market for fish oil, from anchovy' (kilogram, GLO, None),\n",
       " 'anchovy, capture by steel purse seiner and landing whole, fresh' (kilogram, PE, None),\n",
       " 'anchovy, capture by wooden purse seiner and landing whole, fresh' (kilogram, PE, None),\n",
       " 'fishmeal and fish oil production, 63-65% protein, from fresh anchovy' (kilogram, RoW, None),\n",
       " 'fishmeal and fish oil production, 63-65% protein, from fresh anchovy' (kilogram, PE, None),\n",
       " 'fishmeal and fish oil production, 65-67% protein' (kilogram, RoW, None),\n",
       " 'fishmeal and fish oil production, 65-67% protein' (kilogram, PE, None),\n",
       " 'fishmeal and fish oil production, 63-65% protein, from fresh anchovy and fish residues' (kilogram, PE, None),\n",
       " 'fishmeal and fish oil production, 63-65% protein, from fresh anchovy and fish residues' (kilogram, RoW, None),\n",
       " 'fishmeal and fish oil production, 63-65% protein, from fresh anchovy and fish residues' (kilogram, PE, None),\n",
       " 'fishmeal and fish oil production, 63-65% protein, from fresh anchovy and fish residues' (kilogram, RoW, None),\n",
       " 'fishmeal and fish oil production, 63-65% protein, from fish residues' (kilogram, RoW, None),\n",
       " 'fishmeal and fish oil production, 63-65% protein, from fish residues' (kilogram, PE, None),\n",
       " 'fishmeal and fish oil production, 63-65% protein, from fish residues' (kilogram, RoW, None)]"
      ]
     },
     "execution_count": 39,
     "metadata": {},
     "output_type": "execute_result"
    }
   ],
   "source": [
    "activity = eidb.search('anchovy') #On utilise une fonction de recherche par mot-clé, ici \"anchovy\"\n",
    "activity # brightway retourne une liste de procédés"
   ]
  },
  {
   "cell_type": "code",
   "execution_count": 41,
   "id": "f6ad5ec4",
   "metadata": {},
   "outputs": [
    {
     "data": {
      "text/plain": [
       "'anchovy, capture by steel purse seiner and landing whole, fresh' (kilogram, ES, None)"
      ]
     },
     "execution_count": 41,
     "metadata": {},
     "output_type": "execute_result"
    }
   ],
   "source": [
    "activity = eidb.search('anchovy, capture by steel purse seiner')[0] #On choisit le premier élément de la liste, en précisant le mot-clé\n",
    "activity #Ici, activity sera bien un procédé, non une liste de procédés"
   ]
  },
  {
   "cell_type": "markdown",
   "id": "edba0a0d",
   "metadata": {},
   "source": [
    "On regarde maintenant quels sont ses échanges avec la technosphère et la biosphère."
   ]
  },
  {
   "cell_type": "code",
   "execution_count": null,
   "id": "e465aa77",
   "metadata": {},
   "outputs": [
    {
     "data": {
      "text/plain": [
       "[Exchange: 1.0 kilogram 'anchovy, capture by steel purse seiner and landing whole, fresh' (kilogram, ES, None) to 'anchovy, capture by steel purse seiner and landing whole, fresh' (kilogram, ES, None)>,\n",
       " Exchange: -0.002032598343604353 kilogram 'market for antifouling paint emissions' (kilogram, GLO, None) to 'anchovy, capture by steel purse seiner and landing whole, fresh' (kilogram, ES, None)>,\n",
       " Exchange: 17.88461398791684 megajoule 'market for diesel, burned in fishing vessel' (megajoule, GLO, None) to 'anchovy, capture by steel purse seiner and landing whole, fresh' (kilogram, ES, None)>,\n",
       " Exchange: 0.006310948398860212 kilogram 'market for lubricating oil' (kilogram, RER, None) to 'anchovy, capture by steel purse seiner and landing whole, fresh' (kilogram, ES, None)>,\n",
       " Exchange: 0.47813383803583204 kilogram day 'market for operation, reefer, freezing' (kilogram day, GLO, None) to 'anchovy, capture by steel purse seiner and landing whole, fresh' (kilogram, ES, None)>,\n",
       " Exchange: 0.01301350223451024 kilogram 'market for purse seiner maintenance, steel' (kilogram, GLO, None) to 'anchovy, capture by steel purse seiner and landing whole, fresh' (kilogram, ES, None)>,\n",
       " Exchange: 0.01301350223451024 kilogram 'market for purse seiner, steel' (kilogram, GLO, None) to 'anchovy, capture by steel purse seiner and landing whole, fresh' (kilogram, ES, None)>,\n",
       " Exchange: -0.006310948398860212 kilogram 'market for waste mineral oil' (kilogram, Europe without Switzerland, None) to 'anchovy, capture by steel purse seiner and landing whole, fresh' (kilogram, ES, None)>,\n",
       " Exchange: 0.0943237168289159 kilogram 'Discarded fish, pelagic, to ocean' (kilogram, None, ('water', 'ocean')) to 'anchovy, capture by steel purse seiner and landing whole, fresh' (kilogram, ES, None)>,\n",
       " Exchange: 1.3262161254194131 kilogram 'Fish, pelagic, in ocean' (kilogram, None, ('natural resource', 'biotic')) to 'anchovy, capture by steel purse seiner and landing whole, fresh' (kilogram, ES, None)>]"
      ]
     },
     "execution_count": 42,
     "metadata": {},
     "output_type": "execute_result"
    }
   ],
   "source": [
    "list(activity.exchanges()) #Tous les échanges"
   ]
  },
  {
   "cell_type": "code",
   "execution_count": 44,
   "id": "bb776d3b",
   "metadata": {},
   "outputs": [
    {
     "data": {
      "text/plain": [
       "[Exchange: -0.002032598343604353 kilogram 'market for antifouling paint emissions' (kilogram, GLO, None) to 'anchovy, capture by steel purse seiner and landing whole, fresh' (kilogram, ES, None)>,\n",
       " Exchange: 17.88461398791684 megajoule 'market for diesel, burned in fishing vessel' (megajoule, GLO, None) to 'anchovy, capture by steel purse seiner and landing whole, fresh' (kilogram, ES, None)>,\n",
       " Exchange: 0.006310948398860212 kilogram 'market for lubricating oil' (kilogram, RER, None) to 'anchovy, capture by steel purse seiner and landing whole, fresh' (kilogram, ES, None)>,\n",
       " Exchange: 0.47813383803583204 kilogram day 'market for operation, reefer, freezing' (kilogram day, GLO, None) to 'anchovy, capture by steel purse seiner and landing whole, fresh' (kilogram, ES, None)>,\n",
       " Exchange: 0.01301350223451024 kilogram 'market for purse seiner maintenance, steel' (kilogram, GLO, None) to 'anchovy, capture by steel purse seiner and landing whole, fresh' (kilogram, ES, None)>,\n",
       " Exchange: 0.01301350223451024 kilogram 'market for purse seiner, steel' (kilogram, GLO, None) to 'anchovy, capture by steel purse seiner and landing whole, fresh' (kilogram, ES, None)>,\n",
       " Exchange: -0.006310948398860212 kilogram 'market for waste mineral oil' (kilogram, Europe without Switzerland, None) to 'anchovy, capture by steel purse seiner and landing whole, fresh' (kilogram, ES, None)>]"
      ]
     },
     "execution_count": 44,
     "metadata": {},
     "output_type": "execute_result"
    }
   ],
   "source": [
    "list(activity.technosphere()) #Flux intermédiaires"
   ]
  },
  {
   "cell_type": "code",
   "execution_count": null,
   "id": "9cb8d811",
   "metadata": {},
   "outputs": [
    {
     "data": {
      "text/plain": [
       "[Exchange: 0.0943237168289159 kilogram 'Discarded fish, pelagic, to ocean' (kilogram, None, ('water', 'ocean')) to 'anchovy, capture by steel purse seiner and landing whole, fresh' (kilogram, ES, None)>,\n",
       " Exchange: 1.3262161254194131 kilogram 'Fish, pelagic, in ocean' (kilogram, None, ('natural resource', 'biotic')) to 'anchovy, capture by steel purse seiner and landing whole, fresh' (kilogram, ES, None)>]"
      ]
     },
     "execution_count": 45,
     "metadata": {},
     "output_type": "execute_result"
    }
   ],
   "source": [
    "list(activity.biosphere()) #Flux élémentaires"
   ]
  },
  {
   "cell_type": "code",
   "execution_count": 48,
   "id": "3f647687",
   "metadata": {},
   "outputs": [
    {
     "data": {
      "text/plain": [
       "[Exchange: 1.0 kilogram 'anchovy, capture by steel purse seiner and landing whole, fresh' (kilogram, ES, None) to 'anchovy, capture by steel purse seiner and landing whole, fresh' (kilogram, ES, None)>]"
      ]
     },
     "execution_count": 48,
     "metadata": {},
     "output_type": "execute_result"
    }
   ],
   "source": [
    "list(activity.production()) #Flux de référence (produit)"
   ]
  },
  {
   "cell_type": "markdown",
   "id": "29562dea",
   "metadata": {},
   "source": [
    "N'oubliez pas la page pense-bête de brightway : https://docs.brightway.dev/en/latest/content/cheatsheet/inventory.html\n",
    "\n",
    "Pour les personnes souhaitant en savoir plus sur la structure en graphe des données dans brightway : https://docs.brightway.dev/en/latest/content/overview/inventory.html "
   ]
  },
  {
   "cell_type": "markdown",
   "id": "8206e1ac",
   "metadata": {},
   "source": [
    "Bien que nous adorions la tapenade, nous allons commencer par modéliser ce que tout élève des Ponts préfère : le BÉTON ARMÉ."
   ]
  },
  {
   "cell_type": "markdown",
   "id": "05b50e3c",
   "metadata": {},
   "source": [
    "## Construction de procédés béton"
   ]
  },
  {
   "cell_type": "markdown",
   "id": "76c098f0",
   "metadata": {},
   "source": [
    "Il en existe dans la base de données :"
   ]
  },
  {
   "cell_type": "code",
   "execution_count": 66,
   "id": "a0a73491",
   "metadata": {},
   "outputs": [],
   "source": [
    "concrete = ..."
   ]
  },
  {
   "cell_type": "markdown",
   "id": "38b2c770",
   "metadata": {},
   "source": [
    "Existe-t-il des procédés modélisant des bétons spécifiquement français ?\n",
    "\n",
    "Nous utilisons une compréhension de liste conditionnelle pour préciser la recherche :"
   ]
  },
  {
   "cell_type": "code",
   "execution_count": 67,
   "id": "c1f85017",
   "metadata": {},
   "outputs": [
    {
     "data": {
      "text/plain": [
       "[]"
      ]
     },
     "execution_count": 67,
     "metadata": {},
     "output_type": "execute_result"
    }
   ],
   "source": [
    "concrete = [a for a in eidb if 'concrete' in a['name'].lower() and a['location'] == 'FR']\n",
    "concrete"
   ]
  },
  {
   "cell_type": "markdown",
   "id": "969a8474",
   "metadata": {},
   "source": [
    "Comme il n'y en a pas, nous allons modéliser deux formulations avec les données dont nous disposons, pour les comparer. On en profite pour prendre en compte des armatures (on étudie du béton armé) et de l'énergie (malaxage du béton)."
   ]
  },
  {
   "cell_type": "markdown",
   "id": "020672a4",
   "metadata": {},
   "source": [
    "Considérons les formulations suivantes pour 1 m3 de béton : \n",
    "\n",
    "- 350kg de ciment Portland (béton A) ou CEM III/B (béton B)\n",
    "- 175kg d'eau\n",
    "- 800kg de sable\n",
    "- 1100kg de gravier\n",
    "\n",
    "Pour le ferraillage, prenons un ratio de 100 kg d'acier par m3 de béton. Avez-vous une remarque ?\n",
    "\n",
    "Pour l'énergie de malaxage, prenons l'hypothèse de 14.4 MJ par m3 de béton."
   ]
  },
  {
   "cell_type": "markdown",
   "id": "765321ec",
   "metadata": {},
   "source": [
    "Les procédés mobilisés sont les suivants :\n",
    "\n",
    "Béton | Flux | Procédé choisi dans ecoinvent | Région | Unité | Qté pour 1m3\n",
    ":---: | :---: | :---: | :---: | :---: | :---:\n",
    "Béton A | ciment Portland | market for cement, Portland | Europe without Switzerland | kg | 350\n",
    "Béton B | CEM III/B | market for cement, CEM III/B | Europe without Switzerland | kg | 350\n",
    "Béton A & B | eau | market for tap water | Europe without Switzerland | kg | 175\n",
    "Béton A & B | sable | market for sand | Rest-of-World (RoW) | kg | 800 \n",
    "Béton A & B | graviers | market for gravel, crushed | Rest-of-World (RoW) | kg | 1100\n",
    "Béton A & B | ferraillage | market for reinforcing steel | Global | kg | 100\n",
    "Béton A & B | énergie | diesel, burned in building machine | Global | MJ | 14.4"
   ]
  },
  {
   "cell_type": "code",
   "execution_count": 75,
   "id": "7213fe82",
   "metadata": {},
   "outputs": [
    {
     "name": "stdout",
     "output_type": "stream",
     "text": [
      "Extracted 1 worksheets in 0.02 seconds\n",
      "Applying strategy: csv_restore_tuples\n",
      "Applying strategy: csv_restore_booleans\n",
      "Applying strategy: csv_numerize\n",
      "Applying strategy: csv_drop_unknown\n",
      "Applying strategy: csv_add_missing_exchanges_section\n",
      "Applying strategy: normalize_units\n",
      "Applying strategy: normalize_biosphere_categories\n",
      "Applying strategy: normalize_biosphere_names\n",
      "Applying strategy: strip_biosphere_exc_locations\n",
      "Applying strategy: set_code_by_activity_hash\n",
      "Applying strategy: link_iterable_by_fields\n",
      "Applying strategy: assign_only_product_as_production\n",
      "Applying strategy: link_technosphere_by_activity_hash\n",
      "Applying strategy: drop_falsey_uncertainty_fields_but_keep_zeros\n",
      "Applying strategy: convert_uncertainty_types_to_integers\n",
      "Applying strategy: convert_activity_parameters_to_list\n",
      "Applied 16 strategies in 0.29 seconds\n",
      "Applying strategy: link_iterable_by_fields\n",
      "Applying strategy: link_iterable_by_fields\n",
      "Graph statistics for `betons_armes` importer:\n",
      "2 graph nodes:\n",
      "\tprocess: 2\n",
      "14 graph edges:\n",
      "\ttechnosphere: 12\n",
      "\tproduction: 2\n",
      "14 edges to the following databases:\n",
      "\tecoinvent-3.11-cutoff: 12\n",
      "\tbetons_armes: 2\n",
      "0 unique unlinked edges (0 total):\n",
      "\n",
      "\n"
     ]
    },
    {
     "name": "stderr",
     "output_type": "stream",
     "text": [
      "100%|██████████| 2/2 [00:00<00:00, 2585.88it/s]"
     ]
    },
    {
     "name": "stdout",
     "output_type": "stream",
     "text": [
      "\u001b[2m15:54:12\u001b[0m [\u001b[32m\u001b[1minfo     \u001b[0m] \u001b[1mVacuuming database            \u001b[0m\n"
     ]
    },
    {
     "name": "stderr",
     "output_type": "stream",
     "text": [
      "\n"
     ]
    },
    {
     "name": "stdout",
     "output_type": "stream",
     "text": [
      "Created database: betons_armes\n"
     ]
    }
   ],
   "source": [
    "if 'betons_armes' in bd.databases : \n",
    "    print('procédés déjà importés !')\n",
    "else : \n",
    "    imp = bi.ExcelImporter(\"/home/thibault.chevilliet@enpc.fr/Documents/Cours ACV notebook/Cours 2025/betons_armes.xlsx\")\n",
    "    imp.apply_strategies() #applique une série de routines sur la base de données, notamment une conversion des variables dans les bons formats\n",
    "    imp.match_database(fields=('name', 'unit', 'location')) #identifie les échanges que les procédés de la base ont avec d'autres procédés de la même base\n",
    "    imp.match_database('ecoinvent-3.11-cutoff', fields=('name', 'unit', 'location')) #identifie les échanges que les procédés de la base ont avec les procédés d'ecoinvent\n",
    "    imp.statistics() #affiche les statistiques des \"match\" réalisés, notamment si certains procédés n'ont pas été trouvés (\"unlinked exchanges\") \n",
    "    imp.write_database() #écrit et sauvegarde la base de données"
   ]
  },
  {
   "cell_type": "code",
   "execution_count": 76,
   "id": "6d0a9402",
   "metadata": {},
   "outputs": [],
   "source": [
    "fgdb = bd.Database('betons_armes') #fgdb pour foreground database"
   ]
  },
  {
   "cell_type": "code",
   "execution_count": 77,
   "id": "4ae63327",
   "metadata": {},
   "outputs": [
    {
     "data": {
      "text/plain": [
       "'Béton A' (cubic meter, FR, ('custom',))"
      ]
     },
     "execution_count": 77,
     "metadata": {},
     "output_type": "execute_result"
    }
   ],
   "source": [
    "beton_A = fgdb.search('Béton A')[0]\n",
    "beton_A"
   ]
  },
  {
   "cell_type": "code",
   "execution_count": 78,
   "id": "d7123fd8",
   "metadata": {},
   "outputs": [
    {
     "data": {
      "text/plain": [
       "[Exchange: 1 cubic meter 'Béton A' (cubic meter, FR, ('custom',)) to 'Béton A' (cubic meter, FR, ('custom',))>,\n",
       " Exchange: 350 kilogram 'market for cement, Portland' (kilogram, Europe without Switzerland, None) to 'Béton A' (cubic meter, FR, ('custom',))>,\n",
       " Exchange: 175 kilogram 'market for tap water' (kilogram, Europe without Switzerland, None) to 'Béton A' (cubic meter, FR, ('custom',))>,\n",
       " Exchange: 800 kilogram 'market for sand' (kilogram, RoW, None) to 'Béton A' (cubic meter, FR, ('custom',))>,\n",
       " Exchange: 1100 kilogram 'market for gravel, crushed' (kilogram, RoW, None) to 'Béton A' (cubic meter, FR, ('custom',))>,\n",
       " Exchange: 100 kilogram 'market for reinforcing steel' (kilogram, GLO, None) to 'Béton A' (cubic meter, FR, ('custom',))>,\n",
       " Exchange: 14.4 megajoule 'diesel, burned in building machine' (megajoule, GLO, None) to 'Béton A' (cubic meter, FR, ('custom',))>]"
      ]
     },
     "execution_count": 78,
     "metadata": {},
     "output_type": "execute_result"
    }
   ],
   "source": [
    "list(beton_A.edges())"
   ]
  },
  {
   "cell_type": "markdown",
   "id": "f3580882",
   "metadata": {},
   "source": [
    "## Calcul des impacts environnementaux"
   ]
  },
  {
   "cell_type": "markdown",
   "id": "dde119b6",
   "metadata": {},
   "source": [
    "Pour calculer des impacts environnementaux, il faut savoir quoi calculer, c'est-à-dire choisir une méthode d'impact. \n",
    "\n",
    "Remarque sur le mot méthode :\n",
    "- Traditionnellement, une méthode d'impact désigne un ensemble de catégories d'impacts, chaque catégorie contenant des indicateurs environnementaux et les facteurs de caractérisation permettant de calculer ces derniers à partir des flux élémentaires (en réalité, pour chaque indicateur, à partir d'un sous-ensemble de la biosphère).\n",
    "- dans brightway, une \"method\" désigne en fait un indicateur spécifique (calculé selon une certaine méthode d'impact), ce qui peut prêter à confusion.\n",
    "\n",
    "\n",
    "Pour ce TD, nous choisissons la méthode d'impacts Impact World + (site : https://www.impactworldplus.org/ ; article : https://link.springer.com/article/10.1007/s11367-019-01583-0).\n"
   ]
  },
  {
   "cell_type": "code",
   "execution_count": null,
   "id": "f2096c37",
   "metadata": {},
   "outputs": [],
   "source": [
    "meth = [m for m in bd.methods if 'Impact World' in str(m)]\n",
    "meth"
   ]
  },
  {
   "cell_type": "code",
   "execution_count": 79,
   "id": "96529f07",
   "metadata": {},
   "outputs": [
    {
     "data": {
      "text/plain": [
       "('ecoinvent-3.11',\n",
       " 'CML v4.8 2016 no LT',\n",
       " 'ecotoxicity: freshwater no LT',\n",
       " 'freshwater aquatic ecotoxicity (FAETP inf) no LT')"
      ]
     },
     "execution_count": 79,
     "metadata": {},
     "output_type": "execute_result"
    }
   ],
   "source": [
    "met = [m for m in bd.methods if 'water' in str(m)][0]\n",
    "met"
   ]
  },
  {
   "cell_type": "code",
   "execution_count": null,
   "id": "5c5dface",
   "metadata": {},
   "outputs": [
    {
     "name": "stdout",
     "output_type": "stream",
     "text": [
      "Calculating supply chain score...\n",
      "Sankey diagram generated.\n"
     ]
    },
    {
     "data": {
      "text/plain": [
       "('/home/thibault.chevilliet@enpc.fr/Documents/Cours ACV notebook/Cours 2025/anchovy capture by steel purse seiner and landing whole fresh kilogram ES ecoinvent311CML v48 2016 no LTecotoxicity freshwater no LTfreshwater aquatic ecotoxicity FAETP inf no LT sankey.html',\n",
       "                                                source  \\\n",
       " 0   anchovy, capture by steel purse seiner and lan...   \n",
       " 1                             activities below cutoff   \n",
       " 2       m. for diesel, burned in fishing vessel (GLO)   \n",
       " 3                        m. for lubricating oil (RER)   \n",
       " 4        m. for purse seiner maintenance, steel (GLO)   \n",
       " ..                                                ...   \n",
       " 62                m. for waste plastic, mixture (RoW)   \n",
       " 63                    m. for waste polyethylene (RoW)   \n",
       " 80                                          emissions   \n",
       " 64                            activities below cutoff   \n",
       " 81                                          emissions   \n",
       " \n",
       "                                                target        weight  \\\n",
       " 0   anchovy, capture by steel purse seiner and lan...  1.423952e-02   \n",
       " 1   anchovy, capture by steel purse seiner and lan...  7.766535e-05   \n",
       " 2   anchovy, capture by steel purse seiner and lan...  8.626885e-03   \n",
       " 3   anchovy, capture by steel purse seiner and lan...  1.517066e-04   \n",
       " 4   anchovy, capture by steel purse seiner and lan...  3.586504e-03   \n",
       " ..                                                ...           ...   \n",
       " 62        treatment of used purse seiner, steel (RoW)  1.509001e-04   \n",
       " 63        treatment of used purse seiner, steel (RoW)  2.887092e-04   \n",
       " 80  treatment of waste plastic, mixture, open burn...  1.216467e-03   \n",
       " 64  treatment of waste plastic, mixture, unsanitar...  7.879635e-09   \n",
       " 81  treatment of waste plastic, mixture, unsanitar...  2.096811e-04   \n",
       " \n",
       "              unit  \n",
       " 0   kg 1,4-DCB-Eq  \n",
       " 1   kg 1,4-DCB-Eq  \n",
       " 2   kg 1,4-DCB-Eq  \n",
       " 3   kg 1,4-DCB-Eq  \n",
       " 4   kg 1,4-DCB-Eq  \n",
       " ..            ...  \n",
       " 62  kg 1,4-DCB-Eq  \n",
       " 63  kg 1,4-DCB-Eq  \n",
       " 80  kg 1,4-DCB-Eq  \n",
       " 64  kg 1,4-DCB-Eq  \n",
       " 81  kg 1,4-DCB-Eq  \n",
       " \n",
       " [85 rows x 4 columns])"
      ]
     },
     "execution_count": 57,
     "metadata": {},
     "output_type": "execute_result"
    },
    {
     "name": "stderr",
     "output_type": "stream",
     "text": [
      "/snap/core20/current/lib/x86_64-linux-gnu/libstdc++.so.6: version `GLIBCXX_3.4.29' not found (required by /lib/x86_64-linux-gnu/libproxy.so.1)\n",
      "Failed to load module: /home/thibault.chevilliet@enpc.fr/snap/codium/common/.cache/gio-modules/libgiolibproxy.so\n",
      "Gtk-Message: 14:42:45.356: Not loading module \"atk-bridge\": The functionality is provided by GTK natively. Please try to not load it.\n",
      "Gtk-Message: 14:42:45.477: Failed to load module \"canberra-gtk-module\"\n",
      "Gtk-Message: 14:42:45.480: Failed to load module \"canberra-gtk-module\"\n"
     ]
    }
   ],
   "source": [
    "from polyviz import sankey\n",
    "\n",
    "sankey(activity,met,level = 5)"
   ]
  },
  {
   "cell_type": "code",
   "execution_count": null,
   "id": "1d08bede",
   "metadata": {},
   "outputs": [],
   "source": []
  }
 ],
 "metadata": {
  "kernelspec": {
   "display_name": "bw25_3",
   "language": "python",
   "name": "python3"
  },
  "language_info": {
   "codemirror_mode": {
    "name": "ipython",
    "version": 3
   },
   "file_extension": ".py",
   "mimetype": "text/x-python",
   "name": "python",
   "nbconvert_exporter": "python",
   "pygments_lexer": "ipython3",
   "version": "3.12.8"
  }
 },
 "nbformat": 4,
 "nbformat_minor": 5
}
