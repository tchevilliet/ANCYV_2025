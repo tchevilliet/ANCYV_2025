{
 "cells": [
  {
   "cell_type": "markdown",
   "id": "87aed915-5ce5-43d3-b837-11c39f769d78",
   "metadata": {},
   "source": [
    "# Bases de données et création de procédés"
   ]
  },
  {
   "cell_type": "markdown",
   "id": "39a812df-5fb4-4fd6-81f2-84523f38789d",
   "metadata": {},
   "source": [
    "Nous avons vu qu'une ACV consistait en deux grandes étapes : \n",
    "1. celle d'inventaire ;\n",
    "2. puis celle de caractérisation d'inventaire.\n",
    "\n",
    "En pratique, on s'appuie sur des bases de données (BDD) qui décrivent :\n",
    "- la technosphère (ensemble des procédés et des flux qui les relient, dits flux intermédiaires) ; \n",
    "- la biosphère (ensemble des matières et substances potentiellement extraites ou émises par les procédés, dits flux élémentaires) ;\n",
    "- les méthodes d'impacts (définition des catégories d'impact, des indicateurs, des facteurs de caractérisation associés, et accessoirement des facteurs d'agrégation et/ou de normalisation)\n",
    "\n",
    "![schéma inventaire-impacts](Images/Hypotheses_ACV_3.png)\n",
    "\n",
    "Commençons par les procédés. Nous utilisons couramment pour modéliser ces derniers la base de données ecoinvent qui est générique - elle recouvre plusieurs secteurs d'activités (Industrie, Énergie, Matériaux, Transports...).\n",
    "\n",
    "Vous pouvez explorer cette BDD en ligne à ce lien : [https://ecoquery.ecoinvent.org/3.11/cutoff](https://ecoquery.ecoinvent.org/3.11/cutoff). (version, allocation, exemple de procédé)\n",
    "\n",
    "Pour réaliser des ACV à partir de ces BDD, plusieurs logiciels sont disponibles (des libres tels OpenLCA et brightway ; des payants tels SimaPro, OneClick LCA ou Holis). Nous utilisons la librairie python brightway 2.5 dans ce qui suit car elle est open-source, permet de profiter de l'écosystème python, s'appuie explicitement sur le formalisme mathématique vu précédemment et évite l'effet \"boîte noire\"."
   ]
  },
  {
   "cell_type": "markdown",
   "id": "c21f1cd0-5ccb-4a02-97e5-3d298237aa40",
   "metadata": {},
   "source": [
    "**Documentation de brightway2.5**\n",
    "\n",
    "Voir :\n",
    "\n",
    "- documentation générale : https://docs.brightway.dev/en/latest/content/overview/index.html\n",
    "- pense-bête : https://docs.brightway.dev/en/latest/content/cheatsheet/index.html"
   ]
  },
  {
   "cell_type": "markdown",
   "id": "f7c049a7-0660-467f-97c2-e4dd56c54019",
   "metadata": {},
   "source": [
    "## Import des librairies et mise en place du projet"
   ]
  },
  {
   "cell_type": "code",
   "execution_count": 1,
   "id": "6cd59299-1309-402c-82c8-38697f1b598c",
   "metadata": {},
   "outputs": [],
   "source": [
    "import bw2io as bi # ensemble des fonctions et classes pour importer et exporter (input/output)\n",
    "import bw2data as bd # ... pour gérer les données du projet\n",
    "import bw2calc as bc # ... pour faire des opérations\n",
    "import bw2analyzer as ba # ... pour interpréter les résultats\n",
    "\n",
    "import pandas as pd # pour utiliser un format de table pratique\n",
    "import seaborn as sns # pour tracer des graphes à partir de ces tables\n",
    "import matplotlib.pyplot as plt"
   ]
  },
  {
   "cell_type": "code",
   "execution_count": 2,
   "id": "2df60d68-bfc3-4308-8ae5-dba66a9b7e29",
   "metadata": {},
   "outputs": [],
   "source": [
    "bd.projects.set_current(\"project_ecoinvent_311\") # On se met dans un projet (ie un dossier) qui contient déjà ecoinvent 3.11 cut-off"
   ]
  },
  {
   "cell_type": "code",
   "execution_count": 3,
   "id": "cc98eca4",
   "metadata": {},
   "outputs": [
    {
     "data": {
      "text/plain": [
       "Databases dictionary with 3 object(s):\n",
       "\tbetons_armes\n",
       "\tecoinvent-3.11-biosphere\n",
       "\tecoinvent-3.11-cutoff"
      ]
     },
     "execution_count": 3,
     "metadata": {},
     "output_type": "execute_result"
    }
   ],
   "source": [
    "bd.databases # On peut vérifier les BDD disponibles dans ce projet"
   ]
  },
  {
   "cell_type": "markdown",
   "id": "c0f0ab1b-f4b9-4291-bb75-248920a07c85",
   "metadata": {},
   "source": [
    "## Exploration d'ecoinvent"
   ]
  },
  {
   "cell_type": "markdown",
   "id": "a0b92161",
   "metadata": {},
   "source": [
    "On peut commencer par se poser les questions suivantes."
   ]
  },
  {
   "cell_type": "markdown",
   "id": "7db72a7b",
   "metadata": {},
   "source": [
    "1. Combien y a-t-il d'éléments dans cette biosphère ?"
   ]
  },
  {
   "cell_type": "code",
   "execution_count": 4,
   "id": "f281e4fe",
   "metadata": {},
   "outputs": [
    {
     "data": {
      "text/plain": [
       "9795"
      ]
     },
     "execution_count": 4,
     "metadata": {},
     "output_type": "execute_result"
    }
   ],
   "source": [
    "biodb = bd.Database('ecoinvent-3.11-biosphere')\n",
    "len(biodb)"
   ]
  },
  {
   "cell_type": "code",
   "execution_count": 5,
   "id": "1c9cb4ac",
   "metadata": {},
   "outputs": [
    {
     "data": {
      "text/plain": [
       "'Cis-chlordane' (kilogram, None, ('soil', 'agricultural'))"
      ]
     },
     "execution_count": 5,
     "metadata": {},
     "output_type": "execute_result"
    }
   ],
   "source": [
    "element = biodb.random() #On met dans une variable un élément de la biosphère choisi aléatoirement \n",
    "element"
   ]
  },
  {
   "cell_type": "code",
   "execution_count": 6,
   "id": "2641d83f",
   "metadata": {},
   "outputs": [
    {
     "data": {
      "text/plain": [
       "{'categories': ('soil', 'agricultural'),\n",
       " 'code': '23ebfa8f-2e59-5fcd-9402-09788d39ec06',\n",
       " 'CAS number': '005103-71-9',\n",
       " 'synonyms': [],\n",
       " 'name': 'Cis-chlordane',\n",
       " 'database': 'ecoinvent-3.11-biosphere',\n",
       " 'unit': 'kilogram',\n",
       " 'type': 'emission',\n",
       " 'id': 227399214415536498}"
      ]
     },
     "execution_count": 6,
     "metadata": {},
     "output_type": "execute_result"
    }
   ],
   "source": [
    "element.as_dict() # brightway permet de regarder sous forme de dictionnaire python toutes les métadonnées de l'élément"
   ]
  },
  {
   "cell_type": "markdown",
   "id": "5983332d",
   "metadata": {},
   "source": [
    "#### Exercice"
   ]
  },
  {
   "cell_type": "markdown",
   "id": "9be1f39e",
   "metadata": {
    "jp-MarkdownHeadingCollapsed": true
   },
   "source": [
    "2. Combien y a-t-il de procédés dans cette technosphère ?"
   ]
  },
  {
   "cell_type": "markdown",
   "id": "919c6406",
   "metadata": {},
   "source": [
    "Pour créer une cellule de code vous pouvez cliquer sur le symbole \"+\" en haut du notebook, ou bien cliquer dans la marge du document et appuyer sur la touche \"b\" (pour \"below\") ou \"a\" (pour \"above\")"
   ]
  },
  {
   "cell_type": "markdown",
   "id": "57c5e871-75cb-4f14-ad40-46e20283d691",
   "metadata": {},
   "source": [
    "##### Correction"
   ]
  },
  {
   "cell_type": "code",
   "execution_count": 7,
   "id": "4c9dde5d",
   "metadata": {},
   "outputs": [
    {
     "data": {
      "text/plain": [
       "25412"
      ]
     },
     "execution_count": 7,
     "metadata": {},
     "output_type": "execute_result"
    }
   ],
   "source": [
    "eidb = bd.Database('ecoinvent-3.11-cutoff') #On sélectionne la technosphere que l'on stocke dans une variable\n",
    "len(eidb) #La longueur de celle-ci correspond au nombre de procédés différents disponibles"
   ]
  },
  {
   "cell_type": "markdown",
   "id": "211053ea",
   "metadata": {},
   "source": [
    "#### Suite du TD"
   ]
  },
  {
   "cell_type": "code",
   "execution_count": 15,
   "id": "4053353c",
   "metadata": {},
   "outputs": [
    {
     "data": {
      "text/plain": [
       "'heat and power co-generation, natural gas, 160kW electrical, lambda=1' (megajoule, Europe without Switzerland, None)"
      ]
     },
     "execution_count": 15,
     "metadata": {},
     "output_type": "execute_result"
    }
   ],
   "source": [
    "activity = eidb.random()\n",
    "activity"
   ]
  },
  {
   "cell_type": "code",
   "execution_count": 16,
   "id": "cb939090",
   "metadata": {},
   "outputs": [
    {
     "data": {
      "text/plain": [
       "{'comment': \"This dataset is a copy of the Swiss dataset. \\nThe multioutput-process 'natural gas, burned in cogen 160kWe lambda=1, allocation exergy' delivers the coproducts 'heat, at cogen 160kWe lambda=1, allocation exergy' and 'electricity, at cogen 160kWe lambda=1, allocation exergy'. The exergy allocation is the allocation scheme suggested to be used within ecoinvent (e.g. in electricity mixes).\\n[This dataset was already contained in the ecoinvent database version 2. It was not individually updated during the transfer to ecoinvent version 3. Life Cycle Impact Assessment results may still have changed, as they are affected by changes in the supply chain, i.e. in other datasets. This dataset was generated following the ecoinvent quality guidelines for version 2. It may have been subject to central changes described in the ecoinvent version 3 change report (http://www.ecoinvent.org/database/ecoinvent-version-3/reports-of-changes/), and the results of the central updates were reviewed extensively. The changes added e.g. consistent water flows and other information throughout the database. The documentation of this dataset can be found in the ecoinvent reports of version 2, which are still available via the ecoinvent website. The change report linked above covers all central changes that were made during the conversion process.]\\nIncluded activities end:  The module includes fuel input, infrastructure, emissions to air, and substances needed for operation.\\nGeography:  Could be used for central European conditions.\\nTechnology:  Average technology available on market.\",\n",
       " 'classifications': [('EcoSpold01Categories', 'natural gas/cogeneration'),\n",
       "  ('ISIC rev.4 ecoinvent', '3530:Steam and air conditioning supply'),\n",
       "  ('CPC', '17300: Steam and hot water')],\n",
       " 'activity type': 'ordinary transforming activity',\n",
       " 'activity': '7d2d24e2-0408-599f-b1eb-321a212546e6',\n",
       " 'database': 'ecoinvent-3.11-cutoff',\n",
       " 'filename': '7d2d24e2-0408-599f-b1eb-321a212546e6_b3c58f5d-5815-487c-8b9c-4366e00d22dc.spold',\n",
       " 'location': 'Europe without Switzerland',\n",
       " 'name': 'heat and power co-generation, natural gas, 160kW electrical, lambda=1',\n",
       " 'synonyms': [],\n",
       " 'parameters': [{'description': 'scaling factor',\n",
       "   'id': '291598b5-efd9-424c-b185-42fa2b1aa8b9',\n",
       "   'unit': 'dimensionless',\n",
       "   'amount': 1.81818181818182,\n",
       "   'uncertainty type': 0,\n",
       "   'loc': 1.81818181818182,\n",
       "   'name': 'scaling_factor'}],\n",
       " 'authors': {'data entry': {'name': '[System]',\n",
       "   'email': 'support@ecoinvent.org'},\n",
       "  'data generator': {'name': '[System]', 'email': 'support@ecoinvent.org'}},\n",
       " 'type': 'processwithreferenceproduct',\n",
       " 'product_information': 'This product represents heat measured in MJ. The heat is produced through the burning of natural gas in heat and power co-generation units and several types of boilers. The dataset is targeted for central or small-scale heating.',\n",
       " 'reference product': 'heat, central or small-scale, natural gas',\n",
       " 'flow': 'b3c58f5d-5815-487c-8b9c-4366e00d22dc',\n",
       " 'unit': 'megajoule',\n",
       " 'production amount': 1.0,\n",
       " 'code': '00ea06baa27141a1e8e178ca01dcc629',\n",
       " 'id': 227399466707116039}"
      ]
     },
     "execution_count": 16,
     "metadata": {},
     "output_type": "execute_result"
    }
   ],
   "source": [
    "activity.as_dict()"
   ]
  },
  {
   "cell_type": "markdown",
   "id": "22454781",
   "metadata": {},
   "source": [
    "3. Comment un procédé est-il relié aux autres ?"
   ]
  },
  {
   "cell_type": "code",
   "execution_count": 17,
   "id": "2bd7e76a",
   "metadata": {},
   "outputs": [
    {
     "data": {
      "text/plain": [
       "['landed anchovy by-catch, fresh to generic market for marine fish' (kilogram, GLO, None),\n",
       " 'market for landed anchovy, fresh' (kilogram, PE, None),\n",
       " 'landed anchovy to generic market for marine fish' (kilogram, GLO, None),\n",
       " 'market for landed anchovy, fresh' (kilogram, RoW, None),\n",
       " 'anchovy, capture by steel purse seiner and landing whole, fresh' (kilogram, ES, None),\n",
       " 'anchovy, capture by steel purse seiner and landing whole, fresh' (kilogram, ES, None),\n",
       " 'anchovy, capture by steel purse seiner and landing whole, fresh' (kilogram, RoW, None),\n",
       " 'anchovy, capture by steel purse seiner and landing whole, fresh' (kilogram, RoW, None),\n",
       " 'market for landed anchovy by-catch, fresh' (kilogram, GLO, None),\n",
       " 'market for fish oil, from anchovy' (kilogram, GLO, None),\n",
       " 'anchovy, capture by steel purse seiner and landing whole, fresh' (kilogram, PE, None),\n",
       " 'anchovy, capture by wooden purse seiner and landing whole, fresh' (kilogram, PE, None),\n",
       " 'fishmeal and fish oil production, 63-65% protein, from fresh anchovy' (kilogram, RoW, None),\n",
       " 'fishmeal and fish oil production, 63-65% protein, from fresh anchovy' (kilogram, PE, None),\n",
       " 'fishmeal and fish oil production, 63-65% protein, from fresh anchovy and fish residues' (kilogram, RoW, None),\n",
       " 'fishmeal and fish oil production, 63-65% protein, from fresh anchovy and fish residues' (kilogram, PE, None),\n",
       " 'fishmeal and fish oil production, 63-65% protein, from fresh anchovy' (kilogram, PE, None),\n",
       " 'fishmeal and fish oil production, 63-65% protein, from fresh anchovy' (kilogram, RoW, None),\n",
       " 'fishmeal and fish oil production, 63-65% protein, from fresh anchovy and fish residues' (kilogram, PE, None),\n",
       " 'fishmeal and fish oil production, 63-65% protein, from fresh anchovy and fish residues' (kilogram, RoW, None),\n",
       " 'fishmeal and fish oil production, 65-67% protein' (kilogram, RoW, None),\n",
       " 'fishmeal and fish oil production, 65-67% protein' (kilogram, PE, None),\n",
       " 'fishmeal and fish oil production, 63-65% protein, from fish residues' (kilogram, PE, None),\n",
       " 'fishmeal and fish oil production, 63-65% protein, from fish residues' (kilogram, RoW, None),\n",
       " 'fishmeal and fish oil production, 65-67% protein' (kilogram, PE, None)]"
      ]
     },
     "execution_count": 17,
     "metadata": {},
     "output_type": "execute_result"
    }
   ],
   "source": [
    "activity = eidb.search('anchovy') #On utilise une fonction de recherche par mot-clé, ici \"anchovy\"\n",
    "activity # brightway retourne une liste de procédés"
   ]
  },
  {
   "cell_type": "code",
   "execution_count": 18,
   "id": "f6ad5ec4",
   "metadata": {},
   "outputs": [
    {
     "data": {
      "text/plain": [
       "'anchovy, capture by steel purse seiner and landing whole, fresh' (kilogram, RoW, None)"
      ]
     },
     "execution_count": 18,
     "metadata": {},
     "output_type": "execute_result"
    }
   ],
   "source": [
    "activity = eidb.search('anchovy, capture by steel purse seiner')[0] #On choisit le premier élément de la liste, en précisant le mot-clé\n",
    "activity #Ici, activity sera bien un procédé, non une liste de procédés"
   ]
  },
  {
   "cell_type": "markdown",
   "id": "edba0a0d",
   "metadata": {},
   "source": [
    "On regarde maintenant quels sont ses échanges avec la technosphère et la biosphère."
   ]
  },
  {
   "cell_type": "code",
   "execution_count": 19,
   "id": "e465aa77",
   "metadata": {},
   "outputs": [
    {
     "data": {
      "text/plain": [
       "[Exchange: 1.0 kilogram 'anchovy, capture by steel purse seiner and landing whole, fresh' (kilogram, RoW, None) to 'anchovy, capture by steel purse seiner and landing whole, fresh' (kilogram, RoW, None)>,\n",
       " Exchange: -1.3101560143358125e-05 kilogram 'market for antifouling paint emissions' (kilogram, GLO, None) to 'anchovy, capture by steel purse seiner and landing whole, fresh' (kilogram, RoW, None)>,\n",
       " Exchange: 0.7306831709485833 megajoule 'market for diesel, burned in fishing vessel' (megajoule, GLO, None) to 'anchovy, capture by steel purse seiner and landing whole, fresh' (kilogram, RoW, None)>,\n",
       " Exchange: 8.404560122126746e-05 kilogram 'market for lubricating oil' (kilogram, RoW, None) to 'anchovy, capture by steel purse seiner and landing whole, fresh' (kilogram, RoW, None)>,\n",
       " Exchange: 0.0006430474052715742 kilogram day 'market for operation, reefer, freezing' (kilogram day, GLO, None) to 'anchovy, capture by steel purse seiner and landing whole, fresh' (kilogram, RoW, None)>,\n",
       " Exchange: 0.0019373481911760598 kilogram 'market for purse seiner maintenance, steel' (kilogram, GLO, None) to 'anchovy, capture by steel purse seiner and landing whole, fresh' (kilogram, RoW, None)>,\n",
       " Exchange: 0.0019373481911760598 kilogram 'market for purse seiner, steel' (kilogram, GLO, None) to 'anchovy, capture by steel purse seiner and landing whole, fresh' (kilogram, RoW, None)>,\n",
       " Exchange: -8.295974074037254e-05 kilogram 'market for waste mineral oil' (kilogram, RoW, None) to 'anchovy, capture by steel purse seiner and landing whole, fresh' (kilogram, RoW, None)>,\n",
       " Exchange: -1.0858604808949283e-06 kilogram 'market for waste mineral oil' (kilogram, CH, None) to 'anchovy, capture by steel purse seiner and landing whole, fresh' (kilogram, RoW, None)>,\n",
       " Exchange: 0.03917093148081088 kilogram 'Discarded fish, pelagic, to ocean' (kilogram, None, ('water', 'ocean')) to 'anchovy, capture by steel purse seiner and landing whole, fresh' (kilogram, RoW, None)>,\n",
       " Exchange: 1.039887400598601 kilogram 'Fish, pelagic, in ocean' (kilogram, None, ('natural resource', 'biotic')) to 'anchovy, capture by steel purse seiner and landing whole, fresh' (kilogram, RoW, None)>]"
      ]
     },
     "execution_count": 19,
     "metadata": {},
     "output_type": "execute_result"
    }
   ],
   "source": [
    "list(activity.exchanges()) #Tous les échanges"
   ]
  },
  {
   "cell_type": "code",
   "execution_count": 20,
   "id": "bb776d3b",
   "metadata": {},
   "outputs": [
    {
     "data": {
      "text/plain": [
       "[Exchange: -1.3101560143358125e-05 kilogram 'market for antifouling paint emissions' (kilogram, GLO, None) to 'anchovy, capture by steel purse seiner and landing whole, fresh' (kilogram, RoW, None)>,\n",
       " Exchange: 0.7306831709485833 megajoule 'market for diesel, burned in fishing vessel' (megajoule, GLO, None) to 'anchovy, capture by steel purse seiner and landing whole, fresh' (kilogram, RoW, None)>,\n",
       " Exchange: 8.404560122126746e-05 kilogram 'market for lubricating oil' (kilogram, RoW, None) to 'anchovy, capture by steel purse seiner and landing whole, fresh' (kilogram, RoW, None)>,\n",
       " Exchange: 0.0006430474052715742 kilogram day 'market for operation, reefer, freezing' (kilogram day, GLO, None) to 'anchovy, capture by steel purse seiner and landing whole, fresh' (kilogram, RoW, None)>,\n",
       " Exchange: 0.0019373481911760598 kilogram 'market for purse seiner maintenance, steel' (kilogram, GLO, None) to 'anchovy, capture by steel purse seiner and landing whole, fresh' (kilogram, RoW, None)>,\n",
       " Exchange: 0.0019373481911760598 kilogram 'market for purse seiner, steel' (kilogram, GLO, None) to 'anchovy, capture by steel purse seiner and landing whole, fresh' (kilogram, RoW, None)>,\n",
       " Exchange: -8.295974074037254e-05 kilogram 'market for waste mineral oil' (kilogram, RoW, None) to 'anchovy, capture by steel purse seiner and landing whole, fresh' (kilogram, RoW, None)>,\n",
       " Exchange: -1.0858604808949283e-06 kilogram 'market for waste mineral oil' (kilogram, CH, None) to 'anchovy, capture by steel purse seiner and landing whole, fresh' (kilogram, RoW, None)>]"
      ]
     },
     "execution_count": 20,
     "metadata": {},
     "output_type": "execute_result"
    }
   ],
   "source": [
    "list(activity.technosphere()) #Flux intermédiaires"
   ]
  },
  {
   "cell_type": "code",
   "execution_count": 21,
   "id": "9cb8d811",
   "metadata": {},
   "outputs": [
    {
     "data": {
      "text/plain": [
       "[Exchange: 0.03917093148081088 kilogram 'Discarded fish, pelagic, to ocean' (kilogram, None, ('water', 'ocean')) to 'anchovy, capture by steel purse seiner and landing whole, fresh' (kilogram, RoW, None)>,\n",
       " Exchange: 1.039887400598601 kilogram 'Fish, pelagic, in ocean' (kilogram, None, ('natural resource', 'biotic')) to 'anchovy, capture by steel purse seiner and landing whole, fresh' (kilogram, RoW, None)>]"
      ]
     },
     "execution_count": 21,
     "metadata": {},
     "output_type": "execute_result"
    }
   ],
   "source": [
    "list(activity.biosphere()) #Flux élémentaires"
   ]
  },
  {
   "cell_type": "code",
   "execution_count": 22,
   "id": "3f647687",
   "metadata": {},
   "outputs": [
    {
     "data": {
      "text/plain": [
       "[Exchange: 1.0 kilogram 'anchovy, capture by steel purse seiner and landing whole, fresh' (kilogram, RoW, None) to 'anchovy, capture by steel purse seiner and landing whole, fresh' (kilogram, RoW, None)>]"
      ]
     },
     "execution_count": 22,
     "metadata": {},
     "output_type": "execute_result"
    }
   ],
   "source": [
    "list(activity.production()) #Flux de référence (produit)"
   ]
  },
  {
   "cell_type": "markdown",
   "id": "29562dea",
   "metadata": {},
   "source": [
    "N'oubliez pas la page pense-bête de brightway : https://docs.brightway.dev/en/latest/content/cheatsheet/inventory.html\n",
    "\n",
    "Pour les personnes souhaitant en savoir plus sur la structure en graphe des données dans brightway : https://docs.brightway.dev/en/latest/content/overview/inventory.html "
   ]
  },
  {
   "cell_type": "markdown",
   "id": "8206e1ac",
   "metadata": {},
   "source": [
    "Bien que nous adorions la tapenade, nous allons commencer par modéliser ce que tout élève des Ponts préfère : le BÉTON ARMÉ."
   ]
  },
  {
   "cell_type": "markdown",
   "id": "05b50e3c",
   "metadata": {},
   "source": [
    "## Construction de procédés béton"
   ]
  },
  {
   "cell_type": "markdown",
   "id": "76c098f0",
   "metadata": {},
   "source": [
    "Il en existe dans la base de données :"
   ]
  },
  {
   "cell_type": "code",
   "execution_count": 23,
   "id": "a0a73491",
   "metadata": {},
   "outputs": [
    {
     "data": {
      "text/plain": [
       "['concrete, all types to generic market for concrete, normal strength' (cubic meter, BR, None),\n",
       " 'concrete, all types to generic market for concrete, medium strength' (cubic meter, CO, None),\n",
       " 'concrete, all types to generic market for concrete, normal strength' (cubic meter, IN, None),\n",
       " 'concrete, all types to generic market for concrete, normal strength' (cubic meter, AT, None),\n",
       " 'concrete, all types to generic market for concrete, normal strength' (cubic meter, ZA, None),\n",
       " 'concrete, all types to generic market for concrete, medium strength' (cubic meter, RNA, None),\n",
       " 'concrete, all types to generic market for concrete, medium strength' (cubic meter, ZA, None),\n",
       " 'concrete, all types to generic market for concrete, medium strength' (cubic meter, BR, None),\n",
       " 'concrete, all types to generic market for concrete, normal strength' (cubic meter, RNA, None),\n",
       " 'concrete, all types to generic market for concrete, normal strength' (cubic meter, CO, None),\n",
       " 'concrete, all types to generic market for concrete, medium strength' (cubic meter, PE, None),\n",
       " 'concrete, all types to generic market for concrete, normal strength' (cubic meter, PE, None),\n",
       " 'concrete, all types to generic market for concrete, medium strength' (cubic meter, RoW, None),\n",
       " 'concrete, all types to generic market for concrete, normal strength' (cubic meter, RoW, None),\n",
       " 'concrete, all types to generic market for concrete, normal strength' (cubic meter, CH, None),\n",
       " 'market for concrete, 40MPa' (cubic meter, CO, None),\n",
       " 'market for concrete, 40MPa' (cubic meter, PE, None),\n",
       " 'market for fibre-reinforced concrete, steel' (cubic meter, BR, None),\n",
       " 'concrete production, 45MPa, for building construction, with cement, CEM II/B' (cubic meter, GLO, None),\n",
       " 'concrete production, 35MPa, for building construction, with cement, CEM II/A' (cubic meter, GLO, None),\n",
       " 'concrete production, 30MPa, for building construction, with cement, CEM III/A' (cubic meter, GLO, None),\n",
       " 'concrete production, 35MPa, for building construction, with cement, CEM III/A' (cubic meter, GLO, None),\n",
       " 'concrete production, 25MPa, for building construction, with cement, CEM III/A' (cubic meter, GLO, None),\n",
       " 'concrete production, 40MPa, for building construction, with cement, CEM II/A' (cubic meter, GLO, None),\n",
       " 'concrete production, 40MPa, for building construction, with cement, CEM III/A' (cubic meter, GLO, None)]"
      ]
     },
     "execution_count": 23,
     "metadata": {},
     "output_type": "execute_result"
    }
   ],
   "source": [
    "concrete = eidb.search('concrete')\n",
    "concrete"
   ]
  },
  {
   "cell_type": "markdown",
   "id": "38b2c770",
   "metadata": {},
   "source": [
    "Existe-t-il des procédés modélisant des bétons spécifiquement français ?\n",
    "\n",
    "Nous utilisons une compréhension de liste conditionnelle pour préciser la recherche :"
   ]
  },
  {
   "cell_type": "code",
   "execution_count": 24,
   "id": "c1f85017",
   "metadata": {},
   "outputs": [
    {
     "data": {
      "text/plain": [
       "[]"
      ]
     },
     "execution_count": 24,
     "metadata": {},
     "output_type": "execute_result"
    }
   ],
   "source": [
    "concrete = [a for a in eidb if 'concrete' in a['name'].lower() and a['location'] == 'FR'] # lower met la chaine de caractères en minuscules, ce qui évite la sensibilité à la casse.\n",
    "concrete"
   ]
  },
  {
   "cell_type": "markdown",
   "id": "969a8474",
   "metadata": {},
   "source": [
    "Comme il n'y en a pas, nous allons modéliser deux formulations avec les données dont nous disposons, pour les comparer. On en profite pour prendre en compte des armatures (on étudie du béton armé) et de l'énergie (malaxage du béton)."
   ]
  },
  {
   "cell_type": "markdown",
   "id": "020672a4",
   "metadata": {},
   "source": [
    "Considérons les formulations suivantes pour 1 m3 de béton : \n",
    "\n",
    "- 350kg de ciment Portland (béton A) ou CEM III/B (béton B)\n",
    "- 175kg d'eau\n",
    "- 800kg de sable\n",
    "- 1100kg de gravier\n",
    "\n",
    "Pour le ferraillage, prenons un ratio de 100 kg d'acier par m3 de béton. Avez-vous une remarque ?\n",
    "\n",
    "Pour l'énergie de malaxage, prenons l'hypothèse de 14.4 MJ par m3 de béton."
   ]
  },
  {
   "cell_type": "markdown",
   "id": "765321ec",
   "metadata": {},
   "source": [
    "Les procédés mobilisés sont les suivants :\n",
    "\n",
    "Béton | Flux | Procédé choisi dans ecoinvent | Région | Unité | Qté pour 1m3\n",
    ":---: | :---: | :---: | :---: | :---: | :---:\n",
    "Béton A | ciment Portland | market for cement, Portland | Europe without Switzerland | kg | 350\n",
    "Béton B | CEM III/B | market for cement, CEM III/B | Europe without Switzerland | kg | 350\n",
    "Béton A & B | eau | market for tap water | Europe without Switzerland | kg | 175\n",
    "Béton A & B | sable | market for sand | Rest-of-World (RoW) | kg | 800 \n",
    "Béton A & B | graviers | market for gravel, crushed | Rest-of-World (RoW) | kg | 1100\n",
    "Béton A & B | ferraillage | market for reinforcing steel | Global | kg | 100\n",
    "Béton A & B | énergie | diesel, burned in building machine | Global | MJ | 14.4"
   ]
  },
  {
   "cell_type": "code",
   "execution_count": 25,
   "id": "7213fe82",
   "metadata": {},
   "outputs": [
    {
     "name": "stdout",
     "output_type": "stream",
     "text": [
      "procédés déjà importés !\n"
     ]
    }
   ],
   "source": [
    "from pathlib import Path\n",
    "if 'betons_armes' in bd.databases : \n",
    "    print('procédés déjà importés !')\n",
    "else : \n",
    "    imp = bi.ExcelImporter(Path.cwd().joinpath(\"betons_armes.xlsx\"))\n",
    "    imp.apply_strategies() #applique une série de routines sur la base de données, notamment une conversion des variables dans les bons formats\n",
    "    imp.match_database(fields=('name', 'unit', 'location')) #identifie les échanges que les procédés de la base ont avec d'autres procédés de la même base\n",
    "    imp.match_database('ecoinvent-3.11-cutoff', fields=('name', 'unit', 'location')) #identifie les échanges que les procédés de la base ont avec les procédés d'ecoinvent\n",
    "    imp.statistics() #affiche les statistiques des \"match\" réalisés, notamment si certains procédés n'ont pas été trouvés (\"unlinked exchanges\") \n",
    "    imp.write_database() #écrit et sauvegarde la base de données"
   ]
  },
  {
   "cell_type": "code",
   "execution_count": 26,
   "id": "6d0a9402",
   "metadata": {},
   "outputs": [],
   "source": [
    "fgdb = bd.Database('betons_armes') #fgdb pour foreground database (procédés d'avant-plan vs arrière-plan)"
   ]
  },
  {
   "cell_type": "code",
   "execution_count": 27,
   "id": "4ae63327",
   "metadata": {},
   "outputs": [
    {
     "data": {
      "text/plain": [
       "'Béton A' (cubic meter, FR, ('custom',))"
      ]
     },
     "execution_count": 27,
     "metadata": {},
     "output_type": "execute_result"
    }
   ],
   "source": [
    "beton_A = fgdb.search('Béton A')[0]\n",
    "beton_A"
   ]
  },
  {
   "cell_type": "code",
   "execution_count": 28,
   "id": "d7123fd8",
   "metadata": {},
   "outputs": [
    {
     "data": {
      "text/plain": [
       "[Exchange: 1 cubic meter 'Béton A' (cubic meter, FR, ('custom',)) to 'Béton A' (cubic meter, FR, ('custom',))>,\n",
       " Exchange: 350 kilogram 'market for cement, Portland' (kilogram, Europe without Switzerland, None) to 'Béton A' (cubic meter, FR, ('custom',))>,\n",
       " Exchange: 175 kilogram 'market for tap water' (kilogram, Europe without Switzerland, None) to 'Béton A' (cubic meter, FR, ('custom',))>,\n",
       " Exchange: 800 kilogram 'market for sand' (kilogram, RoW, None) to 'Béton A' (cubic meter, FR, ('custom',))>,\n",
       " Exchange: 1100 kilogram 'market for gravel, crushed' (kilogram, RoW, None) to 'Béton A' (cubic meter, FR, ('custom',))>,\n",
       " Exchange: 100 kilogram 'market for reinforcing steel' (kilogram, GLO, None) to 'Béton A' (cubic meter, FR, ('custom',))>,\n",
       " Exchange: 14.4 megajoule 'diesel, burned in building machine' (megajoule, GLO, None) to 'Béton A' (cubic meter, FR, ('custom',))>]"
      ]
     },
     "execution_count": 28,
     "metadata": {},
     "output_type": "execute_result"
    }
   ],
   "source": [
    "list(beton_A.edges()) #brightway utilise indifféremment les termes edges/exchanges et node/activity"
   ]
  },
  {
   "cell_type": "markdown",
   "id": "f3580882",
   "metadata": {},
   "source": [
    "## Calcul des impacts environnementaux"
   ]
  },
  {
   "cell_type": "markdown",
   "id": "dde119b6",
   "metadata": {},
   "source": [
    "Pour calculer des impacts environnementaux, il faut savoir quoi calculer, c'est-à-dire choisir une méthode d'impact. \n",
    "\n",
    "Remarque sur le mot méthode :\n",
    "- Traditionnellement, une méthode d'impact désigne un ensemble de catégories d'impacts, chaque catégorie contenant des indicateurs environnementaux et les facteurs de caractérisation permettant de calculer ces derniers à partir des flux élémentaires (en réalité, pour chaque indicateur, à partir d'un sous-ensemble de la biosphère).\n",
    "- dans brightway, une \"method\" désigne en fait un indicateur spécifique (calculé selon une certaine méthode d'impact), ce qui peut prêter à confusion.\n",
    "\n",
    "\n",
    "Pour ce TD, nous choisissons la méthode d'impacts Environmental Footprint v3.1."
   ]
  },
  {
   "cell_type": "code",
   "execution_count": 29,
   "id": "f2096c37",
   "metadata": {},
   "outputs": [
    {
     "data": {
      "text/plain": [
       "[('ecoinvent-3.11', 'EF v3.1', 'acidification', 'accumulated exceedance (AE)'),\n",
       " ('ecoinvent-3.11',\n",
       "  'EF v3.1',\n",
       "  'climate change',\n",
       "  'global warming potential (GWP100)'),\n",
       " ('ecoinvent-3.11',\n",
       "  'EF v3.1',\n",
       "  'climate change: biogenic',\n",
       "  'global warming potential (GWP100)'),\n",
       " ('ecoinvent-3.11',\n",
       "  'EF v3.1',\n",
       "  'climate change: fossil',\n",
       "  'global warming potential (GWP100)'),\n",
       " ('ecoinvent-3.11',\n",
       "  'EF v3.1',\n",
       "  'climate change: land use and land use change',\n",
       "  'global warming potential (GWP100)'),\n",
       " ('ecoinvent-3.11',\n",
       "  'EF v3.1',\n",
       "  'ecotoxicity: freshwater',\n",
       "  'comparative toxic unit for ecosystems (CTUe)'),\n",
       " ('ecoinvent-3.11',\n",
       "  'EF v3.1',\n",
       "  'ecotoxicity: freshwater, inorganics',\n",
       "  'comparative toxic unit for ecosystems (CTUe)'),\n",
       " ('ecoinvent-3.11',\n",
       "  'EF v3.1',\n",
       "  'ecotoxicity: freshwater, organics',\n",
       "  'comparative toxic unit for ecosystems (CTUe)'),\n",
       " ('ecoinvent-3.11',\n",
       "  'EF v3.1',\n",
       "  'energy resources: non-renewable',\n",
       "  'abiotic depletion potential (ADP): fossil fuels'),\n",
       " ('ecoinvent-3.11',\n",
       "  'EF v3.1',\n",
       "  'eutrophication: freshwater',\n",
       "  'fraction of nutrients reaching freshwater end compartment (P)'),\n",
       " ('ecoinvent-3.11',\n",
       "  'EF v3.1',\n",
       "  'eutrophication: marine',\n",
       "  'fraction of nutrients reaching marine end compartment (N)'),\n",
       " ('ecoinvent-3.11',\n",
       "  'EF v3.1',\n",
       "  'eutrophication: terrestrial',\n",
       "  'accumulated exceedance (AE)'),\n",
       " ('ecoinvent-3.11',\n",
       "  'EF v3.1',\n",
       "  'human toxicity: carcinogenic',\n",
       "  'comparative toxic unit for human (CTUh)'),\n",
       " ('ecoinvent-3.11',\n",
       "  'EF v3.1',\n",
       "  'human toxicity: carcinogenic, inorganics',\n",
       "  'comparative toxic unit for human (CTUh)'),\n",
       " ('ecoinvent-3.11',\n",
       "  'EF v3.1',\n",
       "  'human toxicity: carcinogenic, organics',\n",
       "  'comparative toxic unit for human (CTUh)'),\n",
       " ('ecoinvent-3.11',\n",
       "  'EF v3.1',\n",
       "  'human toxicity: non-carcinogenic',\n",
       "  'comparative toxic unit for human (CTUh)'),\n",
       " ('ecoinvent-3.11',\n",
       "  'EF v3.1',\n",
       "  'human toxicity: non-carcinogenic, inorganics',\n",
       "  'comparative toxic unit for human (CTUh)'),\n",
       " ('ecoinvent-3.11',\n",
       "  'EF v3.1',\n",
       "  'human toxicity: non-carcinogenic, organics',\n",
       "  'comparative toxic unit for human (CTUh)'),\n",
       " ('ecoinvent-3.11',\n",
       "  'EF v3.1',\n",
       "  'ionising radiation: human health',\n",
       "  'human exposure efficiency relative to u235'),\n",
       " ('ecoinvent-3.11', 'EF v3.1', 'land use', 'soil quality index'),\n",
       " ('ecoinvent-3.11',\n",
       "  'EF v3.1',\n",
       "  'material resources: metals/minerals',\n",
       "  'abiotic depletion potential (ADP): elements (ultimate reserves)'),\n",
       " ('ecoinvent-3.11',\n",
       "  'EF v3.1',\n",
       "  'ozone depletion',\n",
       "  'ozone depletion potential (ODP)'),\n",
       " ('ecoinvent-3.11',\n",
       "  'EF v3.1',\n",
       "  'particulate matter formation',\n",
       "  'impact on human health'),\n",
       " ('ecoinvent-3.11',\n",
       "  'EF v3.1',\n",
       "  'photochemical oxidant formation: human health',\n",
       "  'tropospheric ozone concentration increase'),\n",
       " ('ecoinvent-3.11',\n",
       "  'EF v3.1',\n",
       "  'water use',\n",
       "  'user deprivation potential (deprivation-weighted water consumption)')]"
      ]
     },
     "execution_count": 29,
     "metadata": {},
     "output_type": "execute_result"
    }
   ],
   "source": [
    "meth = [m for m in bd.methods if 'EF v3.1' in m[1] and 'no LT' not in m[1]] # no LT signifie no long-term, c'est à dire que les substances émises ou extraites après 100 ans ne sont pas comptées.\n",
    "meth"
   ]
  },
  {
   "cell_type": "markdown",
   "id": "8e8ce010",
   "metadata": {},
   "source": [
    "### Calcul pour un indicateur et une demande"
   ]
  },
  {
   "cell_type": "markdown",
   "id": "dc040ffd",
   "metadata": {},
   "source": [
    "On s'intéresse dans un premier temps à l'impact sur le changement climatique en considérant le pouvoir de réchauffement global à 100 ans."
   ]
  },
  {
   "cell_type": "code",
   "execution_count": 30,
   "id": "cd3f447d",
   "metadata": {},
   "outputs": [
    {
     "data": {
      "text/plain": [
       "('ecoinvent-3.11',\n",
       " 'EF v3.1',\n",
       " 'climate change',\n",
       " 'global warming potential (GWP100)')"
      ]
     },
     "execution_count": 30,
     "metadata": {},
     "output_type": "execute_result"
    }
   ],
   "source": [
    "gwp100 = [ind for ind in meth if 'GWP100' in str(ind) and 'biogenic' not in str(ind) and 'fossil' not in str(ind) and 'land' not in str(ind)][0] # On sélectionne l'indicateur par compréhension de liste\n",
    "gwp100"
   ]
  },
  {
   "cell_type": "markdown",
   "id": "65464ea3",
   "metadata": {},
   "source": [
    "On fait le calcul pour le béton A :"
   ]
  },
  {
   "cell_type": "markdown",
   "id": "f49a63eb-03c6-4eb8-8ac8-5003a552f638",
   "metadata": {},
   "source": [
    "(Un rappel sur les définitions des différentes matrices vues en cours est disponible dans la documentation de brightway https://learn.brightway.dev/en/latest/content/chapters/BW25/BW25_introduction.html)"
   ]
  },
  {
   "cell_type": "code",
   "execution_count": 31,
   "id": "7654ecf9",
   "metadata": {},
   "outputs": [
    {
     "data": {
      "text/plain": [
       "561.9650284777496"
      ]
     },
     "execution_count": 31,
     "metadata": {},
     "output_type": "execute_result"
    }
   ],
   "source": [
    "lca = bc.LCA(demand={beton_A : 1.0},method=gwp100) #Préparation de matrices réduites A, B, C\n",
    "lca.lci()# Préparation du calcul de g. Si on appelle le score à cette étape, on obtient g.\n",
    "lca.lcia() # Préparation du calcul de h.\n",
    "lca.score # Ici le calcul se fait, et retourne le score d'impact"
   ]
  },
  {
   "cell_type": "markdown",
   "id": "1a97dd93",
   "metadata": {},
   "source": [
    "et maintenant pour le béton B :"
   ]
  },
  {
   "cell_type": "code",
   "execution_count": 32,
   "id": "93b128c5",
   "metadata": {},
   "outputs": [
    {
     "data": {
      "text/plain": [
       "'Béton B' (cubic meter, FR, ('custom',))"
      ]
     },
     "execution_count": 32,
     "metadata": {},
     "output_type": "execute_result"
    }
   ],
   "source": [
    "beton_B = fgdb.search('Béton B')[0]\n",
    "beton_B"
   ]
  },
  {
   "cell_type": "code",
   "execution_count": 33,
   "id": "24fedb91",
   "metadata": {},
   "outputs": [
    {
     "data": {
      "text/plain": [
       "391.69460121070745"
      ]
     },
     "execution_count": 33,
     "metadata": {},
     "output_type": "execute_result"
    }
   ],
   "source": [
    "lca = bc.LCA(demand={beton_B : 1.0},method=gwp100)\n",
    "lca.lci()\n",
    "lca.lcia()\n",
    "lca.score"
   ]
  },
  {
   "cell_type": "markdown",
   "id": "3ba221b7-5e97-4325-b13e-d28140746f4f",
   "metadata": {},
   "source": [
    "Vous pouvez consulter les constituants des différents types de ciments dans le tableau issus de la norme, joint à ce TD."
   ]
  },
  {
   "cell_type": "markdown",
   "id": "c54e9ebd-2f3a-49a0-9be8-4a9c354a52e6",
   "metadata": {},
   "source": [
    "#### Exercice\n",
    "\n",
    "Quel béton armé est le moins impactant en ce qui concerne l'eutrophisation ?"
   ]
  },
  {
   "cell_type": "markdown",
   "id": "095218c3",
   "metadata": {},
   "source": [
    "### Calcul pour plusieurs indicateurs et plusieurs demandes"
   ]
  },
  {
   "cell_type": "markdown",
   "id": "d5678038",
   "metadata": {},
   "source": [
    "La logique est strictement la même que pour un indicateur et une demande. La fonction qui gère ce calcul réclame simplement que l'on range les arguments d'une manière spécifique, comme réalisé ci-dessous :"
   ]
  },
  {
   "cell_type": "code",
   "execution_count": 34,
   "id": "716780c2",
   "metadata": {},
   "outputs": [],
   "source": [
    "demands = { 'A' : {beton_A.id : 1.0}, 'B' : {beton_B.id : 1.0}} # Les demandes évaluées sont rangées dans un dictionnaire, elles ont un nom, ici nous choisissons A et B.\n",
    "\n",
    "method_config = {'impact_categories' : meth} # les indicateurs d'impacts sont aussi rangés dans un dictionnaire\n",
    "data_objs = bd.get_multilca_data_objs(demands, method_config) # brightway fait sa tambouille\n",
    "\n",
    "lca = bc.MultiLCA(demands=demands, method_config= method_config, data_objs=data_objs)\n",
    "lca.lci()\n",
    "lca.lcia()\n",
    "results = lca.scores"
   ]
  },
  {
   "cell_type": "markdown",
   "id": "d7076cf5",
   "metadata": {},
   "source": [
    "Les résultats sont stockés dans un dictionnaire dont les clés sont les couples (indicateurs, nom de la demande) et les valeurs sont les scores d'impacts : c'est peu lisible."
   ]
  },
  {
   "cell_type": "code",
   "execution_count": 35,
   "id": "3f3a92fc",
   "metadata": {},
   "outputs": [
    {
     "data": {
      "text/plain": [
       "{(('ecoinvent-3.11',\n",
       "   'EF v3.1',\n",
       "   'acidification',\n",
       "   'accumulated exceedance (AE)'),\n",
       "  'A'): 1.7604911447425255,\n",
       " (('ecoinvent-3.11',\n",
       "   'EF v3.1',\n",
       "   'acidification',\n",
       "   'accumulated exceedance (AE)'),\n",
       "  'B'): 1.624189315012767,\n",
       " (('ecoinvent-3.11',\n",
       "   'EF v3.1',\n",
       "   'climate change',\n",
       "   'global warming potential (GWP100)'),\n",
       "  'A'): 561.9650284777497,\n",
       " (('ecoinvent-3.11',\n",
       "   'EF v3.1',\n",
       "   'climate change',\n",
       "   'global warming potential (GWP100)'),\n",
       "  'B'): 391.69460121070756,\n",
       " (('ecoinvent-3.11',\n",
       "   'EF v3.1',\n",
       "   'climate change: biogenic',\n",
       "   'global warming potential (GWP100)'),\n",
       "  'A'): 0.18515533315102728,\n",
       " (('ecoinvent-3.11',\n",
       "   'EF v3.1',\n",
       "   'climate change: biogenic',\n",
       "   'global warming potential (GWP100)'),\n",
       "  'B'): 0.20041378177676922,\n",
       " (('ecoinvent-3.11',\n",
       "   'EF v3.1',\n",
       "   'climate change: fossil',\n",
       "   'global warming potential (GWP100)'),\n",
       "  'A'): 561.5653256304026,\n",
       " (('ecoinvent-3.11',\n",
       "   'EF v3.1',\n",
       "   'climate change: fossil',\n",
       "   'global warming potential (GWP100)'),\n",
       "  'B'): 391.2334190309591,\n",
       " (('ecoinvent-3.11',\n",
       "   'EF v3.1',\n",
       "   'climate change: land use and land use change',\n",
       "   'global warming potential (GWP100)'),\n",
       "  'A'): 0.2145475141960862,\n",
       " (('ecoinvent-3.11',\n",
       "   'EF v3.1',\n",
       "   'climate change: land use and land use change',\n",
       "   'global warming potential (GWP100)'),\n",
       "  'B'): 0.2607683979717245,\n",
       " (('ecoinvent-3.11',\n",
       "   'EF v3.1',\n",
       "   'ecotoxicity: freshwater',\n",
       "   'comparative toxic unit for ecosystems (CTUe)'),\n",
       "  'A'): 1219.9043461675901,\n",
       " (('ecoinvent-3.11',\n",
       "   'EF v3.1',\n",
       "   'ecotoxicity: freshwater',\n",
       "   'comparative toxic unit for ecosystems (CTUe)'),\n",
       "  'B'): 1763.0998122161222,\n",
       " (('ecoinvent-3.11',\n",
       "   'EF v3.1',\n",
       "   'ecotoxicity: freshwater, inorganics',\n",
       "   'comparative toxic unit for ecosystems (CTUe)'),\n",
       "  'A'): 1187.9939747521698,\n",
       " (('ecoinvent-3.11',\n",
       "   'EF v3.1',\n",
       "   'ecotoxicity: freshwater, inorganics',\n",
       "   'comparative toxic unit for ecosystems (CTUe)'),\n",
       "  'B'): 1727.9714608587044,\n",
       " (('ecoinvent-3.11',\n",
       "   'EF v3.1',\n",
       "   'ecotoxicity: freshwater, organics',\n",
       "   'comparative toxic unit for ecosystems (CTUe)'),\n",
       "  'A'): 31.91037141542009,\n",
       " (('ecoinvent-3.11',\n",
       "   'EF v3.1',\n",
       "   'ecotoxicity: freshwater, organics',\n",
       "   'comparative toxic unit for ecosystems (CTUe)'),\n",
       "  'B'): 35.12835135741751,\n",
       " (('ecoinvent-3.11',\n",
       "   'EF v3.1',\n",
       "   'energy resources: non-renewable',\n",
       "   'abiotic depletion potential (ADP): fossil fuels'),\n",
       "  'A'): 4067.3305873034396,\n",
       " (('ecoinvent-3.11',\n",
       "   'EF v3.1',\n",
       "   'energy resources: non-renewable',\n",
       "   'abiotic depletion potential (ADP): fossil fuels'),\n",
       "  'B'): 3806.392607018651,\n",
       " (('ecoinvent-3.11',\n",
       "   'EF v3.1',\n",
       "   'eutrophication: freshwater',\n",
       "   'fraction of nutrients reaching freshwater end compartment (P)'),\n",
       "  'A'): 0.13535085165433988,\n",
       " (('ecoinvent-3.11',\n",
       "   'EF v3.1',\n",
       "   'eutrophication: freshwater',\n",
       "   'fraction of nutrients reaching freshwater end compartment (P)'),\n",
       "  'B'): 0.12778860495471697,\n",
       " (('ecoinvent-3.11',\n",
       "   'EF v3.1',\n",
       "   'eutrophication: marine',\n",
       "   'fraction of nutrients reaching marine end compartment (N)'),\n",
       "  'A'): 0.4719202496555983,\n",
       " (('ecoinvent-3.11',\n",
       "   'EF v3.1',\n",
       "   'eutrophication: marine',\n",
       "   'fraction of nutrients reaching marine end compartment (N)'),\n",
       "  'B'): 0.3892305091410316,\n",
       " (('ecoinvent-3.11',\n",
       "   'EF v3.1',\n",
       "   'eutrophication: terrestrial',\n",
       "   'accumulated exceedance (AE)'),\n",
       "  'A'): 5.1779757830890265,\n",
       " (('ecoinvent-3.11',\n",
       "   'EF v3.1',\n",
       "   'eutrophication: terrestrial',\n",
       "   'accumulated exceedance (AE)'),\n",
       "  'B'): 4.20483724626007,\n",
       " (('ecoinvent-3.11',\n",
       "   'EF v3.1',\n",
       "   'human toxicity: carcinogenic',\n",
       "   'comparative toxic unit for human (CTUh)'),\n",
       "  'A'): 3.143041656844121e-07,\n",
       " (('ecoinvent-3.11',\n",
       "   'EF v3.1',\n",
       "   'human toxicity: carcinogenic',\n",
       "   'comparative toxic unit for human (CTUh)'),\n",
       "  'B'): 3.0203200635965504e-07,\n",
       " (('ecoinvent-3.11',\n",
       "   'EF v3.1',\n",
       "   'human toxicity: carcinogenic, inorganics',\n",
       "   'comparative toxic unit for human (CTUh)'),\n",
       "  'A'): 9.183201799676824e-08,\n",
       " (('ecoinvent-3.11',\n",
       "   'EF v3.1',\n",
       "   'human toxicity: carcinogenic, inorganics',\n",
       "   'comparative toxic unit for human (CTUh)'),\n",
       "  'B'): 8.473238308263802e-08,\n",
       " (('ecoinvent-3.11',\n",
       "   'EF v3.1',\n",
       "   'human toxicity: carcinogenic, organics',\n",
       "   'comparative toxic unit for human (CTUh)'),\n",
       "  'A'): 2.2247214768764386e-07,\n",
       " (('ecoinvent-3.11',\n",
       "   'EF v3.1',\n",
       "   'human toxicity: carcinogenic, organics',\n",
       "   'comparative toxic unit for human (CTUh)'),\n",
       "  'B'): 2.1729962327701697e-07,\n",
       " (('ecoinvent-3.11',\n",
       "   'EF v3.1',\n",
       "   'human toxicity: non-carcinogenic',\n",
       "   'comparative toxic unit for human (CTUh)'),\n",
       "  'A'): 4.220421630393802e-06,\n",
       " (('ecoinvent-3.11',\n",
       "   'EF v3.1',\n",
       "   'human toxicity: non-carcinogenic',\n",
       "   'comparative toxic unit for human (CTUh)'),\n",
       "  'B'): 3.3984018623880602e-06,\n",
       " (('ecoinvent-3.11',\n",
       "   'EF v3.1',\n",
       "   'human toxicity: non-carcinogenic, inorganics',\n",
       "   'comparative toxic unit for human (CTUh)'),\n",
       "  'A'): 4.082097762373776e-06,\n",
       " (('ecoinvent-3.11',\n",
       "   'EF v3.1',\n",
       "   'human toxicity: non-carcinogenic, inorganics',\n",
       "   'comparative toxic unit for human (CTUh)'),\n",
       "  'B'): 3.2490195412634304e-06,\n",
       " (('ecoinvent-3.11',\n",
       "   'EF v3.1',\n",
       "   'human toxicity: non-carcinogenic, organics',\n",
       "   'comparative toxic unit for human (CTUh)'),\n",
       "  'A'): 1.383238680200265e-07,\n",
       " (('ecoinvent-3.11',\n",
       "   'EF v3.1',\n",
       "   'human toxicity: non-carcinogenic, organics',\n",
       "   'comparative toxic unit for human (CTUh)'),\n",
       "  'B'): 1.4938232112462955e-07,\n",
       " (('ecoinvent-3.11',\n",
       "   'EF v3.1',\n",
       "   'ionising radiation: human health',\n",
       "   'human exposure efficiency relative to u235'),\n",
       "  'A'): 17.292153770259947,\n",
       " (('ecoinvent-3.11',\n",
       "   'EF v3.1',\n",
       "   'ionising radiation: human health',\n",
       "   'human exposure efficiency relative to u235'),\n",
       "  'B'): 15.731832453583756,\n",
       " (('ecoinvent-3.11', 'EF v3.1', 'land use', 'soil quality index'),\n",
       "  'A'): 1848.0187571974595,\n",
       " (('ecoinvent-3.11', 'EF v3.1', 'land use', 'soil quality index'),\n",
       "  'B'): 1987.753803448192,\n",
       " (('ecoinvent-3.11',\n",
       "   'EF v3.1',\n",
       "   'material resources: metals/minerals',\n",
       "   'abiotic depletion potential (ADP): elements (ultimate reserves)'),\n",
       "  'A'): 0.0017845682457772506,\n",
       " (('ecoinvent-3.11',\n",
       "   'EF v3.1',\n",
       "   'material resources: metals/minerals',\n",
       "   'abiotic depletion potential (ADP): elements (ultimate reserves)'),\n",
       "  'B'): 0.0014439255864151642,\n",
       " (('ecoinvent-3.11',\n",
       "   'EF v3.1',\n",
       "   'ozone depletion',\n",
       "   'ozone depletion potential (ODP)'),\n",
       "  'A'): 2.760078678423322e-06,\n",
       " (('ecoinvent-3.11',\n",
       "   'EF v3.1',\n",
       "   'ozone depletion',\n",
       "   'ozone depletion potential (ODP)'),\n",
       "  'B'): 2.4516857014469334e-06,\n",
       " (('ecoinvent-3.11',\n",
       "   'EF v3.1',\n",
       "   'particulate matter formation',\n",
       "   'impact on human health'),\n",
       "  'A'): 2.8720018005450083e-05,\n",
       " (('ecoinvent-3.11',\n",
       "   'EF v3.1',\n",
       "   'particulate matter formation',\n",
       "   'impact on human health'),\n",
       "  'B'): 2.9900765676320712e-05,\n",
       " (('ecoinvent-3.11',\n",
       "   'EF v3.1',\n",
       "   'photochemical oxidant formation: human health',\n",
       "   'tropospheric ozone concentration increase'),\n",
       "  'A'): 1.6376798955371443,\n",
       " (('ecoinvent-3.11',\n",
       "   'EF v3.1',\n",
       "   'photochemical oxidant formation: human health',\n",
       "   'tropospheric ozone concentration increase'),\n",
       "  'B'): 1.3975760002815076,\n",
       " (('ecoinvent-3.11',\n",
       "   'EF v3.1',\n",
       "   'water use',\n",
       "   'user deprivation potential (deprivation-weighted water consumption)'),\n",
       "  'A'): 176.11657984656756,\n",
       " (('ecoinvent-3.11',\n",
       "   'EF v3.1',\n",
       "   'water use',\n",
       "   'user deprivation potential (deprivation-weighted water consumption)'),\n",
       "  'B'): 166.35200959644254}"
      ]
     },
     "execution_count": 35,
     "metadata": {},
     "output_type": "execute_result"
    }
   ],
   "source": [
    "results"
   ]
  },
  {
   "cell_type": "markdown",
   "id": "390bafc9",
   "metadata": {},
   "source": [
    "On range les résultats dans un tableau pour les voir et les tracer plus aisément."
   ]
  },
  {
   "cell_type": "code",
   "execution_count": 36,
   "id": "1846a53b",
   "metadata": {},
   "outputs": [
    {
     "name": "stderr",
     "output_type": "stream",
     "text": [
      "/tmp/ipykernel_352716/2655964781.py:4: FutureWarning: The behavior of DataFrame concatenation with empty or all-NA entries is deprecated. In a future version, this will no longer exclude empty or all-NA columns when determining the result dtypes. To retain the old behavior, exclude the relevant entries before the concat operation.\n",
      "  res = pd.concat([pd.DataFrame([[str(r[0][2:3]),bd.Method(r[0]).metadata['unit'],r[1],df_results.at[r,0]]], columns=res.columns), res], ignore_index=True)\n"
     ]
    }
   ],
   "source": [
    "df_results = pd.DataFrame.from_dict(results,orient='index') # on met les résultats dans un dataframe\n",
    "res = pd.DataFrame(columns=['indicateur','unité','beton','score']) #\n",
    "for r in df_results.index :\n",
    "    res = pd.concat([pd.DataFrame([[str(r[0][2:3]),bd.Method(r[0]).metadata['unit'],r[1],df_results.at[r,0]]], columns=res.columns), res], ignore_index=True)"
   ]
  },
  {
   "cell_type": "code",
   "execution_count": 37,
   "id": "a136df82",
   "metadata": {},
   "outputs": [
    {
     "data": {
      "text/html": [
       "<div>\n",
       "<style scoped>\n",
       "    .dataframe tbody tr th:only-of-type {\n",
       "        vertical-align: middle;\n",
       "    }\n",
       "\n",
       "    .dataframe tbody tr th {\n",
       "        vertical-align: top;\n",
       "    }\n",
       "\n",
       "    .dataframe thead th {\n",
       "        text-align: right;\n",
       "    }\n",
       "</style>\n",
       "<table border=\"1\" class=\"dataframe\">\n",
       "  <thead>\n",
       "    <tr style=\"text-align: right;\">\n",
       "      <th></th>\n",
       "      <th>indicateur</th>\n",
       "      <th>unité</th>\n",
       "      <th>beton</th>\n",
       "      <th>score</th>\n",
       "    </tr>\n",
       "  </thead>\n",
       "  <tbody>\n",
       "    <tr>\n",
       "      <th>0</th>\n",
       "      <td>('water use',)</td>\n",
       "      <td>m3 world Eq deprived</td>\n",
       "      <td>B</td>\n",
       "      <td>1.663520e+02</td>\n",
       "    </tr>\n",
       "    <tr>\n",
       "      <th>1</th>\n",
       "      <td>('water use',)</td>\n",
       "      <td>m3 world Eq deprived</td>\n",
       "      <td>A</td>\n",
       "      <td>1.761166e+02</td>\n",
       "    </tr>\n",
       "    <tr>\n",
       "      <th>2</th>\n",
       "      <td>('photochemical oxidant formation: human healt...</td>\n",
       "      <td>kg NMVOC-Eq</td>\n",
       "      <td>B</td>\n",
       "      <td>1.397576e+00</td>\n",
       "    </tr>\n",
       "    <tr>\n",
       "      <th>3</th>\n",
       "      <td>('photochemical oxidant formation: human healt...</td>\n",
       "      <td>kg NMVOC-Eq</td>\n",
       "      <td>A</td>\n",
       "      <td>1.637680e+00</td>\n",
       "    </tr>\n",
       "    <tr>\n",
       "      <th>4</th>\n",
       "      <td>('particulate matter formation',)</td>\n",
       "      <td>disease incidence</td>\n",
       "      <td>B</td>\n",
       "      <td>2.990077e-05</td>\n",
       "    </tr>\n",
       "    <tr>\n",
       "      <th>5</th>\n",
       "      <td>('particulate matter formation',)</td>\n",
       "      <td>disease incidence</td>\n",
       "      <td>A</td>\n",
       "      <td>2.872002e-05</td>\n",
       "    </tr>\n",
       "    <tr>\n",
       "      <th>6</th>\n",
       "      <td>('ozone depletion',)</td>\n",
       "      <td>kg CFC-11-Eq</td>\n",
       "      <td>B</td>\n",
       "      <td>2.451686e-06</td>\n",
       "    </tr>\n",
       "    <tr>\n",
       "      <th>7</th>\n",
       "      <td>('ozone depletion',)</td>\n",
       "      <td>kg CFC-11-Eq</td>\n",
       "      <td>A</td>\n",
       "      <td>2.760079e-06</td>\n",
       "    </tr>\n",
       "    <tr>\n",
       "      <th>8</th>\n",
       "      <td>('material resources: metals/minerals',)</td>\n",
       "      <td>kg Sb-Eq</td>\n",
       "      <td>B</td>\n",
       "      <td>1.443926e-03</td>\n",
       "    </tr>\n",
       "    <tr>\n",
       "      <th>9</th>\n",
       "      <td>('material resources: metals/minerals',)</td>\n",
       "      <td>kg Sb-Eq</td>\n",
       "      <td>A</td>\n",
       "      <td>1.784568e-03</td>\n",
       "    </tr>\n",
       "    <tr>\n",
       "      <th>10</th>\n",
       "      <td>('land use',)</td>\n",
       "      <td>dimensionless</td>\n",
       "      <td>B</td>\n",
       "      <td>1.987754e+03</td>\n",
       "    </tr>\n",
       "    <tr>\n",
       "      <th>11</th>\n",
       "      <td>('land use',)</td>\n",
       "      <td>dimensionless</td>\n",
       "      <td>A</td>\n",
       "      <td>1.848019e+03</td>\n",
       "    </tr>\n",
       "    <tr>\n",
       "      <th>12</th>\n",
       "      <td>('ionising radiation: human health',)</td>\n",
       "      <td>kBq U235-Eq</td>\n",
       "      <td>B</td>\n",
       "      <td>1.573183e+01</td>\n",
       "    </tr>\n",
       "    <tr>\n",
       "      <th>13</th>\n",
       "      <td>('ionising radiation: human health',)</td>\n",
       "      <td>kBq U235-Eq</td>\n",
       "      <td>A</td>\n",
       "      <td>1.729215e+01</td>\n",
       "    </tr>\n",
       "    <tr>\n",
       "      <th>14</th>\n",
       "      <td>('human toxicity: non-carcinogenic, organics',)</td>\n",
       "      <td>CTUh</td>\n",
       "      <td>B</td>\n",
       "      <td>1.493823e-07</td>\n",
       "    </tr>\n",
       "    <tr>\n",
       "      <th>15</th>\n",
       "      <td>('human toxicity: non-carcinogenic, organics',)</td>\n",
       "      <td>CTUh</td>\n",
       "      <td>A</td>\n",
       "      <td>1.383239e-07</td>\n",
       "    </tr>\n",
       "    <tr>\n",
       "      <th>16</th>\n",
       "      <td>('human toxicity: non-carcinogenic, inorganics',)</td>\n",
       "      <td>CTUh</td>\n",
       "      <td>B</td>\n",
       "      <td>3.249020e-06</td>\n",
       "    </tr>\n",
       "    <tr>\n",
       "      <th>17</th>\n",
       "      <td>('human toxicity: non-carcinogenic, inorganics',)</td>\n",
       "      <td>CTUh</td>\n",
       "      <td>A</td>\n",
       "      <td>4.082098e-06</td>\n",
       "    </tr>\n",
       "    <tr>\n",
       "      <th>18</th>\n",
       "      <td>('human toxicity: non-carcinogenic',)</td>\n",
       "      <td>CTUh</td>\n",
       "      <td>B</td>\n",
       "      <td>3.398402e-06</td>\n",
       "    </tr>\n",
       "    <tr>\n",
       "      <th>19</th>\n",
       "      <td>('human toxicity: non-carcinogenic',)</td>\n",
       "      <td>CTUh</td>\n",
       "      <td>A</td>\n",
       "      <td>4.220422e-06</td>\n",
       "    </tr>\n",
       "    <tr>\n",
       "      <th>20</th>\n",
       "      <td>('human toxicity: carcinogenic, organics',)</td>\n",
       "      <td>CTUh</td>\n",
       "      <td>B</td>\n",
       "      <td>2.172996e-07</td>\n",
       "    </tr>\n",
       "    <tr>\n",
       "      <th>21</th>\n",
       "      <td>('human toxicity: carcinogenic, organics',)</td>\n",
       "      <td>CTUh</td>\n",
       "      <td>A</td>\n",
       "      <td>2.224721e-07</td>\n",
       "    </tr>\n",
       "    <tr>\n",
       "      <th>22</th>\n",
       "      <td>('human toxicity: carcinogenic, inorganics',)</td>\n",
       "      <td>CTUh</td>\n",
       "      <td>B</td>\n",
       "      <td>8.473238e-08</td>\n",
       "    </tr>\n",
       "    <tr>\n",
       "      <th>23</th>\n",
       "      <td>('human toxicity: carcinogenic, inorganics',)</td>\n",
       "      <td>CTUh</td>\n",
       "      <td>A</td>\n",
       "      <td>9.183202e-08</td>\n",
       "    </tr>\n",
       "    <tr>\n",
       "      <th>24</th>\n",
       "      <td>('human toxicity: carcinogenic',)</td>\n",
       "      <td>CTUh</td>\n",
       "      <td>B</td>\n",
       "      <td>3.020320e-07</td>\n",
       "    </tr>\n",
       "    <tr>\n",
       "      <th>25</th>\n",
       "      <td>('human toxicity: carcinogenic',)</td>\n",
       "      <td>CTUh</td>\n",
       "      <td>A</td>\n",
       "      <td>3.143042e-07</td>\n",
       "    </tr>\n",
       "    <tr>\n",
       "      <th>26</th>\n",
       "      <td>('eutrophication: terrestrial',)</td>\n",
       "      <td>mol N-Eq</td>\n",
       "      <td>B</td>\n",
       "      <td>4.204837e+00</td>\n",
       "    </tr>\n",
       "    <tr>\n",
       "      <th>27</th>\n",
       "      <td>('eutrophication: terrestrial',)</td>\n",
       "      <td>mol N-Eq</td>\n",
       "      <td>A</td>\n",
       "      <td>5.177976e+00</td>\n",
       "    </tr>\n",
       "    <tr>\n",
       "      <th>28</th>\n",
       "      <td>('eutrophication: marine',)</td>\n",
       "      <td>kg N-Eq</td>\n",
       "      <td>B</td>\n",
       "      <td>3.892305e-01</td>\n",
       "    </tr>\n",
       "    <tr>\n",
       "      <th>29</th>\n",
       "      <td>('eutrophication: marine',)</td>\n",
       "      <td>kg N-Eq</td>\n",
       "      <td>A</td>\n",
       "      <td>4.719202e-01</td>\n",
       "    </tr>\n",
       "    <tr>\n",
       "      <th>30</th>\n",
       "      <td>('eutrophication: freshwater',)</td>\n",
       "      <td>kg P-Eq</td>\n",
       "      <td>B</td>\n",
       "      <td>1.277886e-01</td>\n",
       "    </tr>\n",
       "    <tr>\n",
       "      <th>31</th>\n",
       "      <td>('eutrophication: freshwater',)</td>\n",
       "      <td>kg P-Eq</td>\n",
       "      <td>A</td>\n",
       "      <td>1.353509e-01</td>\n",
       "    </tr>\n",
       "    <tr>\n",
       "      <th>32</th>\n",
       "      <td>('energy resources: non-renewable',)</td>\n",
       "      <td>MJ, net calorific value</td>\n",
       "      <td>B</td>\n",
       "      <td>3.806393e+03</td>\n",
       "    </tr>\n",
       "    <tr>\n",
       "      <th>33</th>\n",
       "      <td>('energy resources: non-renewable',)</td>\n",
       "      <td>MJ, net calorific value</td>\n",
       "      <td>A</td>\n",
       "      <td>4.067331e+03</td>\n",
       "    </tr>\n",
       "    <tr>\n",
       "      <th>34</th>\n",
       "      <td>('ecotoxicity: freshwater, organics',)</td>\n",
       "      <td>CTUe</td>\n",
       "      <td>B</td>\n",
       "      <td>3.512835e+01</td>\n",
       "    </tr>\n",
       "    <tr>\n",
       "      <th>35</th>\n",
       "      <td>('ecotoxicity: freshwater, organics',)</td>\n",
       "      <td>CTUe</td>\n",
       "      <td>A</td>\n",
       "      <td>3.191037e+01</td>\n",
       "    </tr>\n",
       "    <tr>\n",
       "      <th>36</th>\n",
       "      <td>('ecotoxicity: freshwater, inorganics',)</td>\n",
       "      <td>CTUe</td>\n",
       "      <td>B</td>\n",
       "      <td>1.727971e+03</td>\n",
       "    </tr>\n",
       "    <tr>\n",
       "      <th>37</th>\n",
       "      <td>('ecotoxicity: freshwater, inorganics',)</td>\n",
       "      <td>CTUe</td>\n",
       "      <td>A</td>\n",
       "      <td>1.187994e+03</td>\n",
       "    </tr>\n",
       "    <tr>\n",
       "      <th>38</th>\n",
       "      <td>('ecotoxicity: freshwater',)</td>\n",
       "      <td>CTUe</td>\n",
       "      <td>B</td>\n",
       "      <td>1.763100e+03</td>\n",
       "    </tr>\n",
       "    <tr>\n",
       "      <th>39</th>\n",
       "      <td>('ecotoxicity: freshwater',)</td>\n",
       "      <td>CTUe</td>\n",
       "      <td>A</td>\n",
       "      <td>1.219904e+03</td>\n",
       "    </tr>\n",
       "    <tr>\n",
       "      <th>40</th>\n",
       "      <td>('climate change: land use and land use change',)</td>\n",
       "      <td>kg CO2-Eq</td>\n",
       "      <td>B</td>\n",
       "      <td>2.607684e-01</td>\n",
       "    </tr>\n",
       "    <tr>\n",
       "      <th>41</th>\n",
       "      <td>('climate change: land use and land use change',)</td>\n",
       "      <td>kg CO2-Eq</td>\n",
       "      <td>A</td>\n",
       "      <td>2.145475e-01</td>\n",
       "    </tr>\n",
       "    <tr>\n",
       "      <th>42</th>\n",
       "      <td>('climate change: fossil',)</td>\n",
       "      <td>kg CO2-Eq</td>\n",
       "      <td>B</td>\n",
       "      <td>3.912334e+02</td>\n",
       "    </tr>\n",
       "    <tr>\n",
       "      <th>43</th>\n",
       "      <td>('climate change: fossil',)</td>\n",
       "      <td>kg CO2-Eq</td>\n",
       "      <td>A</td>\n",
       "      <td>5.615653e+02</td>\n",
       "    </tr>\n",
       "    <tr>\n",
       "      <th>44</th>\n",
       "      <td>('climate change: biogenic',)</td>\n",
       "      <td>kg CO2-Eq</td>\n",
       "      <td>B</td>\n",
       "      <td>2.004138e-01</td>\n",
       "    </tr>\n",
       "    <tr>\n",
       "      <th>45</th>\n",
       "      <td>('climate change: biogenic',)</td>\n",
       "      <td>kg CO2-Eq</td>\n",
       "      <td>A</td>\n",
       "      <td>1.851553e-01</td>\n",
       "    </tr>\n",
       "    <tr>\n",
       "      <th>46</th>\n",
       "      <td>('climate change',)</td>\n",
       "      <td>kg CO2-Eq</td>\n",
       "      <td>B</td>\n",
       "      <td>3.916946e+02</td>\n",
       "    </tr>\n",
       "    <tr>\n",
       "      <th>47</th>\n",
       "      <td>('climate change',)</td>\n",
       "      <td>kg CO2-Eq</td>\n",
       "      <td>A</td>\n",
       "      <td>5.619650e+02</td>\n",
       "    </tr>\n",
       "    <tr>\n",
       "      <th>48</th>\n",
       "      <td>('acidification',)</td>\n",
       "      <td>mol H+-Eq</td>\n",
       "      <td>B</td>\n",
       "      <td>1.624189e+00</td>\n",
       "    </tr>\n",
       "    <tr>\n",
       "      <th>49</th>\n",
       "      <td>('acidification',)</td>\n",
       "      <td>mol H+-Eq</td>\n",
       "      <td>A</td>\n",
       "      <td>1.760491e+00</td>\n",
       "    </tr>\n",
       "  </tbody>\n",
       "</table>\n",
       "</div>"
      ],
      "text/plain": [
       "                                           indicateur  \\\n",
       "0                                      ('water use',)   \n",
       "1                                      ('water use',)   \n",
       "2   ('photochemical oxidant formation: human healt...   \n",
       "3   ('photochemical oxidant formation: human healt...   \n",
       "4                   ('particulate matter formation',)   \n",
       "5                   ('particulate matter formation',)   \n",
       "6                                ('ozone depletion',)   \n",
       "7                                ('ozone depletion',)   \n",
       "8            ('material resources: metals/minerals',)   \n",
       "9            ('material resources: metals/minerals',)   \n",
       "10                                      ('land use',)   \n",
       "11                                      ('land use',)   \n",
       "12              ('ionising radiation: human health',)   \n",
       "13              ('ionising radiation: human health',)   \n",
       "14    ('human toxicity: non-carcinogenic, organics',)   \n",
       "15    ('human toxicity: non-carcinogenic, organics',)   \n",
       "16  ('human toxicity: non-carcinogenic, inorganics',)   \n",
       "17  ('human toxicity: non-carcinogenic, inorganics',)   \n",
       "18              ('human toxicity: non-carcinogenic',)   \n",
       "19              ('human toxicity: non-carcinogenic',)   \n",
       "20        ('human toxicity: carcinogenic, organics',)   \n",
       "21        ('human toxicity: carcinogenic, organics',)   \n",
       "22      ('human toxicity: carcinogenic, inorganics',)   \n",
       "23      ('human toxicity: carcinogenic, inorganics',)   \n",
       "24                  ('human toxicity: carcinogenic',)   \n",
       "25                  ('human toxicity: carcinogenic',)   \n",
       "26                   ('eutrophication: terrestrial',)   \n",
       "27                   ('eutrophication: terrestrial',)   \n",
       "28                        ('eutrophication: marine',)   \n",
       "29                        ('eutrophication: marine',)   \n",
       "30                    ('eutrophication: freshwater',)   \n",
       "31                    ('eutrophication: freshwater',)   \n",
       "32               ('energy resources: non-renewable',)   \n",
       "33               ('energy resources: non-renewable',)   \n",
       "34             ('ecotoxicity: freshwater, organics',)   \n",
       "35             ('ecotoxicity: freshwater, organics',)   \n",
       "36           ('ecotoxicity: freshwater, inorganics',)   \n",
       "37           ('ecotoxicity: freshwater, inorganics',)   \n",
       "38                       ('ecotoxicity: freshwater',)   \n",
       "39                       ('ecotoxicity: freshwater',)   \n",
       "40  ('climate change: land use and land use change',)   \n",
       "41  ('climate change: land use and land use change',)   \n",
       "42                        ('climate change: fossil',)   \n",
       "43                        ('climate change: fossil',)   \n",
       "44                      ('climate change: biogenic',)   \n",
       "45                      ('climate change: biogenic',)   \n",
       "46                                ('climate change',)   \n",
       "47                                ('climate change',)   \n",
       "48                                 ('acidification',)   \n",
       "49                                 ('acidification',)   \n",
       "\n",
       "                      unité beton         score  \n",
       "0      m3 world Eq deprived     B  1.663520e+02  \n",
       "1      m3 world Eq deprived     A  1.761166e+02  \n",
       "2               kg NMVOC-Eq     B  1.397576e+00  \n",
       "3               kg NMVOC-Eq     A  1.637680e+00  \n",
       "4         disease incidence     B  2.990077e-05  \n",
       "5         disease incidence     A  2.872002e-05  \n",
       "6              kg CFC-11-Eq     B  2.451686e-06  \n",
       "7              kg CFC-11-Eq     A  2.760079e-06  \n",
       "8                  kg Sb-Eq     B  1.443926e-03  \n",
       "9                  kg Sb-Eq     A  1.784568e-03  \n",
       "10            dimensionless     B  1.987754e+03  \n",
       "11            dimensionless     A  1.848019e+03  \n",
       "12              kBq U235-Eq     B  1.573183e+01  \n",
       "13              kBq U235-Eq     A  1.729215e+01  \n",
       "14                     CTUh     B  1.493823e-07  \n",
       "15                     CTUh     A  1.383239e-07  \n",
       "16                     CTUh     B  3.249020e-06  \n",
       "17                     CTUh     A  4.082098e-06  \n",
       "18                     CTUh     B  3.398402e-06  \n",
       "19                     CTUh     A  4.220422e-06  \n",
       "20                     CTUh     B  2.172996e-07  \n",
       "21                     CTUh     A  2.224721e-07  \n",
       "22                     CTUh     B  8.473238e-08  \n",
       "23                     CTUh     A  9.183202e-08  \n",
       "24                     CTUh     B  3.020320e-07  \n",
       "25                     CTUh     A  3.143042e-07  \n",
       "26                 mol N-Eq     B  4.204837e+00  \n",
       "27                 mol N-Eq     A  5.177976e+00  \n",
       "28                  kg N-Eq     B  3.892305e-01  \n",
       "29                  kg N-Eq     A  4.719202e-01  \n",
       "30                  kg P-Eq     B  1.277886e-01  \n",
       "31                  kg P-Eq     A  1.353509e-01  \n",
       "32  MJ, net calorific value     B  3.806393e+03  \n",
       "33  MJ, net calorific value     A  4.067331e+03  \n",
       "34                     CTUe     B  3.512835e+01  \n",
       "35                     CTUe     A  3.191037e+01  \n",
       "36                     CTUe     B  1.727971e+03  \n",
       "37                     CTUe     A  1.187994e+03  \n",
       "38                     CTUe     B  1.763100e+03  \n",
       "39                     CTUe     A  1.219904e+03  \n",
       "40                kg CO2-Eq     B  2.607684e-01  \n",
       "41                kg CO2-Eq     A  2.145475e-01  \n",
       "42                kg CO2-Eq     B  3.912334e+02  \n",
       "43                kg CO2-Eq     A  5.615653e+02  \n",
       "44                kg CO2-Eq     B  2.004138e-01  \n",
       "45                kg CO2-Eq     A  1.851553e-01  \n",
       "46                kg CO2-Eq     B  3.916946e+02  \n",
       "47                kg CO2-Eq     A  5.619650e+02  \n",
       "48                mol H+-Eq     B  1.624189e+00  \n",
       "49                mol H+-Eq     A  1.760491e+00  "
      ]
     },
     "execution_count": 37,
     "metadata": {},
     "output_type": "execute_result"
    }
   ],
   "source": [
    "res# Visualition de la table de résultat"
   ]
  },
  {
   "cell_type": "markdown",
   "id": "616a59f6",
   "metadata": {},
   "source": [
    "On peut ajouter une colonne où l'on normalise par le maximum pour chaque indicateur"
   ]
  },
  {
   "cell_type": "code",
   "execution_count": 38,
   "id": "0f7eea47",
   "metadata": {},
   "outputs": [
    {
     "data": {
      "text/html": [
       "<div>\n",
       "<style scoped>\n",
       "    .dataframe tbody tr th:only-of-type {\n",
       "        vertical-align: middle;\n",
       "    }\n",
       "\n",
       "    .dataframe tbody tr th {\n",
       "        vertical-align: top;\n",
       "    }\n",
       "\n",
       "    .dataframe thead th {\n",
       "        text-align: right;\n",
       "    }\n",
       "</style>\n",
       "<table border=\"1\" class=\"dataframe\">\n",
       "  <thead>\n",
       "    <tr style=\"text-align: right;\">\n",
       "      <th></th>\n",
       "      <th>indicateur</th>\n",
       "      <th>unité</th>\n",
       "      <th>beton</th>\n",
       "      <th>score</th>\n",
       "      <th>score_norm</th>\n",
       "    </tr>\n",
       "  </thead>\n",
       "  <tbody>\n",
       "    <tr>\n",
       "      <th>0</th>\n",
       "      <td>('water use',)</td>\n",
       "      <td>m3 world Eq deprived</td>\n",
       "      <td>B</td>\n",
       "      <td>1.663520e+02</td>\n",
       "      <td>0.944556</td>\n",
       "    </tr>\n",
       "    <tr>\n",
       "      <th>1</th>\n",
       "      <td>('water use',)</td>\n",
       "      <td>m3 world Eq deprived</td>\n",
       "      <td>A</td>\n",
       "      <td>1.761166e+02</td>\n",
       "      <td>1.000000</td>\n",
       "    </tr>\n",
       "    <tr>\n",
       "      <th>2</th>\n",
       "      <td>('photochemical oxidant formation: human healt...</td>\n",
       "      <td>kg NMVOC-Eq</td>\n",
       "      <td>B</td>\n",
       "      <td>1.397576e+00</td>\n",
       "      <td>0.853388</td>\n",
       "    </tr>\n",
       "    <tr>\n",
       "      <th>3</th>\n",
       "      <td>('photochemical oxidant formation: human healt...</td>\n",
       "      <td>kg NMVOC-Eq</td>\n",
       "      <td>A</td>\n",
       "      <td>1.637680e+00</td>\n",
       "      <td>1.000000</td>\n",
       "    </tr>\n",
       "    <tr>\n",
       "      <th>4</th>\n",
       "      <td>('particulate matter formation',)</td>\n",
       "      <td>disease incidence</td>\n",
       "      <td>B</td>\n",
       "      <td>2.990077e-05</td>\n",
       "      <td>1.000000</td>\n",
       "    </tr>\n",
       "    <tr>\n",
       "      <th>5</th>\n",
       "      <td>('particulate matter formation',)</td>\n",
       "      <td>disease incidence</td>\n",
       "      <td>A</td>\n",
       "      <td>2.872002e-05</td>\n",
       "      <td>0.960511</td>\n",
       "    </tr>\n",
       "    <tr>\n",
       "      <th>6</th>\n",
       "      <td>('ozone depletion',)</td>\n",
       "      <td>kg CFC-11-Eq</td>\n",
       "      <td>B</td>\n",
       "      <td>2.451686e-06</td>\n",
       "      <td>0.888267</td>\n",
       "    </tr>\n",
       "    <tr>\n",
       "      <th>7</th>\n",
       "      <td>('ozone depletion',)</td>\n",
       "      <td>kg CFC-11-Eq</td>\n",
       "      <td>A</td>\n",
       "      <td>2.760079e-06</td>\n",
       "      <td>1.000000</td>\n",
       "    </tr>\n",
       "    <tr>\n",
       "      <th>8</th>\n",
       "      <td>('material resources: metals/minerals',)</td>\n",
       "      <td>kg Sb-Eq</td>\n",
       "      <td>B</td>\n",
       "      <td>1.443926e-03</td>\n",
       "      <td>0.809118</td>\n",
       "    </tr>\n",
       "    <tr>\n",
       "      <th>9</th>\n",
       "      <td>('material resources: metals/minerals',)</td>\n",
       "      <td>kg Sb-Eq</td>\n",
       "      <td>A</td>\n",
       "      <td>1.784568e-03</td>\n",
       "      <td>1.000000</td>\n",
       "    </tr>\n",
       "    <tr>\n",
       "      <th>10</th>\n",
       "      <td>('land use',)</td>\n",
       "      <td>dimensionless</td>\n",
       "      <td>B</td>\n",
       "      <td>1.987754e+03</td>\n",
       "      <td>1.000000</td>\n",
       "    </tr>\n",
       "    <tr>\n",
       "      <th>11</th>\n",
       "      <td>('land use',)</td>\n",
       "      <td>dimensionless</td>\n",
       "      <td>A</td>\n",
       "      <td>1.848019e+03</td>\n",
       "      <td>0.929702</td>\n",
       "    </tr>\n",
       "    <tr>\n",
       "      <th>12</th>\n",
       "      <td>('ionising radiation: human health',)</td>\n",
       "      <td>kBq U235-Eq</td>\n",
       "      <td>B</td>\n",
       "      <td>1.573183e+01</td>\n",
       "      <td>0.909767</td>\n",
       "    </tr>\n",
       "    <tr>\n",
       "      <th>13</th>\n",
       "      <td>('ionising radiation: human health',)</td>\n",
       "      <td>kBq U235-Eq</td>\n",
       "      <td>A</td>\n",
       "      <td>1.729215e+01</td>\n",
       "      <td>1.000000</td>\n",
       "    </tr>\n",
       "    <tr>\n",
       "      <th>14</th>\n",
       "      <td>('human toxicity: non-carcinogenic, organics',)</td>\n",
       "      <td>CTUh</td>\n",
       "      <td>B</td>\n",
       "      <td>1.493823e-07</td>\n",
       "      <td>1.000000</td>\n",
       "    </tr>\n",
       "    <tr>\n",
       "      <th>15</th>\n",
       "      <td>('human toxicity: non-carcinogenic, organics',)</td>\n",
       "      <td>CTUh</td>\n",
       "      <td>A</td>\n",
       "      <td>1.383239e-07</td>\n",
       "      <td>0.925972</td>\n",
       "    </tr>\n",
       "    <tr>\n",
       "      <th>16</th>\n",
       "      <td>('human toxicity: non-carcinogenic, inorganics',)</td>\n",
       "      <td>CTUh</td>\n",
       "      <td>B</td>\n",
       "      <td>3.249020e-06</td>\n",
       "      <td>0.795919</td>\n",
       "    </tr>\n",
       "    <tr>\n",
       "      <th>17</th>\n",
       "      <td>('human toxicity: non-carcinogenic, inorganics',)</td>\n",
       "      <td>CTUh</td>\n",
       "      <td>A</td>\n",
       "      <td>4.082098e-06</td>\n",
       "      <td>1.000000</td>\n",
       "    </tr>\n",
       "    <tr>\n",
       "      <th>18</th>\n",
       "      <td>('human toxicity: non-carcinogenic',)</td>\n",
       "      <td>CTUh</td>\n",
       "      <td>B</td>\n",
       "      <td>3.398402e-06</td>\n",
       "      <td>0.805228</td>\n",
       "    </tr>\n",
       "    <tr>\n",
       "      <th>19</th>\n",
       "      <td>('human toxicity: non-carcinogenic',)</td>\n",
       "      <td>CTUh</td>\n",
       "      <td>A</td>\n",
       "      <td>4.220422e-06</td>\n",
       "      <td>1.000000</td>\n",
       "    </tr>\n",
       "    <tr>\n",
       "      <th>20</th>\n",
       "      <td>('human toxicity: carcinogenic, organics',)</td>\n",
       "      <td>CTUh</td>\n",
       "      <td>B</td>\n",
       "      <td>2.172996e-07</td>\n",
       "      <td>0.976750</td>\n",
       "    </tr>\n",
       "    <tr>\n",
       "      <th>21</th>\n",
       "      <td>('human toxicity: carcinogenic, organics',)</td>\n",
       "      <td>CTUh</td>\n",
       "      <td>A</td>\n",
       "      <td>2.224721e-07</td>\n",
       "      <td>1.000000</td>\n",
       "    </tr>\n",
       "    <tr>\n",
       "      <th>22</th>\n",
       "      <td>('human toxicity: carcinogenic, inorganics',)</td>\n",
       "      <td>CTUh</td>\n",
       "      <td>B</td>\n",
       "      <td>8.473238e-08</td>\n",
       "      <td>0.922689</td>\n",
       "    </tr>\n",
       "    <tr>\n",
       "      <th>23</th>\n",
       "      <td>('human toxicity: carcinogenic, inorganics',)</td>\n",
       "      <td>CTUh</td>\n",
       "      <td>A</td>\n",
       "      <td>9.183202e-08</td>\n",
       "      <td>1.000000</td>\n",
       "    </tr>\n",
       "    <tr>\n",
       "      <th>24</th>\n",
       "      <td>('human toxicity: carcinogenic',)</td>\n",
       "      <td>CTUh</td>\n",
       "      <td>B</td>\n",
       "      <td>3.020320e-07</td>\n",
       "      <td>0.960955</td>\n",
       "    </tr>\n",
       "    <tr>\n",
       "      <th>25</th>\n",
       "      <td>('human toxicity: carcinogenic',)</td>\n",
       "      <td>CTUh</td>\n",
       "      <td>A</td>\n",
       "      <td>3.143042e-07</td>\n",
       "      <td>1.000000</td>\n",
       "    </tr>\n",
       "    <tr>\n",
       "      <th>26</th>\n",
       "      <td>('eutrophication: terrestrial',)</td>\n",
       "      <td>mol N-Eq</td>\n",
       "      <td>B</td>\n",
       "      <td>4.204837e+00</td>\n",
       "      <td>0.812062</td>\n",
       "    </tr>\n",
       "    <tr>\n",
       "      <th>27</th>\n",
       "      <td>('eutrophication: terrestrial',)</td>\n",
       "      <td>mol N-Eq</td>\n",
       "      <td>A</td>\n",
       "      <td>5.177976e+00</td>\n",
       "      <td>1.000000</td>\n",
       "    </tr>\n",
       "    <tr>\n",
       "      <th>28</th>\n",
       "      <td>('eutrophication: marine',)</td>\n",
       "      <td>kg N-Eq</td>\n",
       "      <td>B</td>\n",
       "      <td>3.892305e-01</td>\n",
       "      <td>0.824780</td>\n",
       "    </tr>\n",
       "    <tr>\n",
       "      <th>29</th>\n",
       "      <td>('eutrophication: marine',)</td>\n",
       "      <td>kg N-Eq</td>\n",
       "      <td>A</td>\n",
       "      <td>4.719202e-01</td>\n",
       "      <td>1.000000</td>\n",
       "    </tr>\n",
       "    <tr>\n",
       "      <th>30</th>\n",
       "      <td>('eutrophication: freshwater',)</td>\n",
       "      <td>kg P-Eq</td>\n",
       "      <td>B</td>\n",
       "      <td>1.277886e-01</td>\n",
       "      <td>0.944129</td>\n",
       "    </tr>\n",
       "    <tr>\n",
       "      <th>31</th>\n",
       "      <td>('eutrophication: freshwater',)</td>\n",
       "      <td>kg P-Eq</td>\n",
       "      <td>A</td>\n",
       "      <td>1.353509e-01</td>\n",
       "      <td>1.000000</td>\n",
       "    </tr>\n",
       "    <tr>\n",
       "      <th>32</th>\n",
       "      <td>('energy resources: non-renewable',)</td>\n",
       "      <td>MJ, net calorific value</td>\n",
       "      <td>B</td>\n",
       "      <td>3.806393e+03</td>\n",
       "      <td>0.935845</td>\n",
       "    </tr>\n",
       "    <tr>\n",
       "      <th>33</th>\n",
       "      <td>('energy resources: non-renewable',)</td>\n",
       "      <td>MJ, net calorific value</td>\n",
       "      <td>A</td>\n",
       "      <td>4.067331e+03</td>\n",
       "      <td>1.000000</td>\n",
       "    </tr>\n",
       "    <tr>\n",
       "      <th>34</th>\n",
       "      <td>('ecotoxicity: freshwater, organics',)</td>\n",
       "      <td>CTUe</td>\n",
       "      <td>B</td>\n",
       "      <td>3.512835e+01</td>\n",
       "      <td>1.000000</td>\n",
       "    </tr>\n",
       "    <tr>\n",
       "      <th>35</th>\n",
       "      <td>('ecotoxicity: freshwater, organics',)</td>\n",
       "      <td>CTUe</td>\n",
       "      <td>A</td>\n",
       "      <td>3.191037e+01</td>\n",
       "      <td>0.908394</td>\n",
       "    </tr>\n",
       "    <tr>\n",
       "      <th>36</th>\n",
       "      <td>('ecotoxicity: freshwater, inorganics',)</td>\n",
       "      <td>CTUe</td>\n",
       "      <td>B</td>\n",
       "      <td>1.727971e+03</td>\n",
       "      <td>1.000000</td>\n",
       "    </tr>\n",
       "    <tr>\n",
       "      <th>37</th>\n",
       "      <td>('ecotoxicity: freshwater, inorganics',)</td>\n",
       "      <td>CTUe</td>\n",
       "      <td>A</td>\n",
       "      <td>1.187994e+03</td>\n",
       "      <td>0.687508</td>\n",
       "    </tr>\n",
       "    <tr>\n",
       "      <th>38</th>\n",
       "      <td>('ecotoxicity: freshwater',)</td>\n",
       "      <td>CTUe</td>\n",
       "      <td>B</td>\n",
       "      <td>1.763100e+03</td>\n",
       "      <td>1.000000</td>\n",
       "    </tr>\n",
       "    <tr>\n",
       "      <th>39</th>\n",
       "      <td>('ecotoxicity: freshwater',)</td>\n",
       "      <td>CTUe</td>\n",
       "      <td>A</td>\n",
       "      <td>1.219904e+03</td>\n",
       "      <td>0.691909</td>\n",
       "    </tr>\n",
       "    <tr>\n",
       "      <th>40</th>\n",
       "      <td>('climate change: land use and land use change',)</td>\n",
       "      <td>kg CO2-Eq</td>\n",
       "      <td>B</td>\n",
       "      <td>2.607684e-01</td>\n",
       "      <td>1.000000</td>\n",
       "    </tr>\n",
       "    <tr>\n",
       "      <th>41</th>\n",
       "      <td>('climate change: land use and land use change',)</td>\n",
       "      <td>kg CO2-Eq</td>\n",
       "      <td>A</td>\n",
       "      <td>2.145475e-01</td>\n",
       "      <td>0.822751</td>\n",
       "    </tr>\n",
       "    <tr>\n",
       "      <th>42</th>\n",
       "      <td>('climate change: fossil',)</td>\n",
       "      <td>kg CO2-Eq</td>\n",
       "      <td>B</td>\n",
       "      <td>3.912334e+02</td>\n",
       "      <td>0.696684</td>\n",
       "    </tr>\n",
       "    <tr>\n",
       "      <th>43</th>\n",
       "      <td>('climate change: fossil',)</td>\n",
       "      <td>kg CO2-Eq</td>\n",
       "      <td>A</td>\n",
       "      <td>5.615653e+02</td>\n",
       "      <td>1.000000</td>\n",
       "    </tr>\n",
       "    <tr>\n",
       "      <th>44</th>\n",
       "      <td>('climate change: biogenic',)</td>\n",
       "      <td>kg CO2-Eq</td>\n",
       "      <td>B</td>\n",
       "      <td>2.004138e-01</td>\n",
       "      <td>1.000000</td>\n",
       "    </tr>\n",
       "    <tr>\n",
       "      <th>45</th>\n",
       "      <td>('climate change: biogenic',)</td>\n",
       "      <td>kg CO2-Eq</td>\n",
       "      <td>A</td>\n",
       "      <td>1.851553e-01</td>\n",
       "      <td>0.923865</td>\n",
       "    </tr>\n",
       "    <tr>\n",
       "      <th>46</th>\n",
       "      <td>('climate change',)</td>\n",
       "      <td>kg CO2-Eq</td>\n",
       "      <td>B</td>\n",
       "      <td>3.916946e+02</td>\n",
       "      <td>0.697009</td>\n",
       "    </tr>\n",
       "    <tr>\n",
       "      <th>47</th>\n",
       "      <td>('climate change',)</td>\n",
       "      <td>kg CO2-Eq</td>\n",
       "      <td>A</td>\n",
       "      <td>5.619650e+02</td>\n",
       "      <td>1.000000</td>\n",
       "    </tr>\n",
       "    <tr>\n",
       "      <th>48</th>\n",
       "      <td>('acidification',)</td>\n",
       "      <td>mol H+-Eq</td>\n",
       "      <td>B</td>\n",
       "      <td>1.624189e+00</td>\n",
       "      <td>0.922577</td>\n",
       "    </tr>\n",
       "    <tr>\n",
       "      <th>49</th>\n",
       "      <td>('acidification',)</td>\n",
       "      <td>mol H+-Eq</td>\n",
       "      <td>A</td>\n",
       "      <td>1.760491e+00</td>\n",
       "      <td>1.000000</td>\n",
       "    </tr>\n",
       "  </tbody>\n",
       "</table>\n",
       "</div>"
      ],
      "text/plain": [
       "                                           indicateur  \\\n",
       "0                                      ('water use',)   \n",
       "1                                      ('water use',)   \n",
       "2   ('photochemical oxidant formation: human healt...   \n",
       "3   ('photochemical oxidant formation: human healt...   \n",
       "4                   ('particulate matter formation',)   \n",
       "5                   ('particulate matter formation',)   \n",
       "6                                ('ozone depletion',)   \n",
       "7                                ('ozone depletion',)   \n",
       "8            ('material resources: metals/minerals',)   \n",
       "9            ('material resources: metals/minerals',)   \n",
       "10                                      ('land use',)   \n",
       "11                                      ('land use',)   \n",
       "12              ('ionising radiation: human health',)   \n",
       "13              ('ionising radiation: human health',)   \n",
       "14    ('human toxicity: non-carcinogenic, organics',)   \n",
       "15    ('human toxicity: non-carcinogenic, organics',)   \n",
       "16  ('human toxicity: non-carcinogenic, inorganics',)   \n",
       "17  ('human toxicity: non-carcinogenic, inorganics',)   \n",
       "18              ('human toxicity: non-carcinogenic',)   \n",
       "19              ('human toxicity: non-carcinogenic',)   \n",
       "20        ('human toxicity: carcinogenic, organics',)   \n",
       "21        ('human toxicity: carcinogenic, organics',)   \n",
       "22      ('human toxicity: carcinogenic, inorganics',)   \n",
       "23      ('human toxicity: carcinogenic, inorganics',)   \n",
       "24                  ('human toxicity: carcinogenic',)   \n",
       "25                  ('human toxicity: carcinogenic',)   \n",
       "26                   ('eutrophication: terrestrial',)   \n",
       "27                   ('eutrophication: terrestrial',)   \n",
       "28                        ('eutrophication: marine',)   \n",
       "29                        ('eutrophication: marine',)   \n",
       "30                    ('eutrophication: freshwater',)   \n",
       "31                    ('eutrophication: freshwater',)   \n",
       "32               ('energy resources: non-renewable',)   \n",
       "33               ('energy resources: non-renewable',)   \n",
       "34             ('ecotoxicity: freshwater, organics',)   \n",
       "35             ('ecotoxicity: freshwater, organics',)   \n",
       "36           ('ecotoxicity: freshwater, inorganics',)   \n",
       "37           ('ecotoxicity: freshwater, inorganics',)   \n",
       "38                       ('ecotoxicity: freshwater',)   \n",
       "39                       ('ecotoxicity: freshwater',)   \n",
       "40  ('climate change: land use and land use change',)   \n",
       "41  ('climate change: land use and land use change',)   \n",
       "42                        ('climate change: fossil',)   \n",
       "43                        ('climate change: fossil',)   \n",
       "44                      ('climate change: biogenic',)   \n",
       "45                      ('climate change: biogenic',)   \n",
       "46                                ('climate change',)   \n",
       "47                                ('climate change',)   \n",
       "48                                 ('acidification',)   \n",
       "49                                 ('acidification',)   \n",
       "\n",
       "                      unité beton         score  score_norm  \n",
       "0      m3 world Eq deprived     B  1.663520e+02    0.944556  \n",
       "1      m3 world Eq deprived     A  1.761166e+02    1.000000  \n",
       "2               kg NMVOC-Eq     B  1.397576e+00    0.853388  \n",
       "3               kg NMVOC-Eq     A  1.637680e+00    1.000000  \n",
       "4         disease incidence     B  2.990077e-05    1.000000  \n",
       "5         disease incidence     A  2.872002e-05    0.960511  \n",
       "6              kg CFC-11-Eq     B  2.451686e-06    0.888267  \n",
       "7              kg CFC-11-Eq     A  2.760079e-06    1.000000  \n",
       "8                  kg Sb-Eq     B  1.443926e-03    0.809118  \n",
       "9                  kg Sb-Eq     A  1.784568e-03    1.000000  \n",
       "10            dimensionless     B  1.987754e+03    1.000000  \n",
       "11            dimensionless     A  1.848019e+03    0.929702  \n",
       "12              kBq U235-Eq     B  1.573183e+01    0.909767  \n",
       "13              kBq U235-Eq     A  1.729215e+01    1.000000  \n",
       "14                     CTUh     B  1.493823e-07    1.000000  \n",
       "15                     CTUh     A  1.383239e-07    0.925972  \n",
       "16                     CTUh     B  3.249020e-06    0.795919  \n",
       "17                     CTUh     A  4.082098e-06    1.000000  \n",
       "18                     CTUh     B  3.398402e-06    0.805228  \n",
       "19                     CTUh     A  4.220422e-06    1.000000  \n",
       "20                     CTUh     B  2.172996e-07    0.976750  \n",
       "21                     CTUh     A  2.224721e-07    1.000000  \n",
       "22                     CTUh     B  8.473238e-08    0.922689  \n",
       "23                     CTUh     A  9.183202e-08    1.000000  \n",
       "24                     CTUh     B  3.020320e-07    0.960955  \n",
       "25                     CTUh     A  3.143042e-07    1.000000  \n",
       "26                 mol N-Eq     B  4.204837e+00    0.812062  \n",
       "27                 mol N-Eq     A  5.177976e+00    1.000000  \n",
       "28                  kg N-Eq     B  3.892305e-01    0.824780  \n",
       "29                  kg N-Eq     A  4.719202e-01    1.000000  \n",
       "30                  kg P-Eq     B  1.277886e-01    0.944129  \n",
       "31                  kg P-Eq     A  1.353509e-01    1.000000  \n",
       "32  MJ, net calorific value     B  3.806393e+03    0.935845  \n",
       "33  MJ, net calorific value     A  4.067331e+03    1.000000  \n",
       "34                     CTUe     B  3.512835e+01    1.000000  \n",
       "35                     CTUe     A  3.191037e+01    0.908394  \n",
       "36                     CTUe     B  1.727971e+03    1.000000  \n",
       "37                     CTUe     A  1.187994e+03    0.687508  \n",
       "38                     CTUe     B  1.763100e+03    1.000000  \n",
       "39                     CTUe     A  1.219904e+03    0.691909  \n",
       "40                kg CO2-Eq     B  2.607684e-01    1.000000  \n",
       "41                kg CO2-Eq     A  2.145475e-01    0.822751  \n",
       "42                kg CO2-Eq     B  3.912334e+02    0.696684  \n",
       "43                kg CO2-Eq     A  5.615653e+02    1.000000  \n",
       "44                kg CO2-Eq     B  2.004138e-01    1.000000  \n",
       "45                kg CO2-Eq     A  1.851553e-01    0.923865  \n",
       "46                kg CO2-Eq     B  3.916946e+02    0.697009  \n",
       "47                kg CO2-Eq     A  5.619650e+02    1.000000  \n",
       "48                mol H+-Eq     B  1.624189e+00    0.922577  \n",
       "49                mol H+-Eq     A  1.760491e+00    1.000000  "
      ]
     },
     "execution_count": 38,
     "metadata": {},
     "output_type": "execute_result"
    }
   ],
   "source": [
    "res['score_norm'] = [res.at[i,'score']/max(res[res.indicateur == res.at[i,'indicateur']]['score']) for i in res.index]\n",
    "res"
   ]
  },
  {
   "cell_type": "code",
   "execution_count": 39,
   "id": "58fa8711",
   "metadata": {},
   "outputs": [
    {
     "name": "stderr",
     "output_type": "stream",
     "text": [
      "/tmp/ipykernel_352716/3450322501.py:4: UserWarning: set_ticklabels() should only be used with a fixed number of ticks, i.e. after set_ticks() or using a FixedLocator.\n",
      "  g.ax.set_xticklabels(g.ax.get_xticklabels(), rotation=45, ha='right');\n"
     ]
    },
    {
     "data": {
      "image/png": "[encoded data removed]",
      "text/plain": [
       "<Figure size 2000x500 with 1 Axes>"
      ]
     },
     "metadata": {},
     "output_type": "display_data"
    }
   ],
   "source": [
    "# fig, ax = plt.subplots(figsize=(10,5))\n",
    "g=sns.catplot(data=res,x='indicateur',y='score_norm',kind='bar',hue='beton',errorbar=None)\n",
    "g.fig.set_size_inches(20, 5);\n",
    "g.ax.set_xticklabels(g.ax.get_xticklabels(), rotation=45, ha='right');"
   ]
  },
  {
   "cell_type": "markdown",
   "id": "c32b9703-c290-4823-8ff1-69661b988780",
   "metadata": {},
   "source": [
    "#### Exercice\n",
    "\n",
    "Sauriez-vous refaire cette comparaison avec une autre méthode d'impact ? Par exemple ReCiPe v1.03."
   ]
  },
  {
   "cell_type": "code",
   "execution_count": null,
   "id": "0feec99f-df25-4a6c-b93b-66acaf01079c",
   "metadata": {},
   "outputs": [],
   "source": []
  }
 ],
 "metadata": {
  "kernelspec": {
   "display_name": "Python 3 (ipykernel)",
   "language": "python",
   "name": "python3"
  },
  "language_info": {
   "codemirror_mode": {
    "name": "ipython",
    "version": 3
   },
   "file_extension": ".py",
   "mimetype": "text/x-python",
   "name": "python",
   "nbconvert_exporter": "python",
   "pygments_lexer": "ipython3",
   "version": "3.12.8"
  }
 },
 "nbformat": 4,
 "nbformat_minor": 5
}
